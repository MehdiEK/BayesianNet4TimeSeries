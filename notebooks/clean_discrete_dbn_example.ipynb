{
 "cells": [
  {
   "cell_type": "code",
   "execution_count": 1,
   "metadata": {},
   "outputs": [
    {
     "name": "stderr",
     "output_type": "stream",
     "text": [
      "c:\\Users\\elkan\\anaconda3\\envs\\time_series\\lib\\site-packages\\tqdm\\auto.py:21: TqdmWarning: IProgress not found. Please update jupyter and ipywidgets. See https://ipywidgets.readthedocs.io/en/stable/user_install.html\n",
      "  from .autonotebook import tqdm as notebook_tqdm\n"
     ]
    }
   ],
   "source": [
    "import pandas as pd\n",
    "import numpy as np\n",
    "import matplotlib.pyplot as plt \n",
    "\n",
    "from pgmpy.models import DynamicBayesianNetwork as DBN\n",
    "from pgmpy.inference import DBNInference"
   ]
  },
  {
   "cell_type": "markdown",
   "metadata": {},
   "source": [
    "### Generer des données "
   ]
  },
  {
   "cell_type": "markdown",
   "metadata": {},
   "source": [
    "Nous allons cnstruire un HMM très simple. \n",
    "\n",
    "Dans ce HMM, le vercteur d'état sera de dimension 1 et le vecteur de variables observé de dimension 1 également. Nous noterons \n",
    "- $S_t$ l'état à l'instant t\n",
    "- $Y_t$ la variable observé à l'instant t "
   ]
  },
  {
   "cell_type": "markdown",
   "metadata": {},
   "source": [
    "Dans notre exemple très simple, on suppose que l'état vérifie: \n",
    "$$ S_t \\in {-1, 0, 1}, Y_t \\in {-1, 0, 1} $$ "
   ]
  },
  {
   "cell_type": "markdown",
   "metadata": {},
   "source": [
    "On suppose que la table qui donne les changements d'états entre deux instants est le suivant:\n",
    "\n",
    "\\begin{array}{|c|c|c|c|}\n",
    "    \\hline\n",
    "    S_t \\rightarrow S_{t+1} & \\text{-1} & \\text{0} & \\text{1} \\\\\n",
    "    \\hline\n",
    "    \\text{-1} & \\text{0.5} & \\text{0.5} & \\text{0} \\\\\n",
    "    \\text{0} & \\text{0.2} & \\text{0.2} & \\text{0.6} \\\\\n",
    "    \\text{1} & \\text{0.} & \\text{0.9} & \\text{1} \\\\\n",
    "    \\hline\n",
    "\\end{array}\n",
    "\n",
    "et, que la dépendance de la variable d'observation à l'état s'écrit comme suit:\n",
    "\n",
    "\\begin{array}{|c|c|c|c|}\n",
    "    \\hline\n",
    "    S_t \\rightarrow Y_t & \\text{-1} & \\text{0} & \\text{1} \\\\\n",
    "    \\hline\n",
    "    \\text{-1} & \\text{0.8} & \\text{0.1} & \\text{0.1} \\\\\n",
    "    \\text{0} & \\text{0.} & \\text{1.} & \\text{0.} \\\\\n",
    "    \\text{1} & \\text{0.1} & \\text{0.1} & \\text{0.8} \\\\\n",
    "    \\hline\n",
    "\\end{array}\n"
   ]
  },
  {
   "cell_type": "code",
   "execution_count": 2,
   "metadata": {},
   "outputs": [],
   "source": [
    "# function to generate data \n",
    "\n",
    "def generate_data(nb):\n",
    "    \"\"\"\n",
    "    Given an integer generate data as describe above.\n",
    "\n",
    "    :params nb: int \n",
    "        Number of datapoints to generate\n",
    "\n",
    "    :return dictionary \n",
    "        Keys are \"States\" and \"Observations\". \n",
    "    \"\"\"\n",
    "    \n",
    "    # initialize state vector \n",
    "    S = np.zeros(nb, dtype=np.int16)\n",
    "    ps = {  # table as above\n",
    "        -1: [.5, .5, 0.], \n",
    "        0: [.2, .2, .6], \n",
    "        1: [0., .9, .1]\n",
    "    }\n",
    "    \n",
    "    # initialize observation vector\n",
    "    Y = np.zeros(nb, dtype=np.int16)\n",
    "    py = {  # table as above\n",
    "        -1: [.8, .1, .1], \n",
    "        0: [0., 1, 0.], \n",
    "        1: [.1, .1, .8]\n",
    "    }\n",
    "\n",
    "    for i in range(nb): \n",
    "        if i == 0:\n",
    "            S[i] = np.random.randint(-1, 2)\n",
    "        else: \n",
    "            S[i] = np.random.choice([-1, 0, 1], p=ps.get(S[i-1]))\n",
    "        Y[i] = np.random.choice([-1, 0, 1], p=py.get(S[i]))\n",
    "\n",
    "    return {\"States\": S, \"Observations\": Y}"
   ]
  },
  {
   "cell_type": "markdown",
   "metadata": {},
   "source": [
    "### Création du modèle"
   ]
  },
  {
   "cell_type": "markdown",
   "metadata": {},
   "source": [
    "doc: https://pgmpy.org/models/dbn.html"
   ]
  },
  {
   "cell_type": "markdown",
   "metadata": {},
   "source": [
    "La class DynamicBayesian network nécessite cependant que les données lui soient données sous un certain format. Nous préparons donc les données pour notr modèle."
   ]
  },
  {
   "cell_type": "code",
   "execution_count": 3,
   "metadata": {},
   "outputs": [
    {
     "name": "stdout",
     "output_type": "stream",
     "text": [
      "<class 'pandas.core.frame.DataFrame'>\n",
      "RangeIndex: 1000 entries, 0 to 999\n",
      "Data columns (total 20 columns):\n",
      " #   Column       Non-Null Count  Dtype  \n",
      "---  ------       --------------  -----  \n",
      " 0   (States, 0)  1000 non-null   float64\n",
      " 1   (Obs, 0)     1000 non-null   float64\n",
      " 2   (States, 1)  1000 non-null   float64\n",
      " 3   (Obs, 1)     1000 non-null   float64\n",
      " 4   (States, 2)  1000 non-null   float64\n",
      " 5   (Obs, 2)     1000 non-null   float64\n",
      " 6   (States, 3)  1000 non-null   float64\n",
      " 7   (Obs, 3)     1000 non-null   float64\n",
      " 8   (States, 4)  1000 non-null   float64\n",
      " 9   (Obs, 4)     1000 non-null   float64\n",
      " 10  (States, 5)  1000 non-null   float64\n",
      " 11  (Obs, 5)     1000 non-null   float64\n",
      " 12  (States, 6)  1000 non-null   float64\n",
      " 13  (Obs, 6)     1000 non-null   float64\n",
      " 14  (States, 7)  1000 non-null   float64\n",
      " 15  (Obs, 7)     1000 non-null   float64\n",
      " 16  (States, 8)  1000 non-null   float64\n",
      " 17  (Obs, 8)     1000 non-null   float64\n",
      " 18  (States, 9)  1000 non-null   float64\n",
      " 19  (Obs, 9)     1000 non-null   float64\n",
      "dtypes: float64(20)\n",
      "memory usage: 156.4 KB\n"
     ]
    }
   ],
   "source": [
    "# nb data points to generate\n",
    "nb_data_points = 10  # means 10 time steps\n",
    "\n",
    "\n",
    "# generate 1000 paths of 10 time steps\n",
    "data = [generate_data(nb_data_points) for _ in range(1000)]\n",
    "\n",
    "# define states and observations \n",
    "states = [d.get(\"States\") for d in data]\n",
    "obs = [d.get(\"Observations\") for d in data]\n",
    "\n",
    "# construct dataframe as required by DBN class\n",
    "matrix = np.zeros((1000, nb_data_points*2))\n",
    "for i in range(1000):\n",
    "    for j in range(nb_data_points):\n",
    "        matrix[i, 2*j] = states[i][j]\n",
    "        matrix[i, 2*j+1] = obs[i][j]\n",
    "\n",
    "# name columns as required by DBN class\n",
    "columns = []\n",
    "for j in range(nb_data_points):\n",
    "    columns.extend([(\"States\", j), (\"Obs\", j)])\n",
    "\n",
    "df_me = pd.DataFrame(matrix, columns=columns)\n",
    "\n",
    "df_me.info()"
   ]
  },
  {
   "cell_type": "markdown",
   "metadata": {},
   "source": [
    "A noter ci-dessus que pour entrapiner le DBN, les données doivent être données sous la forme d'un pandas dataframe et de la forme (nom du noeud, time slice)"
   ]
  },
  {
   "cell_type": "markdown",
   "metadata": {},
   "source": [
    "Désormais, nous pouvons construire un modèle et l'entraîner:"
   ]
  },
  {
   "cell_type": "code",
   "execution_count": 6,
   "metadata": {},
   "outputs": [
    {
     "name": "stdout",
     "output_type": "stream",
     "text": [
      "\n",
      "Note that you can also build the same model using this code:\n",
      "  \n",
      "    model.add_nodes_from(['State', 'Obs'])\n",
      "    model.add_edge(('State', 0), ('State', 1))\n",
      "    model.add_edge(('State', 0), ('Obs', 0))\n",
      "    model.add_edge(('State', 1), ('Obs', 1))\n",
      "\n"
     ]
    }
   ],
   "source": [
    "# build model \n",
    "dbn = DBN(\n",
    "    [\n",
    "        ((\"States\", 0), (\"Obs\", 0)),\n",
    "        ((\"States\", 0), (\"States\", 1)),\n",
    "        (('States', 1), (\"Obs\", 1))\n",
    "    ]\n",
    ")\n",
    "\n",
    "second_option = \"\"\" \n",
    "    model.add_nodes_from(['State', 'Obs'])\n",
    "    model.add_edge(('State', 0), ('State', 1))\n",
    "    model.add_edge(('State', 0), ('Obs', 0))\n",
    "    model.add_edge(('State', 1), ('Obs', 1))\n",
    "\"\"\"\n",
    "\n",
    "print(\"\\nNote that you can also build the same model using this code:\\n\", second_option)"
   ]
  },
  {
   "cell_type": "code",
   "execution_count": 7,
   "metadata": {},
   "outputs": [
    {
     "name": "stderr",
     "output_type": "stream",
     "text": [
      "WARNING:pgmpy:Replacing existing CPD for States_0\n",
      "WARNING:pgmpy:Replacing existing CPD for Obs_0\n",
      "WARNING:pgmpy:Replacing existing CPD for States_1\n",
      "WARNING:pgmpy:Replacing existing CPD for Obs_1\n",
      "WARNING:pgmpy:Replacing existing CPD for States_0\n",
      "WARNING:pgmpy:Replacing existing CPD for Obs_0\n",
      "WARNING:pgmpy:Replacing existing CPD for States_1\n",
      "WARNING:pgmpy:Replacing existing CPD for Obs_1\n",
      "WARNING:pgmpy:Replacing existing CPD for States_0\n",
      "WARNING:pgmpy:Replacing existing CPD for Obs_0\n",
      "WARNING:pgmpy:Replacing existing CPD for States_1\n",
      "WARNING:pgmpy:Replacing existing CPD for Obs_1\n",
      "WARNING:pgmpy:Replacing existing CPD for States_0\n",
      "WARNING:pgmpy:Replacing existing CPD for Obs_0\n",
      "WARNING:pgmpy:Replacing existing CPD for States_1\n",
      "WARNING:pgmpy:Replacing existing CPD for Obs_1\n",
      "WARNING:pgmpy:Replacing existing CPD for States_0\n",
      "WARNING:pgmpy:Replacing existing CPD for Obs_0\n",
      "WARNING:pgmpy:Replacing existing CPD for States_1\n",
      "WARNING:pgmpy:Replacing existing CPD for Obs_1\n",
      "WARNING:pgmpy:Replacing existing CPD for States_0\n",
      "WARNING:pgmpy:Replacing existing CPD for Obs_0\n",
      "WARNING:pgmpy:Replacing existing CPD for States_1\n",
      "WARNING:pgmpy:Replacing existing CPD for Obs_1\n",
      "WARNING:pgmpy:Replacing existing CPD for States_0\n",
      "WARNING:pgmpy:Replacing existing CPD for Obs_0\n",
      "WARNING:pgmpy:Replacing existing CPD for States_1\n",
      "WARNING:pgmpy:Replacing existing CPD for Obs_1\n",
      "WARNING:pgmpy:Replacing existing CPD for States_0\n",
      "WARNING:pgmpy:Replacing existing CPD for Obs_0\n",
      "WARNING:pgmpy:Replacing existing CPD for States_1\n",
      "WARNING:pgmpy:Replacing existing CPD for Obs_1\n"
     ]
    }
   ],
   "source": [
    "# train the model \n",
    "dbn.fit(df_me)"
   ]
  },
  {
   "cell_type": "markdown",
   "metadata": {},
   "source": [
    "Maintenant que le modèle est entraîné, nous pouvons vérifier s'il a bien retrouvé la loi avec laquelle nous avons construit nos données: "
   ]
  },
  {
   "cell_type": "code",
   "execution_count": 8,
   "metadata": {},
   "outputs": [
    {
     "name": "stdout",
     "output_type": "stream",
     "text": [
      "+----------------+----------+\n",
      "| (States, 0)(0) | 0.231222 |\n",
      "+----------------+----------+\n",
      "| (States, 0)(1) | 0.464333 |\n",
      "+----------------+----------+\n",
      "| (States, 0)(2) | 0.304444 |\n",
      "+----------------+----------+\n",
      "+-------------+---------------------+----------------+---------------------+\n",
      "| (States, 0) | (States, 0)(0)      | (States, 0)(1) | (States, 0)(2)      |\n",
      "+-------------+---------------------+----------------+---------------------+\n",
      "| (Obs, 0)(0) | 0.7808469055814456  | 0.0            | 0.09948241205027579 |\n",
      "+-------------+---------------------+----------------+---------------------+\n",
      "| (Obs, 0)(1) | 0.1062428840589589  | 1.0            | 0.09658920553625065 |\n",
      "+-------------+---------------------+----------------+---------------------+\n",
      "| (Obs, 0)(2) | 0.11291021035959543 | 0.0            | 0.8039283824134735  |\n",
      "+-------------+---------------------+----------------+---------------------+\n",
      "+----------------+-----+---------------------+\n",
      "| (States, 0)    | ... | (States, 0)(2)      |\n",
      "+----------------+-----+---------------------+\n",
      "| (States, 1)(0) | ... | 0.0                 |\n",
      "+----------------+-----+---------------------+\n",
      "| (States, 1)(1) | ... | 0.9063981190106001  |\n",
      "+----------------+-----+---------------------+\n",
      "| (States, 1)(2) | ... | 0.09360188098939991 |\n",
      "+----------------+-----+---------------------+\n",
      "+-------------+---------------------+----------------+---------------------+\n",
      "| (States, 1) | (States, 1)(0)      | (States, 1)(1) | (States, 1)(2)      |\n",
      "+-------------+---------------------+----------------+---------------------+\n",
      "| (Obs, 1)(0) | 0.793111253261316   | 0.0            | 0.10680447431498795 |\n",
      "+-------------+---------------------+----------------+---------------------+\n",
      "| (Obs, 1)(1) | 0.11373983633442313 | 1.0            | 0.09000214543680267 |\n",
      "+-------------+---------------------+----------------+---------------------+\n",
      "| (Obs, 1)(2) | 0.09314891040426092 | 0.0            | 0.8031933802482094  |\n",
      "+-------------+---------------------+----------------+---------------------+\n"
     ]
    }
   ],
   "source": [
    "for cpd in dbn.get_cpds():\n",
    "    print(cpd)"
   ]
  },
  {
   "cell_type": "markdown",
   "metadata": {},
   "source": [
    "Dans le deuxième tableau, on retrouve bien la table qui nous a permis le changement d'étant d'un instant t à un instant t+1. De même, dans le dernier tableau on retrouve la table qui lie l'état à l'observation à chaque instant t. \n",
    "\n",
    "Notons tout de même, que cela n'a rien d'impressionnant (consiste essentiellement en des calculs de moyennes) mais nous permet simplement de vérifier le bon fonctionnement de notre code et donc d'un début de compréhension. \n",
    "\n",
    "Nous pouvons souligner ici les limites de l'estimation des paramètres par maximum de vraisemblance. En effet, dans un cas avec très peu de données et sans prior imposé, nous avons de grandes chances d'overfit les données d'entraînement. \n",
    "\n",
    "Toutefois, le modèle présente de nombreux avantages. Nous pouvons voir les bénéfices d'un tel modèle dans son utilisation en inférence:"
   ]
  },
  {
   "cell_type": "markdown",
   "metadata": {},
   "source": [
    "### Inference"
   ]
  },
  {
   "cell_type": "markdown",
   "metadata": {},
   "source": [
    "Une question que l'on pourrait se poser lorsque nous utilisons un HMM est: étant donné une observation à l'instant t=0, quel sera l'état à l'instant t+1 ? "
   ]
  },
  {
   "cell_type": "code",
   "execution_count": 46,
   "metadata": {},
   "outputs": [
    {
     "name": "stderr",
     "output_type": "stream",
     "text": [
      "WARNING:pgmpy:Replacing existing CPD for (States, 1)\n"
     ]
    },
    {
     "name": "stdout",
     "output_type": "stream",
     "text": [
      " \n",
      "    /!\\ evidence = {('Obs', 0): 1} does not mean that observation at time 0 \n",
      "    is 1 but that observation at time 0 is 0. In fact, reading error messages, \n",
      "    it seems that the value in the dictionary is used as index not as value. \n",
      "    \n",
      " Code for testing yourself: set evidence = {('Obs', 0): 27} raise \n",
      "    IndexError: index 27 is out of bounds for axis 0 with size .\n",
      "    \n",
      " You can also notice that if you set value to -1 or 2 (i.e nb of states)\n",
      "    you get the same results.\n",
      "\n",
      "Get probability for each state [0.21106712 0.25036956 0.53856332]\n"
     ]
    }
   ],
   "source": [
    "# this cell is just to show an example \n",
    "# framework pour l'inférence des DBN \n",
    "inference = DBNInference(dbn)\n",
    "\n",
    "# known observation\n",
    "evidence = {('Obs', 0): 1}  # value must be indice \n",
    "\n",
    "message = \"\"\" \n",
    "    /!\\ evidence = {('Obs', 0): 1} does not mean that observation at time 0 \n",
    "    is 1 but that observation at time 0 is 0. In fact, reading error messages, \n",
    "    it seems that the value in the dictionary is used as index not as value. \n",
    "    \\n Code for testing yourself: set evidence = {('Obs', 0): 27} raise \n",
    "    IndexError: index 27 is out of bounds for axis 0 with size .\n",
    "    \\n You can also notice that if you set value to -1 or 2 (i.e nb of states)\n",
    "    you get the same results.\n",
    "\"\"\"\n",
    "print(message)\n",
    "\n",
    "# result of question given evidence what about variable\n",
    "result = inference.query(variables=[('States', 1)], evidence=evidence)\n",
    "print(\"Get probability for each state\", result[(\"States\", 1)].values)"
   ]
  },
  {
   "cell_type": "markdown",
   "metadata": {},
   "source": [
    "Etudions le cas où nous observons une valeur de -1 à l'instant 0. Quel serait la valeur de l'état à l'instant 1 ? "
   ]
  },
  {
   "cell_type": "code",
   "execution_count": 43,
   "metadata": {},
   "outputs": [
    {
     "name": "stderr",
     "output_type": "stream",
     "text": [
      "WARNING:pgmpy:Replacing existing CPD for (States, 1)\n"
     ]
    },
    {
     "data": {
      "text/plain": [
       "Text(0, 0.5, 'Proba')"
      ]
     },
     "execution_count": 43,
     "metadata": {},
     "output_type": "execute_result"
    },
    {
     "data": {
      "image/png": "[encoded data removed]",
      "text/plain": [
       "<Figure size 640x480 with 1 Axes>"
      ]
     },
     "metadata": {},
     "output_type": "display_data"
    }
   ],
   "source": [
    "# framework pour l'inférence des DBN \n",
    "inference = DBNInference(dbn)\n",
    "\n",
    "# known observation\n",
    "evidence = {('Obs', 0): 1}  # value must be indice \n",
    "\n",
    "# result of question given evidence what about variable\n",
    "result = inference.query(variables=[('States', 1)], evidence=evidence)\n",
    "proba = result[(\"States\", 1)].values\n",
    "\n",
    "plt.title(\"Valeur de $S_1$ sachant une observation $Y_0=0$\")\n",
    "plt.bar(np.arange(-1, 2), proba, width=0.4)\n",
    "plt.xlabel(\"State\")\n",
    "plt.ylabel(\"Proba\")"
   ]
  },
  {
   "cell_type": "markdown",
   "metadata": {},
   "source": [
    "Ce résultat est cohérent. Je n'ai pas refait le calcul mais en observant $Y_0 = 0$, il y a de grandes chances qu'on soit dans l'état $S_0=0$ (selon la table de passage de S à Y). Puis, cette fois en regardant la table de passage de l'instant t à t+1, $S_1$ à de bonnes chances de valoir 1 si $S_0=0$."
   ]
  },
  {
   "cell_type": "code",
   "execution_count": 44,
   "metadata": {},
   "outputs": [
    {
     "name": "stderr",
     "output_type": "stream",
     "text": [
      "WARNING:pgmpy:Replacing existing CPD for (States, 1)\n",
      "c:\\Users\\elkan\\anaconda3\\envs\\time_series\\lib\\site-packages\\pgmpy\\factors\\discrete\\DiscreteFactor.py:799: RuntimeWarning: divide by zero encountered in divide\n",
      "  phi.values = phi.values / phi1.values\n",
      "c:\\Users\\elkan\\anaconda3\\envs\\time_series\\lib\\site-packages\\pgmpy\\factors\\discrete\\DiscreteFactor.py:799: RuntimeWarning: invalid value encountered in divide\n",
      "  phi.values = phi.values / phi1.values\n"
     ]
    },
    {
     "data": {
      "image/png": "[encoded data removed]",
      "text/plain": [
       "<Figure size 1500x700 with 2 Axes>"
      ]
     },
     "metadata": {},
     "output_type": "display_data"
    }
   ],
   "source": [
    "# framework pour l'inférence des DBN \n",
    "inference = DBNInference(dbn)\n",
    "\n",
    "# known observation\n",
    "evidences = [{('Obs', 0): 0}, {('Obs', 0): 2}]  \n",
    "\n",
    "# result of question given evidence what about variable\n",
    "fig, ax = plt.subplots(1, 2, figsize=(15, 7))\n",
    "\n",
    "for i, evidence in enumerate(evidences): \n",
    "    result = inference.query(variables=[('States', 1)], evidence=evidence)\n",
    "    proba = result[(\"States\", 1)].values\n",
    "\n",
    "    y0 = evidence.get(('Obs', 0))\n",
    "    ax[i].set_title(f\"Valeur de $S_1$ sachant une observation $Y_0$={y0-1}\")\n",
    "    ax[i].bar(np.arange(-1, 2), proba, width=0.4)\n",
    "    ax[i].set_xlabel(\"State\")\n",
    "    ax[i].set_ylabel(\"Proba\")"
   ]
  },
  {
   "cell_type": "markdown",
   "metadata": {},
   "source": [
    "Encore une fois, à l'intuition on peut expliquer ces résultats. Pour être sûr à 100%, nous pourrons éventuellement refaire les calculs manuellement. "
   ]
  },
  {
   "cell_type": "markdown",
   "metadata": {},
   "source": [
    "### Conclusion"
   ]
  },
  {
   "cell_type": "markdown",
   "metadata": {},
   "source": [
    "Ainsi, un intérêt du DBN malgré l'exemple simplissime est sa capacité à évaluer un risque. En effet, supposons que l'état $S = -1$ représente un risque qu'il nous faudrait anticiper. En observant par exemple aujourd'hui $Y_0 = 0$ on pourrait mesurer le risque que demain on soit dans l'état $S_1 = -1$ égal dans notre cas à 21%.\n",
    "\n",
    "Il reste maintenant à voir dans quelles contextes réels les réseaux bayésiens à noeuds discrets peuvent être utiles.  "
   ]
  }
 ],
 "metadata": {
  "kernelspec": {
   "display_name": "time_series",
   "language": "python",
   "name": "python3"
  },
  "language_info": {
   "codemirror_mode": {
    "name": "ipython",
    "version": 3
   },
   "file_extension": ".py",
   "mimetype": "text/x-python",
   "name": "python",
   "nbconvert_exporter": "python",
   "pygments_lexer": "ipython3",
   "version": "0.0.0"
  }
 },
 "nbformat": 4,
 "nbformat_minor": 2
}
