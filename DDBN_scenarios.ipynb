{
 "cells": [
  {
   "cell_type": "code",
   "execution_count": 1,
   "metadata": {},
   "outputs": [
    {
     "name": "stderr",
     "output_type": "stream",
     "text": [
      "c:\\Users\\victo\\anaconda3\\envs\\TimeSeries\\Lib\\site-packages\\tqdm\\auto.py:21: TqdmWarning: IProgress not found. Please update jupyter and ipywidgets. See https://ipywidgets.readthedocs.io/en/stable/user_install.html\n",
      "  from .autonotebook import tqdm as notebook_tqdm\n"
     ]
    }
   ],
   "source": [
    "import pandas as pd\n",
    "import numpy as np\n",
    "import matplotlib.pyplot as plt\n",
    "import seaborn as sns\n",
    "from statsmodels.tsa.stattools import adfuller \n",
    "from statsmodels.tsa.arima.model import ARIMA\n",
    "from statsmodels.graphics.tsaplots import plot_acf, plot_pacf\n",
    "\n",
    "from pgmpy.models import DynamicBayesianNetwork as DBN\n",
    "from pgmpy.inference import DBNInference\n",
    "\n",
    "from models.model_v0 import DumbDiscretizer, pgmpy_friendly_transformer, CustomDBNInference"
   ]
  },
  {
   "cell_type": "markdown",
   "metadata": {},
   "source": [
    "# I. General settings"
   ]
  },
  {
   "cell_type": "code",
   "execution_count": 2,
   "metadata": {},
   "outputs": [],
   "source": [
    "# load data parameters \n",
    "countries = ['France', 'Germany', 'United Kingdom', 'Italy', 'Spain', 'Japan', \n",
    "             'Sweden', 'Switzerland', 'Belgium', 'Australia', 'Austria', 'China', \n",
    "             'Croatia', 'Finland', 'Greece', 'India', 'New Zealand', \n",
    "             'Russia', 'Poland']\n",
    "columns = ['year', 'population', 'gdp', 'energy_per_capita', 'country']\n",
    "\n",
    "test_countries = ['France', 'Germany', 'United Kingdom', 'Italy', 'Poland']\n",
    "\n",
    "# preprocessing parameters\n",
    "split_year = 2003  # trainset until split_year\n",
    "sliding_window = 2\n",
    "# define discretization strategy\n",
    "nb_classes = {  # nb of classes for each variable\n",
    "    \"gdp_per_capita_stationary\": 10,  \n",
    "    \"population_stationary\": 10, \n",
    "    \"energy_cons_stationary\": 5\n",
    "}\n",
    "\n",
    "# model parameters\n"
   ]
  },
  {
   "cell_type": "markdown",
   "metadata": {},
   "source": [
    "# II. Load data"
   ]
  },
  {
   "cell_type": "markdown",
   "metadata": {},
   "source": [
    "### Load raw data "
   ]
  },
  {
   "cell_type": "code",
   "execution_count": 3,
   "metadata": {},
   "outputs": [
    {
     "name": "stdout",
     "output_type": "stream",
     "text": [
      "<class 'pandas.core.frame.DataFrame'>\n",
      "RangeIndex: 22012 entries, 0 to 22011\n",
      "Columns: 129 entries, country to wind_share_energy\n",
      "dtypes: float64(126), int64(1), object(2)\n",
      "memory usage: 21.7+ MB\n"
     ]
    }
   ],
   "source": [
    "all_data = pd.read_csv(\"data/WorldEnergyConsumption.csv\")\n",
    "all_data.info()"
   ]
  },
  {
   "cell_type": "markdown",
   "metadata": {},
   "source": [
    "### Select columns"
   ]
  },
  {
   "cell_type": "code",
   "execution_count": 4,
   "metadata": {},
   "outputs": [
    {
     "data": {
      "text/html": [
       "<div>\n",
       "<style scoped>\n",
       "    .dataframe tbody tr th:only-of-type {\n",
       "        vertical-align: middle;\n",
       "    }\n",
       "\n",
       "    .dataframe tbody tr th {\n",
       "        vertical-align: top;\n",
       "    }\n",
       "\n",
       "    .dataframe thead th {\n",
       "        text-align: right;\n",
       "    }\n",
       "</style>\n",
       "<table border=\"1\" class=\"dataframe\">\n",
       "  <thead>\n",
       "    <tr style=\"text-align: right;\">\n",
       "      <th></th>\n",
       "      <th>year</th>\n",
       "      <th>population</th>\n",
       "      <th>gdp</th>\n",
       "      <th>energy_per_capita</th>\n",
       "    </tr>\n",
       "  </thead>\n",
       "  <tbody>\n",
       "    <tr>\n",
       "      <th>count</th>\n",
       "      <td>22012.000000</td>\n",
       "      <td>1.812300e+04</td>\n",
       "      <td>1.111300e+04</td>\n",
       "      <td>10602.000000</td>\n",
       "    </tr>\n",
       "    <tr>\n",
       "      <th>mean</th>\n",
       "      <td>1974.213247</td>\n",
       "      <td>1.053096e+08</td>\n",
       "      <td>3.585114e+11</td>\n",
       "      <td>25742.760033</td>\n",
       "    </tr>\n",
       "    <tr>\n",
       "      <th>std</th>\n",
       "      <td>35.058653</td>\n",
       "      <td>4.640460e+08</td>\n",
       "      <td>2.411179e+12</td>\n",
       "      <td>36122.506628</td>\n",
       "    </tr>\n",
       "    <tr>\n",
       "      <th>min</th>\n",
       "      <td>1900.000000</td>\n",
       "      <td>1.833000e+03</td>\n",
       "      <td>1.642060e+08</td>\n",
       "      <td>0.000000</td>\n",
       "    </tr>\n",
       "    <tr>\n",
       "      <th>25%</th>\n",
       "      <td>1946.000000</td>\n",
       "      <td>1.712404e+06</td>\n",
       "      <td>1.365898e+10</td>\n",
       "      <td>3101.076250</td>\n",
       "    </tr>\n",
       "    <tr>\n",
       "      <th>50%</th>\n",
       "      <td>1984.000000</td>\n",
       "      <td>6.991543e+06</td>\n",
       "      <td>4.167411e+10</td>\n",
       "      <td>13597.986000</td>\n",
       "    </tr>\n",
       "    <tr>\n",
       "      <th>75%</th>\n",
       "      <td>2003.000000</td>\n",
       "      <td>2.557688e+07</td>\n",
       "      <td>1.744295e+11</td>\n",
       "      <td>36847.052500</td>\n",
       "    </tr>\n",
       "    <tr>\n",
       "      <th>max</th>\n",
       "      <td>2022.000000</td>\n",
       "      <td>7.975105e+09</td>\n",
       "      <td>1.136302e+14</td>\n",
       "      <td>657539.188000</td>\n",
       "    </tr>\n",
       "  </tbody>\n",
       "</table>\n",
       "</div>"
      ],
      "text/plain": [
       "               year    population           gdp  energy_per_capita\n",
       "count  22012.000000  1.812300e+04  1.111300e+04       10602.000000\n",
       "mean    1974.213247  1.053096e+08  3.585114e+11       25742.760033\n",
       "std       35.058653  4.640460e+08  2.411179e+12       36122.506628\n",
       "min     1900.000000  1.833000e+03  1.642060e+08           0.000000\n",
       "25%     1946.000000  1.712404e+06  1.365898e+10        3101.076250\n",
       "50%     1984.000000  6.991543e+06  4.167411e+10       13597.986000\n",
       "75%     2003.000000  2.557688e+07  1.744295e+11       36847.052500\n",
       "max     2022.000000  7.975105e+09  1.136302e+14      657539.188000"
      ]
     },
     "execution_count": 4,
     "metadata": {},
     "output_type": "execute_result"
    }
   ],
   "source": [
    "data = all_data[columns]\n",
    "data.describe()"
   ]
  },
  {
   "cell_type": "code",
   "execution_count": 5,
   "metadata": {},
   "outputs": [
    {
     "data": {
      "text/html": [
       "<div>\n",
       "<style scoped>\n",
       "    .dataframe tbody tr th:only-of-type {\n",
       "        vertical-align: middle;\n",
       "    }\n",
       "\n",
       "    .dataframe tbody tr th {\n",
       "        vertical-align: top;\n",
       "    }\n",
       "\n",
       "    .dataframe thead th {\n",
       "        text-align: right;\n",
       "    }\n",
       "</style>\n",
       "<table border=\"1\" class=\"dataframe\">\n",
       "  <thead>\n",
       "    <tr style=\"text-align: right;\">\n",
       "      <th></th>\n",
       "      <th>year</th>\n",
       "      <th>population</th>\n",
       "      <th>gdp</th>\n",
       "      <th>energy_per_capita</th>\n",
       "      <th>country</th>\n",
       "    </tr>\n",
       "  </thead>\n",
       "  <tbody>\n",
       "    <tr>\n",
       "      <th>16332</th>\n",
       "      <td>1900</td>\n",
       "      <td>24312686.0</td>\n",
       "      <td>6.682500e+10</td>\n",
       "      <td>NaN</td>\n",
       "      <td>Poland</td>\n",
       "    </tr>\n",
       "    <tr>\n",
       "      <th>16333</th>\n",
       "      <td>1901</td>\n",
       "      <td>24489736.0</td>\n",
       "      <td>NaN</td>\n",
       "      <td>NaN</td>\n",
       "      <td>Poland</td>\n",
       "    </tr>\n",
       "    <tr>\n",
       "      <th>16334</th>\n",
       "      <td>1902</td>\n",
       "      <td>24665156.0</td>\n",
       "      <td>NaN</td>\n",
       "      <td>NaN</td>\n",
       "      <td>Poland</td>\n",
       "    </tr>\n",
       "    <tr>\n",
       "      <th>16335</th>\n",
       "      <td>1903</td>\n",
       "      <td>24838911.0</td>\n",
       "      <td>NaN</td>\n",
       "      <td>NaN</td>\n",
       "      <td>Poland</td>\n",
       "    </tr>\n",
       "    <tr>\n",
       "      <th>16336</th>\n",
       "      <td>1904</td>\n",
       "      <td>25013887.0</td>\n",
       "      <td>NaN</td>\n",
       "      <td>NaN</td>\n",
       "      <td>Poland</td>\n",
       "    </tr>\n",
       "    <tr>\n",
       "      <th>...</th>\n",
       "      <td>...</td>\n",
       "      <td>...</td>\n",
       "      <td>...</td>\n",
       "      <td>...</td>\n",
       "      <td>...</td>\n",
       "    </tr>\n",
       "    <tr>\n",
       "      <th>16450</th>\n",
       "      <td>2018</td>\n",
       "      <td>38521464.0</td>\n",
       "      <td>1.053479e+12</td>\n",
       "      <td>31661.174</td>\n",
       "      <td>Poland</td>\n",
       "    </tr>\n",
       "    <tr>\n",
       "      <th>16451</th>\n",
       "      <td>2019</td>\n",
       "      <td>38493600.0</td>\n",
       "      <td>NaN</td>\n",
       "      <td>30777.799</td>\n",
       "      <td>Poland</td>\n",
       "    </tr>\n",
       "    <tr>\n",
       "      <th>16452</th>\n",
       "      <td>2020</td>\n",
       "      <td>38428368.0</td>\n",
       "      <td>NaN</td>\n",
       "      <td>29514.133</td>\n",
       "      <td>Poland</td>\n",
       "    </tr>\n",
       "    <tr>\n",
       "      <th>16453</th>\n",
       "      <td>2021</td>\n",
       "      <td>38307724.0</td>\n",
       "      <td>NaN</td>\n",
       "      <td>32001.074</td>\n",
       "      <td>Poland</td>\n",
       "    </tr>\n",
       "    <tr>\n",
       "      <th>16454</th>\n",
       "      <td>2022</td>\n",
       "      <td>39857144.0</td>\n",
       "      <td>NaN</td>\n",
       "      <td>30065.420</td>\n",
       "      <td>Poland</td>\n",
       "    </tr>\n",
       "  </tbody>\n",
       "</table>\n",
       "<p>123 rows × 5 columns</p>\n",
       "</div>"
      ],
      "text/plain": [
       "       year  population           gdp  energy_per_capita country\n",
       "16332  1900  24312686.0  6.682500e+10                NaN  Poland\n",
       "16333  1901  24489736.0           NaN                NaN  Poland\n",
       "16334  1902  24665156.0           NaN                NaN  Poland\n",
       "16335  1903  24838911.0           NaN                NaN  Poland\n",
       "16336  1904  25013887.0           NaN                NaN  Poland\n",
       "...     ...         ...           ...                ...     ...\n",
       "16450  2018  38521464.0  1.053479e+12          31661.174  Poland\n",
       "16451  2019  38493600.0           NaN          30777.799  Poland\n",
       "16452  2020  38428368.0           NaN          29514.133  Poland\n",
       "16453  2021  38307724.0           NaN          32001.074  Poland\n",
       "16454  2022  39857144.0           NaN          30065.420  Poland\n",
       "\n",
       "[123 rows x 5 columns]"
      ]
     },
     "execution_count": 5,
     "metadata": {},
     "output_type": "execute_result"
    }
   ],
   "source": [
    "data[data.country=='Poland']"
   ]
  },
  {
   "cell_type": "markdown",
   "metadata": {},
   "source": [
    "### Select countries"
   ]
  },
  {
   "cell_type": "code",
   "execution_count": 6,
   "metadata": {},
   "outputs": [
    {
     "data": {
      "text/html": [
       "<div>\n",
       "<style scoped>\n",
       "    .dataframe tbody tr th:only-of-type {\n",
       "        vertical-align: middle;\n",
       "    }\n",
       "\n",
       "    .dataframe tbody tr th {\n",
       "        vertical-align: top;\n",
       "    }\n",
       "\n",
       "    .dataframe thead th {\n",
       "        text-align: right;\n",
       "    }\n",
       "</style>\n",
       "<table border=\"1\" class=\"dataframe\">\n",
       "  <thead>\n",
       "    <tr style=\"text-align: right;\">\n",
       "      <th></th>\n",
       "      <th>year</th>\n",
       "      <th>population</th>\n",
       "      <th>gdp</th>\n",
       "      <th>energy_per_capita</th>\n",
       "      <th>country</th>\n",
       "    </tr>\n",
       "  </thead>\n",
       "  <tbody>\n",
       "    <tr>\n",
       "      <th>4924</th>\n",
       "      <td>2013</td>\n",
       "      <td>4.308854e+06</td>\n",
       "      <td>7.747952e+10</td>\n",
       "      <td>22296.646</td>\n",
       "      <td>Croatia</td>\n",
       "    </tr>\n",
       "    <tr>\n",
       "      <th>18869</th>\n",
       "      <td>2009</td>\n",
       "      <td>7.734402e+06</td>\n",
       "      <td>4.349436e+11</td>\n",
       "      <td>46436.273</td>\n",
       "      <td>Switzerland</td>\n",
       "    </tr>\n",
       "    <tr>\n",
       "      <th>16397</th>\n",
       "      <td>1965</td>\n",
       "      <td>3.122409e+07</td>\n",
       "      <td>1.886996e+11</td>\n",
       "      <td>24854.314</td>\n",
       "      <td>Poland</td>\n",
       "    </tr>\n",
       "    <tr>\n",
       "      <th>4375</th>\n",
       "      <td>1992</td>\n",
       "      <td>1.183813e+09</td>\n",
       "      <td>3.755037e+12</td>\n",
       "      <td>7411.395</td>\n",
       "      <td>China</td>\n",
       "    </tr>\n",
       "    <tr>\n",
       "      <th>18838</th>\n",
       "      <td>1978</td>\n",
       "      <td>6.281527e+06</td>\n",
       "      <td>1.656524e+11</td>\n",
       "      <td>45847.062</td>\n",
       "      <td>Switzerland</td>\n",
       "    </tr>\n",
       "  </tbody>\n",
       "</table>\n",
       "</div>"
      ],
      "text/plain": [
       "       year    population           gdp  energy_per_capita      country\n",
       "4924   2013  4.308854e+06  7.747952e+10          22296.646      Croatia\n",
       "18869  2009  7.734402e+06  4.349436e+11          46436.273  Switzerland\n",
       "16397  1965  3.122409e+07  1.886996e+11          24854.314       Poland\n",
       "4375   1992  1.183813e+09  3.755037e+12           7411.395        China\n",
       "18838  1978  6.281527e+06  1.656524e+11          45847.062  Switzerland"
      ]
     },
     "execution_count": 6,
     "metadata": {},
     "output_type": "execute_result"
    }
   ],
   "source": [
    "data = data.loc[data.country.isin(countries)]\n",
    "data.dropna(inplace=True)  # drop all nan values\n",
    "data.sample(5)"
   ]
  },
  {
   "cell_type": "code",
   "execution_count": 7,
   "metadata": {},
   "outputs": [],
   "source": [
    "# rescale data \n",
    "data['gdp'] /= 1e12\n",
    "data['population'] /= 1e7\n",
    "\n",
    "# create gdp_per_capita and energy_cons\n",
    "\n",
    "data['gdp_per_capita'] = data['gdp']/data['population']\n",
    "data['energy_cons'] = data['energy_per_capita']*data['population']"
   ]
  },
  {
   "cell_type": "markdown",
   "metadata": {},
   "source": [
    "# III. Preprocessing "
   ]
  },
  {
   "cell_type": "markdown",
   "metadata": {},
   "source": [
    "### Stationarization "
   ]
  },
  {
   "cell_type": "markdown",
   "metadata": {},
   "source": [
    "Fonction permettant de stationariser les time series:"
   ]
  },
  {
   "cell_type": "code",
   "execution_count": 8,
   "metadata": {},
   "outputs": [],
   "source": [
    "def stationarize(input_df: pd.DataFrame):\n",
    "    \"\"\"\n",
    "    Given data corresponding to only one country, \n",
    "    create new columns for time series stationarization.\n",
    "\n",
    "    :params input_df: pd.DataFrame\n",
    "        Dataframe of a ocuntry with at least gdp, energy_per_capita and \n",
    "        population columns \n",
    "\n",
    "    :return pd.DataFrame\n",
    "    \"\"\"\n",
    "    # copy input dataframe \n",
    "    df = input_df.copy()\n",
    "\n",
    "    # stationarisation of gdp \n",
    "    df['log_gdp'] = df['gdp_per_capita'].apply(lambda x: np.log(x))\n",
    "    df['gdp_order_1'] = df['log_gdp'] - df['log_gdp'].shift()\n",
    "    df['gdp_per_capita_stationary'] = df['gdp_order_1'] - df['gdp_order_1'].shift()\n",
    "\n",
    "    # stationarization of energy consumption per capita\n",
    "    df['log_energy'] = df['energy_cons'].apply(lambda x: np.log(x))\n",
    "    df['energy_cons_order_1'] = df['log_energy'] - df['log_energy'].shift()\n",
    "    df['energy_cons_stationary'] = df['energy_cons_order_1'] - df['energy_cons_order_1'].shift()\n",
    "    \n",
    "    # stationarization of population\n",
    "    df['log_pop'] = df['population'].apply(lambda x: np.log(x))\n",
    "    df['population_order_1'] = df['log_pop'] - df['log_pop'].shift()\n",
    "    df['population_stationary'] = df['population_order_1'] - df['population_order_1'].shift()\n",
    "\n",
    "    # new create columns \n",
    "    new_columns = [\n",
    "        \"gdp_per_capita_stationary\", \n",
    "        \"energy_cons_stationary\",\n",
    "        \"population_stationary\"\n",
    "    ]\n",
    "\n",
    "    # old columns to keep \n",
    "    old_cols = [\"country\", \"year\"]\n",
    "\n",
    "    return df[new_columns + old_cols]"
   ]
  },
  {
   "cell_type": "code",
   "execution_count": 9,
   "metadata": {},
   "outputs": [
    {
     "data": {
      "text/html": [
       "<div>\n",
       "<style scoped>\n",
       "    .dataframe tbody tr th:only-of-type {\n",
       "        vertical-align: middle;\n",
       "    }\n",
       "\n",
       "    .dataframe tbody tr th {\n",
       "        vertical-align: top;\n",
       "    }\n",
       "\n",
       "    .dataframe thead th {\n",
       "        text-align: right;\n",
       "    }\n",
       "</style>\n",
       "<table border=\"1\" class=\"dataframe\">\n",
       "  <thead>\n",
       "    <tr style=\"text-align: right;\">\n",
       "      <th></th>\n",
       "      <th>gdp_per_capita_stationary</th>\n",
       "      <th>energy_cons_stationary</th>\n",
       "      <th>population_stationary</th>\n",
       "      <th>country</th>\n",
       "      <th>year</th>\n",
       "    </tr>\n",
       "  </thead>\n",
       "  <tbody>\n",
       "    <tr>\n",
       "      <th>9233</th>\n",
       "      <td>0.070050</td>\n",
       "      <td>0.000725</td>\n",
       "      <td>-0.000231</td>\n",
       "      <td>India</td>\n",
       "      <td>1967</td>\n",
       "    </tr>\n",
       "    <tr>\n",
       "      <th>2356</th>\n",
       "      <td>-0.004418</td>\n",
       "      <td>-0.038112</td>\n",
       "      <td>0.000134</td>\n",
       "      <td>Belgium</td>\n",
       "      <td>1970</td>\n",
       "    </tr>\n",
       "    <tr>\n",
       "      <th>7177</th>\n",
       "      <td>0.002738</td>\n",
       "      <td>0.030663</td>\n",
       "      <td>-0.001031</td>\n",
       "      <td>Finland</td>\n",
       "      <td>1968</td>\n",
       "    </tr>\n",
       "    <tr>\n",
       "      <th>10020</th>\n",
       "      <td>-0.000044</td>\n",
       "      <td>-0.025384</td>\n",
       "      <td>-0.000408</td>\n",
       "      <td>Italy</td>\n",
       "      <td>2016</td>\n",
       "    </tr>\n",
       "    <tr>\n",
       "      <th>18703</th>\n",
       "      <td>NaN</td>\n",
       "      <td>NaN</td>\n",
       "      <td>NaN</td>\n",
       "      <td>Sweden</td>\n",
       "      <td>1966</td>\n",
       "    </tr>\n",
       "    <tr>\n",
       "      <th>18723</th>\n",
       "      <td>0.002283</td>\n",
       "      <td>-0.046896</td>\n",
       "      <td>0.000381</td>\n",
       "      <td>Sweden</td>\n",
       "      <td>1986</td>\n",
       "    </tr>\n",
       "    <tr>\n",
       "      <th>7793</th>\n",
       "      <td>-0.042614</td>\n",
       "      <td>0.049881</td>\n",
       "      <td>0.000292</td>\n",
       "      <td>Germany</td>\n",
       "      <td>2012</td>\n",
       "    </tr>\n",
       "    <tr>\n",
       "      <th>8047</th>\n",
       "      <td>-0.029568</td>\n",
       "      <td>-0.147243</td>\n",
       "      <td>0.000834</td>\n",
       "      <td>Greece</td>\n",
       "      <td>1979</td>\n",
       "    </tr>\n",
       "    <tr>\n",
       "      <th>8077</th>\n",
       "      <td>-0.040590</td>\n",
       "      <td>-0.018906</td>\n",
       "      <td>-0.000025</td>\n",
       "      <td>Greece</td>\n",
       "      <td>2009</td>\n",
       "    </tr>\n",
       "    <tr>\n",
       "      <th>16413</th>\n",
       "      <td>-0.028982</td>\n",
       "      <td>-0.149671</td>\n",
       "      <td>-0.000183</td>\n",
       "      <td>Poland</td>\n",
       "      <td>1981</td>\n",
       "    </tr>\n",
       "  </tbody>\n",
       "</table>\n",
       "</div>"
      ],
      "text/plain": [
       "       gdp_per_capita_stationary  energy_cons_stationary  \\\n",
       "9233                    0.070050                0.000725   \n",
       "2356                   -0.004418               -0.038112   \n",
       "7177                    0.002738                0.030663   \n",
       "10020                  -0.000044               -0.025384   \n",
       "18703                        NaN                     NaN   \n",
       "18723                   0.002283               -0.046896   \n",
       "7793                   -0.042614                0.049881   \n",
       "8047                   -0.029568               -0.147243   \n",
       "8077                   -0.040590               -0.018906   \n",
       "16413                  -0.028982               -0.149671   \n",
       "\n",
       "       population_stationary  country  year  \n",
       "9233               -0.000231    India  1967  \n",
       "2356                0.000134  Belgium  1970  \n",
       "7177               -0.001031  Finland  1968  \n",
       "10020              -0.000408    Italy  2016  \n",
       "18703                    NaN   Sweden  1966  \n",
       "18723               0.000381   Sweden  1986  \n",
       "7793                0.000292  Germany  2012  \n",
       "8047                0.000834   Greece  1979  \n",
       "8077               -0.000025   Greece  2009  \n",
       "16413              -0.000183   Poland  1981  "
      ]
     },
     "execution_count": 9,
     "metadata": {},
     "output_type": "execute_result"
    }
   ],
   "source": [
    "# stationarize data \n",
    "for i, country in enumerate(countries):\n",
    "    df_country = stationarize(data[data.country == country])\n",
    "\n",
    "    if i == 0:\n",
    "        df_stationary = df_country\n",
    "    else:\n",
    "        df_stationary = pd.concat([df_stationary, df_country])\n",
    "\n",
    "df_stationary.sample(10)"
   ]
  },
  {
   "cell_type": "markdown",
   "metadata": {},
   "source": [
    "Nous devons analyser pourquoi des NaN se glissent dans le dataframe à cette étape (j'y reviens plus tard)"
   ]
  },
  {
   "cell_type": "code",
   "execution_count": 10,
   "metadata": {},
   "outputs": [
    {
     "data": {
      "text/plain": [
       "981"
      ]
     },
     "execution_count": 10,
     "metadata": {},
     "output_type": "execute_result"
    }
   ],
   "source": [
    "df_stationary[df_stationary.isna()].shape[0]"
   ]
  },
  {
   "cell_type": "markdown",
   "metadata": {},
   "source": [
    "### Train-Test split "
   ]
  },
  {
   "cell_type": "code",
   "execution_count": 11,
   "metadata": {},
   "outputs": [
    {
     "name": "stdout",
     "output_type": "stream",
     "text": [
      "Train size: 906\n",
      "Test size: 75\n"
     ]
    }
   ],
   "source": [
    "df_test = df_stationary.loc[(df_stationary.country.isin(test_countries)) & (df_stationary.year> split_year)]\n",
    "df_train = df_stationary[~df_stationary.index.isin(df_test.index)]\n",
    "\n",
    "print(f\"Train size: {df_train.shape[0]}\")\n",
    "print(f\"Test size: {df_test.shape[0]}\")"
   ]
  },
  {
   "cell_type": "code",
   "execution_count": 12,
   "metadata": {},
   "outputs": [
    {
     "name": "stderr",
     "output_type": "stream",
     "text": [
      "C:\\Users\\victo\\AppData\\Local\\Temp\\ipykernel_8436\\370300940.py:1: SettingWithCopyWarning: \n",
      "A value is trying to be set on a copy of a slice from a DataFrame\n",
      "\n",
      "See the caveats in the documentation: https://pandas.pydata.org/pandas-docs/stable/user_guide/indexing.html#returning-a-view-versus-a-copy\n",
      "  df_train.dropna(inplace=True)\n"
     ]
    }
   ],
   "source": [
    "df_train.dropna(inplace=True)"
   ]
  },
  {
   "cell_type": "markdown",
   "metadata": {},
   "source": [
    "### Discretization "
   ]
  },
  {
   "cell_type": "code",
   "execution_count": 13,
   "metadata": {},
   "outputs": [
    {
     "name": "stdout",
     "output_type": "stream",
     "text": [
      "868 rows without NaN\n"
     ]
    }
   ],
   "source": [
    "print(f\"{df_train[~df_train.isna()].shape[0]} rows without NaN\")"
   ]
  },
  {
   "cell_type": "code",
   "execution_count": 14,
   "metadata": {},
   "outputs": [
    {
     "data": {
      "text/html": [
       "<div>\n",
       "<style scoped>\n",
       "    .dataframe tbody tr th:only-of-type {\n",
       "        vertical-align: middle;\n",
       "    }\n",
       "\n",
       "    .dataframe tbody tr th {\n",
       "        vertical-align: top;\n",
       "    }\n",
       "\n",
       "    .dataframe thead th {\n",
       "        text-align: right;\n",
       "    }\n",
       "</style>\n",
       "<table border=\"1\" class=\"dataframe\">\n",
       "  <thead>\n",
       "    <tr style=\"text-align: right;\">\n",
       "      <th></th>\n",
       "      <th>gdp_per_capita_stationary</th>\n",
       "      <th>energy_cons_stationary</th>\n",
       "      <th>population_stationary</th>\n",
       "      <th>country</th>\n",
       "      <th>year</th>\n",
       "    </tr>\n",
       "  </thead>\n",
       "  <tbody>\n",
       "    <tr>\n",
       "      <th>7299</th>\n",
       "      <td>-0.003909</td>\n",
       "      <td>0.038158</td>\n",
       "      <td>-0.000436</td>\n",
       "      <td>France</td>\n",
       "      <td>1967</td>\n",
       "    </tr>\n",
       "    <tr>\n",
       "      <th>7300</th>\n",
       "      <td>-0.001252</td>\n",
       "      <td>-0.007915</td>\n",
       "      <td>-0.000756</td>\n",
       "      <td>France</td>\n",
       "      <td>1968</td>\n",
       "    </tr>\n",
       "    <tr>\n",
       "      <th>7301</th>\n",
       "      <td>0.024484</td>\n",
       "      <td>0.043035</td>\n",
       "      <td>-0.000609</td>\n",
       "      <td>France</td>\n",
       "      <td>1969</td>\n",
       "    </tr>\n",
       "    <tr>\n",
       "      <th>7302</th>\n",
       "      <td>-0.011263</td>\n",
       "      <td>-0.014586</td>\n",
       "      <td>-0.000141</td>\n",
       "      <td>France</td>\n",
       "      <td>1970</td>\n",
       "    </tr>\n",
       "    <tr>\n",
       "      <th>7303</th>\n",
       "      <td>-0.008498</td>\n",
       "      <td>-0.043654</td>\n",
       "      <td>0.000133</td>\n",
       "      <td>France</td>\n",
       "      <td>1971</td>\n",
       "    </tr>\n",
       "    <tr>\n",
       "      <th>...</th>\n",
       "      <td>...</td>\n",
       "      <td>...</td>\n",
       "      <td>...</td>\n",
       "      <td>...</td>\n",
       "      <td>...</td>\n",
       "    </tr>\n",
       "    <tr>\n",
       "      <th>16431</th>\n",
       "      <td>0.000594</td>\n",
       "      <td>0.023206</td>\n",
       "      <td>-0.000233</td>\n",
       "      <td>Poland</td>\n",
       "      <td>1999</td>\n",
       "    </tr>\n",
       "    <tr>\n",
       "      <th>16432</th>\n",
       "      <td>-0.005373</td>\n",
       "      <td>-0.042463</td>\n",
       "      <td>0.004542</td>\n",
       "      <td>Poland</td>\n",
       "      <td>2000</td>\n",
       "    </tr>\n",
       "    <tr>\n",
       "      <th>16433</th>\n",
       "      <td>-0.032397</td>\n",
       "      <td>0.055135</td>\n",
       "      <td>0.000216</td>\n",
       "      <td>Poland</td>\n",
       "      <td>2001</td>\n",
       "    </tr>\n",
       "    <tr>\n",
       "      <th>16434</th>\n",
       "      <td>0.012262</td>\n",
       "      <td>-0.003852</td>\n",
       "      <td>-0.004504</td>\n",
       "      <td>Poland</td>\n",
       "      <td>2002</td>\n",
       "    </tr>\n",
       "    <tr>\n",
       "      <th>16435</th>\n",
       "      <td>0.015130</td>\n",
       "      <td>0.044879</td>\n",
       "      <td>-0.000273</td>\n",
       "      <td>Poland</td>\n",
       "      <td>2003</td>\n",
       "    </tr>\n",
       "  </tbody>\n",
       "</table>\n",
       "<p>868 rows × 5 columns</p>\n",
       "</div>"
      ],
      "text/plain": [
       "       gdp_per_capita_stationary  energy_cons_stationary  \\\n",
       "7299                   -0.003909                0.038158   \n",
       "7300                   -0.001252               -0.007915   \n",
       "7301                    0.024484                0.043035   \n",
       "7302                   -0.011263               -0.014586   \n",
       "7303                   -0.008498               -0.043654   \n",
       "...                          ...                     ...   \n",
       "16431                   0.000594                0.023206   \n",
       "16432                  -0.005373               -0.042463   \n",
       "16433                  -0.032397                0.055135   \n",
       "16434                   0.012262               -0.003852   \n",
       "16435                   0.015130                0.044879   \n",
       "\n",
       "       population_stationary country  year  \n",
       "7299               -0.000436  France  1967  \n",
       "7300               -0.000756  France  1968  \n",
       "7301               -0.000609  France  1969  \n",
       "7302               -0.000141  France  1970  \n",
       "7303                0.000133  France  1971  \n",
       "...                      ...     ...   ...  \n",
       "16431              -0.000233  Poland  1999  \n",
       "16432               0.004542  Poland  2000  \n",
       "16433               0.000216  Poland  2001  \n",
       "16434              -0.004504  Poland  2002  \n",
       "16435              -0.000273  Poland  2003  \n",
       "\n",
       "[868 rows x 5 columns]"
      ]
     },
     "execution_count": 14,
     "metadata": {},
     "output_type": "execute_result"
    }
   ],
   "source": [
    "df_train"
   ]
  },
  {
   "cell_type": "code",
   "execution_count": 15,
   "metadata": {},
   "outputs": [
    {
     "name": "stdout",
     "output_type": "stream",
     "text": [
      "Nb of rows continaing NaN values: 5\n"
     ]
    },
    {
     "data": {
      "text/html": [
       "<div>\n",
       "<style scoped>\n",
       "    .dataframe tbody tr th:only-of-type {\n",
       "        vertical-align: middle;\n",
       "    }\n",
       "\n",
       "    .dataframe tbody tr th {\n",
       "        vertical-align: top;\n",
       "    }\n",
       "\n",
       "    .dataframe thead th {\n",
       "        text-align: right;\n",
       "    }\n",
       "</style>\n",
       "<table border=\"1\" class=\"dataframe\">\n",
       "  <thead>\n",
       "    <tr style=\"text-align: right;\">\n",
       "      <th></th>\n",
       "      <th>gdp_per_capita_stationary</th>\n",
       "      <th>energy_cons_stationary</th>\n",
       "      <th>population_stationary</th>\n",
       "      <th>country</th>\n",
       "      <th>year</th>\n",
       "    </tr>\n",
       "  </thead>\n",
       "  <tbody>\n",
       "    <tr>\n",
       "      <th>16402</th>\n",
       "      <td>8</td>\n",
       "      <td>2</td>\n",
       "      <td>4</td>\n",
       "      <td>Poland</td>\n",
       "      <td>1970</td>\n",
       "    </tr>\n",
       "    <tr>\n",
       "      <th>9245</th>\n",
       "      <td>2</td>\n",
       "      <td>3</td>\n",
       "      <td>5</td>\n",
       "      <td>India</td>\n",
       "      <td>1979</td>\n",
       "    </tr>\n",
       "    <tr>\n",
       "      <th>18834</th>\n",
       "      <td>4</td>\n",
       "      <td>1</td>\n",
       "      <td>4</td>\n",
       "      <td>Switzerland</td>\n",
       "      <td>1974</td>\n",
       "    </tr>\n",
       "    <tr>\n",
       "      <th>18705</th>\n",
       "      <td>6</td>\n",
       "      <td>3</td>\n",
       "      <td>4</td>\n",
       "      <td>Sweden</td>\n",
       "      <td>1968</td>\n",
       "    </tr>\n",
       "    <tr>\n",
       "      <th>20565</th>\n",
       "      <td>6</td>\n",
       "      <td>3</td>\n",
       "      <td>5</td>\n",
       "      <td>United Kingdom</td>\n",
       "      <td>2000</td>\n",
       "    </tr>\n",
       "  </tbody>\n",
       "</table>\n",
       "</div>"
      ],
      "text/plain": [
       "       gdp_per_capita_stationary  energy_cons_stationary  \\\n",
       "16402                          8                       2   \n",
       "9245                           2                       3   \n",
       "18834                          4                       1   \n",
       "18705                          6                       3   \n",
       "20565                          6                       3   \n",
       "\n",
       "       population_stationary         country  year  \n",
       "16402                      4          Poland  1970  \n",
       "9245                       5           India  1979  \n",
       "18834                      4     Switzerland  1974  \n",
       "18705                      4          Sweden  1968  \n",
       "20565                      5  United Kingdom  2000  "
      ]
     },
     "execution_count": 15,
     "metadata": {},
     "output_type": "execute_result"
    }
   ],
   "source": [
    "# define discretizer object \n",
    "discretizer = DumbDiscretizer(df_train, nb_classes=nb_classes)\n",
    "\n",
    "# indexed dataframe \n",
    "df_index = discretizer.df\n",
    "\n",
    "# print nb of NaN (must be investigated later) and dorp them\n",
    "print(f\"Nb of rows continaing NaN values: {df_index.isna().shape[1]}\")\n",
    "df_index.dropna(inplace=True)\n",
    "df_index.sample(5)"
   ]
  },
  {
   "cell_type": "markdown",
   "metadata": {},
   "source": [
    "### PGMPY friendly preprocessing"
   ]
  },
  {
   "cell_type": "code",
   "execution_count": 16,
   "metadata": {},
   "outputs": [
    {
     "name": "stdout",
     "output_type": "stream",
     "text": [
      "Country: France (37, 3)\n",
      "Country: Germany (37, 3)\n",
      "Country: United Kingdom (37, 3)\n",
      "Country: Italy (37, 3)\n",
      "Country: Spain (52, 3)\n",
      "Country: Japan (52, 3)\n",
      "Country: Sweden (52, 3)\n",
      "Country: Switzerland (52, 3)\n",
      "Country: Belgium (52, 3)\n",
      "Country: Australia (52, 3)\n",
      "Country: Austria (52, 3)\n",
      "Country: China (52, 3)\n",
      "Country: Croatia (27, 3)\n",
      "Country: Finland (52, 3)\n",
      "Country: Greece (52, 3)\n",
      "Country: India (52, 3)\n",
      "Country: New Zealand (52, 3)\n",
      "Country: Russia (32, 3)\n",
      "Country: Poland (37, 3)\n"
     ]
    },
    {
     "data": {
      "text/html": [
       "<div>\n",
       "<style scoped>\n",
       "    .dataframe tbody tr th:only-of-type {\n",
       "        vertical-align: middle;\n",
       "    }\n",
       "\n",
       "    .dataframe tbody tr th {\n",
       "        vertical-align: top;\n",
       "    }\n",
       "\n",
       "    .dataframe thead th {\n",
       "        text-align: right;\n",
       "    }\n",
       "</style>\n",
       "<table border=\"1\" class=\"dataframe\">\n",
       "  <thead>\n",
       "    <tr style=\"text-align: right;\">\n",
       "      <th></th>\n",
       "      <th>(gdp_per_capita_stationary, 0)</th>\n",
       "      <th>(energy_cons_stationary, 0)</th>\n",
       "      <th>(population_stationary, 0)</th>\n",
       "      <th>(gdp_per_capita_stationary, 1)</th>\n",
       "      <th>(energy_cons_stationary, 1)</th>\n",
       "      <th>(population_stationary, 1)</th>\n",
       "      <th>country</th>\n",
       "    </tr>\n",
       "  </thead>\n",
       "  <tbody>\n",
       "    <tr>\n",
       "      <th>589</th>\n",
       "      <td>6</td>\n",
       "      <td>2</td>\n",
       "      <td>5</td>\n",
       "      <td>5</td>\n",
       "      <td>1</td>\n",
       "      <td>5</td>\n",
       "      <td>Finland</td>\n",
       "    </tr>\n",
       "    <tr>\n",
       "      <th>797</th>\n",
       "      <td>4</td>\n",
       "      <td>3</td>\n",
       "      <td>4</td>\n",
       "      <td>7</td>\n",
       "      <td>2</td>\n",
       "      <td>4</td>\n",
       "      <td>Poland</td>\n",
       "    </tr>\n",
       "    <tr>\n",
       "      <th>674</th>\n",
       "      <td>4</td>\n",
       "      <td>2</td>\n",
       "      <td>4</td>\n",
       "      <td>7</td>\n",
       "      <td>2</td>\n",
       "      <td>4</td>\n",
       "      <td>India</td>\n",
       "    </tr>\n",
       "    <tr>\n",
       "      <th>56</th>\n",
       "      <td>5</td>\n",
       "      <td>2</td>\n",
       "      <td>5</td>\n",
       "      <td>3</td>\n",
       "      <td>2</td>\n",
       "      <td>5</td>\n",
       "      <td>Germany</td>\n",
       "    </tr>\n",
       "    <tr>\n",
       "      <th>299</th>\n",
       "      <td>6</td>\n",
       "      <td>3</td>\n",
       "      <td>4</td>\n",
       "      <td>5</td>\n",
       "      <td>2</td>\n",
       "      <td>4</td>\n",
       "      <td>Switzerland</td>\n",
       "    </tr>\n",
       "    <tr>\n",
       "      <th>54</th>\n",
       "      <td>5</td>\n",
       "      <td>3</td>\n",
       "      <td>5</td>\n",
       "      <td>6</td>\n",
       "      <td>2</td>\n",
       "      <td>5</td>\n",
       "      <td>Germany</td>\n",
       "    </tr>\n",
       "    <tr>\n",
       "      <th>756</th>\n",
       "      <td>9</td>\n",
       "      <td>3</td>\n",
       "      <td>4</td>\n",
       "      <td>6</td>\n",
       "      <td>3</td>\n",
       "      <td>4</td>\n",
       "      <td>Russia</td>\n",
       "    </tr>\n",
       "    <tr>\n",
       "      <th>10</th>\n",
       "      <td>5</td>\n",
       "      <td>2</td>\n",
       "      <td>5</td>\n",
       "      <td>5</td>\n",
       "      <td>3</td>\n",
       "      <td>5</td>\n",
       "      <td>France</td>\n",
       "    </tr>\n",
       "    <tr>\n",
       "      <th>352</th>\n",
       "      <td>6</td>\n",
       "      <td>2</td>\n",
       "      <td>5</td>\n",
       "      <td>6</td>\n",
       "      <td>2</td>\n",
       "      <td>5</td>\n",
       "      <td>Belgium</td>\n",
       "    </tr>\n",
       "    <tr>\n",
       "      <th>82</th>\n",
       "      <td>6</td>\n",
       "      <td>3</td>\n",
       "      <td>5</td>\n",
       "      <td>7</td>\n",
       "      <td>3</td>\n",
       "      <td>4</td>\n",
       "      <td>United Kingdom</td>\n",
       "    </tr>\n",
       "  </tbody>\n",
       "</table>\n",
       "</div>"
      ],
      "text/plain": [
       "     (gdp_per_capita_stationary, 0)  (energy_cons_stationary, 0)  \\\n",
       "589                               6                            2   \n",
       "797                               4                            3   \n",
       "674                               4                            2   \n",
       "56                                5                            2   \n",
       "299                               6                            3   \n",
       "54                                5                            3   \n",
       "756                               9                            3   \n",
       "10                                5                            2   \n",
       "352                               6                            2   \n",
       "82                                6                            3   \n",
       "\n",
       "     (population_stationary, 0)  (gdp_per_capita_stationary, 1)  \\\n",
       "589                           5                               5   \n",
       "797                           4                               7   \n",
       "674                           4                               7   \n",
       "56                            5                               3   \n",
       "299                           4                               5   \n",
       "54                            5                               6   \n",
       "756                           4                               6   \n",
       "10                            5                               5   \n",
       "352                           5                               6   \n",
       "82                            5                               7   \n",
       "\n",
       "     (energy_cons_stationary, 1)  (population_stationary, 1)         country  \n",
       "589                            1                           5         Finland  \n",
       "797                            2                           4          Poland  \n",
       "674                            2                           4           India  \n",
       "56                             2                           5         Germany  \n",
       "299                            2                           4     Switzerland  \n",
       "54                             2                           5         Germany  \n",
       "756                            3                           4          Russia  \n",
       "10                             3                           5          France  \n",
       "352                            2                           5         Belgium  \n",
       "82                             3                           4  United Kingdom  "
      ]
     },
     "execution_count": 16,
     "metadata": {},
     "output_type": "execute_result"
    }
   ],
   "source": [
    "for i, country in enumerate(countries):\n",
    "\n",
    "    # select country and relevant columns\n",
    "    df_country = df_index[df_index.country == country]\n",
    "    df_country = df_country.drop([\"country\", \"year\"], axis=1)\n",
    "    \n",
    "    print(f\"Country: {country}\", df_country.shape)\n",
    "\n",
    "    # transform in a pgmpy friendly dataframe\n",
    "    df_pgmpy_country = pgmpy_friendly_transformer(\n",
    "        df=df_country, \n",
    "        sliding_window=sliding_window\n",
    "    )\n",
    "    df_pgmpy_country[\"country\"] = country\n",
    "\n",
    "    if i == 0:\n",
    "        df_pgmpy = df_pgmpy_country\n",
    "    else:\n",
    "        df_pgmpy = pd.concat([df_pgmpy, df_pgmpy_country])\n",
    "\n",
    "df_pgmpy.reset_index(inplace=True, drop=True)\n",
    "df_pgmpy.sample(10)"
   ]
  },
  {
   "cell_type": "code",
   "execution_count": 17,
   "metadata": {},
   "outputs": [
    {
     "data": {
      "text/html": [
       "<div>\n",
       "<style scoped>\n",
       "    .dataframe tbody tr th:only-of-type {\n",
       "        vertical-align: middle;\n",
       "    }\n",
       "\n",
       "    .dataframe tbody tr th {\n",
       "        vertical-align: top;\n",
       "    }\n",
       "\n",
       "    .dataframe thead th {\n",
       "        text-align: right;\n",
       "    }\n",
       "</style>\n",
       "<table border=\"1\" class=\"dataframe\">\n",
       "  <thead>\n",
       "    <tr style=\"text-align: right;\">\n",
       "      <th></th>\n",
       "      <th>(gdp_per_capita_stationary, 0)</th>\n",
       "      <th>(energy_cons_stationary, 0)</th>\n",
       "      <th>(population_stationary, 0)</th>\n",
       "      <th>(gdp_per_capita_stationary, 1)</th>\n",
       "      <th>(energy_cons_stationary, 1)</th>\n",
       "      <th>(population_stationary, 1)</th>\n",
       "      <th>country</th>\n",
       "    </tr>\n",
       "  </thead>\n",
       "  <tbody>\n",
       "    <tr>\n",
       "      <th>29</th>\n",
       "      <td>5</td>\n",
       "      <td>3</td>\n",
       "      <td>5</td>\n",
       "      <td>6</td>\n",
       "      <td>2</td>\n",
       "      <td>5</td>\n",
       "      <td>France</td>\n",
       "    </tr>\n",
       "    <tr>\n",
       "      <th>30</th>\n",
       "      <td>6</td>\n",
       "      <td>2</td>\n",
       "      <td>5</td>\n",
       "      <td>6</td>\n",
       "      <td>3</td>\n",
       "      <td>5</td>\n",
       "      <td>France</td>\n",
       "    </tr>\n",
       "    <tr>\n",
       "      <th>31</th>\n",
       "      <td>6</td>\n",
       "      <td>3</td>\n",
       "      <td>5</td>\n",
       "      <td>5</td>\n",
       "      <td>2</td>\n",
       "      <td>5</td>\n",
       "      <td>France</td>\n",
       "    </tr>\n",
       "    <tr>\n",
       "      <th>32</th>\n",
       "      <td>5</td>\n",
       "      <td>2</td>\n",
       "      <td>5</td>\n",
       "      <td>6</td>\n",
       "      <td>2</td>\n",
       "      <td>5</td>\n",
       "      <td>France</td>\n",
       "    </tr>\n",
       "    <tr>\n",
       "      <th>33</th>\n",
       "      <td>6</td>\n",
       "      <td>2</td>\n",
       "      <td>5</td>\n",
       "      <td>5</td>\n",
       "      <td>2</td>\n",
       "      <td>5</td>\n",
       "      <td>France</td>\n",
       "    </tr>\n",
       "  </tbody>\n",
       "</table>\n",
       "</div>"
      ],
      "text/plain": [
       "    (gdp_per_capita_stationary, 0)  (energy_cons_stationary, 0)  \\\n",
       "29                               5                            3   \n",
       "30                               6                            2   \n",
       "31                               6                            3   \n",
       "32                               5                            2   \n",
       "33                               6                            2   \n",
       "\n",
       "    (population_stationary, 0)  (gdp_per_capita_stationary, 1)  \\\n",
       "29                           5                               6   \n",
       "30                           5                               6   \n",
       "31                           5                               5   \n",
       "32                           5                               6   \n",
       "33                           5                               5   \n",
       "\n",
       "    (energy_cons_stationary, 1)  (population_stationary, 1) country  \n",
       "29                            2                           5  France  \n",
       "30                            3                           5  France  \n",
       "31                            2                           5  France  \n",
       "32                            2                           5  France  \n",
       "33                            2                           5  France  "
      ]
     },
     "execution_count": 17,
     "metadata": {},
     "output_type": "execute_result"
    }
   ],
   "source": [
    "df_pgmpy[df_pgmpy.country == \"France\"].tail()"
   ]
  },
  {
   "cell_type": "markdown",
   "metadata": {},
   "source": [
    "# Model "
   ]
  },
  {
   "cell_type": "markdown",
   "metadata": {},
   "source": [
    "### Training "
   ]
  },
  {
   "cell_type": "code",
   "execution_count": 18,
   "metadata": {},
   "outputs": [],
   "source": [
    "# build model \n",
    "dbn = DBN([\n",
    "    ((\"gdp_per_capita_stationary\", 0), (\"energy_cons_stationary\", 0)), \n",
    "    ((\"population_stationary\", 0), (\"energy_cons_stationary\", 0)), \n",
    "    ((\"population_stationary\", 0), (\"population_stationary\", 1)), \n",
    "    ((\"gdp_per_capita_stationary\", 0), (\"gdp_per_capita_stationary\", 1))\n",
    "])"
   ]
  },
  {
   "cell_type": "code",
   "execution_count": 19,
   "metadata": {},
   "outputs": [],
   "source": [
    "dbn.fit(df_pgmpy.drop(\"country\", axis=1))"
   ]
  },
  {
   "cell_type": "markdown",
   "metadata": {},
   "source": [
    "# Inferences "
   ]
  },
  {
   "cell_type": "markdown",
   "metadata": {},
   "source": [
    "### Scenarios"
   ]
  },
  {
   "cell_type": "code",
   "execution_count": 20,
   "metadata": {},
   "outputs": [
    {
     "data": {
      "text/plain": [
       "'length = df_test.shape[0]\\ncol_evidence = [\"population_stationary\", \"gdp_per_capita_stationary\"]\\n\\nscenario = {}\\nfor col in col_evidence:\\n    new_evidence = {(col, i): df_test[df_test.year == split_year+i].iloc[0][col]\\n                    for i in range(1, length+1)}\\n    scenario.update(new_evidence)'"
      ]
     },
     "execution_count": 20,
     "metadata": {},
     "output_type": "execute_result"
    }
   ],
   "source": [
    "'''length = df_test.shape[0]\n",
    "col_evidence = [\"population_stationary\", \"gdp_per_capita_stationary\"]\n",
    "\n",
    "scenario = {}\n",
    "for col in col_evidence:\n",
    "    new_evidence = {(col, i): df_test[df_test.year == split_year+i].iloc[0][col]\n",
    "                    for i in range(1, length+1)}\n",
    "    scenario.update(new_evidence)'''"
   ]
  },
  {
   "cell_type": "code",
   "execution_count": 21,
   "metadata": {},
   "outputs": [],
   "source": [
    "#df_test.head()"
   ]
  },
  {
   "cell_type": "code",
   "execution_count": 22,
   "metadata": {},
   "outputs": [],
   "source": [
    "# [discretizer.reverse_indexer(column_name=\"energy_per_capita_stationary\", ind=i) \n",
    "#  for i in range(10)]"
   ]
  },
  {
   "cell_type": "code",
   "execution_count": 23,
   "metadata": {},
   "outputs": [
    {
     "name": "stderr",
     "output_type": "stream",
     "text": [
      "WARNING:pgmpy:Replacing existing CPD for (gdp_per_capita_stationary, 1)\n",
      "WARNING:pgmpy:Replacing existing CPD for (population_stationary, 1)\n"
     ]
    },
    {
     "name": "stdout",
     "output_type": "stream",
     "text": [
      "length:  15\n",
      "Evidence for France:  {('population_stationary', 1): 0.00037558684041294477, ('population_stationary', 2): 0.000314842464187004, ('population_stationary', 3): 7.78803247201143e-05, ('population_stationary', 4): -2.6242999664916056e-05, ('population_stationary', 5): -0.00034611827335040424, ('population_stationary', 6): -0.00035148578856913915, ('population_stationary', 7): -0.00037263966111078517, ('population_stationary', 8): -0.00035917181741518256, ('population_stationary', 9): -0.000575616487483277, ('population_stationary', 10): -0.0005330375646428465, ('population_stationary', 11): -0.0001817001939696805, ('population_stationary', 12): -0.0005179239222476983, ('population_stationary', 13): -0.0006637962431961242, ('population_stationary', 14): -0.00039411661708799173, ('population_stationary', 15): -0.0003332842007481851, ('gdp_per_capita_stationary', 1): 0.01894306889113606, ('gdp_per_capita_stationary', 2): -0.011872922461167446, ('gdp_per_capita_stationary', 3): 0.006692062209084804, ('gdp_per_capita_stationary', 4): -0.0008662877112106671, ('gdp_per_capita_stationary', 5): -0.021149044948294837, ('gdp_per_capita_stationary', 6): -0.03175672663119711, ('gdp_per_capita_stationary', 7): 0.04952040733397722, ('gdp_per_capita_stationary', 8): 0.001453416979692701, ('gdp_per_capita_stationary', 9): -0.01930238329404399, ('gdp_per_capita_stationary', 10): 0.007484084519321588, ('gdp_per_capita_stationary', 11): -0.004636060864860014, ('gdp_per_capita_stationary', 12): 0.008634670752137197, ('gdp_per_capita_stationary', 13): -0.00040030054806938775, ('gdp_per_capita_stationary', 14): 0.012378697981122344, ('gdp_per_capita_stationary', 15): -0.004552671306256251, ('population_stationary', 0): -7.875064746465377e-05, ('gdp_per_capita_stationary', 0): -0.0028731378564545995} \n",
      "\n"
     ]
    },
    {
     "name": "stderr",
     "output_type": "stream",
     "text": [
      "c:\\Users\\victo\\anaconda3\\envs\\TimeSeries\\Lib\\site-packages\\pgmpy\\factors\\discrete\\DiscreteFactor.py:796: RuntimeWarning: invalid value encountered in divide\n",
      "  phi.values = phi.values / phi1.values\n",
      "c:\\Users\\victo\\anaconda3\\envs\\TimeSeries\\Lib\\site-packages\\pgmpy\\factors\\discrete\\DiscreteFactor.py:488: RuntimeWarning: invalid value encountered in divide\n",
      "  phi.values = phi.values / phi.values.sum()\n"
     ]
    },
    {
     "name": "stdout",
     "output_type": "stream",
     "text": [
      "Actual seq:  [-0.002072959410380548, -0.014043682580075156, -0.002175666384149011, -0.009624287668037468, 0.020780084766126805, -0.06051433032791209, 0.08711974092651253, -0.06897687044454592, 0.03886921185156211, 0.009809457980178848, -0.052512764174075244, 0.04932117807189229, -0.023545907973398172, 0.009922338469685599, 0.025787546405076966]\n",
      "Pred seq:  [-0.005543806950721817, -0.00907311858633315, -0.005543806950721817, -0.0008459148155679028, -0.0008459148155679046, -0.02216040478965007, 0.027366487411750816, 0.007244747719693289, -0.0008459148155679098, 0.007244747719693294, -0.0008459148155679046, 0.007244747719693294, -0.0008459148155679046, 0.007244747719693294, -0.0008459148155679046]\n",
      "length:  15\n",
      "Evidence for Germany:  {('population_stationary', 1): 0.00020139907879279662, ('population_stationary', 2): 0.00031469517854088025, ('population_stationary', 3): 0.0002478255620368408, ('population_stationary', 4): 0.0004971864576495122, ('population_stationary', 5): 0.00034037322491053956, ('population_stationary', 6): 0.00011649675226133027, ('population_stationary', 7): 0.00026200870403458865, ('population_stationary', 8): 0.0004149651920175579, ('population_stationary', 9): 0.00029152603900106655, ('population_stationary', 10): 0.0001549649796697139, ('population_stationary', 11): 0.0005252422813089019, ('population_stationary', 12): 0.0004361335681384304, ('population_stationary', 13): 0.000525215781329802, ('population_stationary', 14): 0.00041066185675209255, ('population_stationary', 15): -0.0002611375763796886, ('gdp_per_capita_stationary', 1): 0.018533791852010095, ('gdp_per_capita_stationary', 2): -0.004921266437257543, ('gdp_per_capita_stationary', 3): 0.029065058801703292, ('gdp_per_capita_stationary', 4): -0.0047441241333924244, ('gdp_per_capita_stationary', 5): -0.021669992798205806, ('gdp_per_capita_stationary', 6): -0.06868715337274245, ('gdp_per_capita_stationary', 7): 0.09753439353730198, ('gdp_per_capita_stationary', 8): -0.004453096588637906, ('gdp_per_capita_stationary', 9): -0.04261375366100417, ('gdp_per_capita_stationary', 10): -0.0001872504365812988, ('gdp_per_capita_stationary', 11): 0.010426363549320583, ('gdp_per_capita_stationary', 12): 0.0008069782928589175, ('gdp_per_capita_stationary', 13): -0.000620546977550096, ('gdp_per_capita_stationary', 14): 0.006967752165191521, ('gdp_per_capita_stationary', 15): -0.008931215221971933, ('population_stationary', 0): -0.00031384250725130514, ('gdp_per_capita_stationary', 0): -0.006796552917943011} \n",
      "\n",
      "Actual seq:  [0.00016802601465215616, -0.01171221507532394, 0.03671803465283929, -0.06734254653000882, 0.053016438412482714, -0.07414323733656047, 0.10472310867848833, -0.07725825172146727, 0.049881059716451404, 0.014205390313275501, -0.06965936790257388, 0.060510633603763964, -0.0025229789168150774, -0.003398798777284995, -0.03825138794912064]\n",
      "Pred seq:  [-0.005543806950721817, -0.00907311858633315, 0.01250074116339235, -0.009073118586333157, -0.009073118586333157, -0.04583605093243863, 0.11250667047053114, nan, nan, -0.00907311858633315, -0.005543806950721828, -0.005543806950721826, -0.009073118586333154, -0.005543806950721817, -0.0008459148155679028]\n",
      "length:  15\n",
      "Evidence for United Kingdom:  {('population_stationary', 1): 0.0008417899172472598, ('population_stationary', 2): 0.0006598060490436986, ('population_stationary', 3): 0.0004863420816105801, ('population_stationary', 4): 0.0005567802047157233, ('population_stationary', 5): 0.0003411135542232824, ('population_stationary', 6): 0.00025670151631040916, ('population_stationary', 7): 0.00018106985239807472, ('population_stationary', 8): 8.468730433119909e-05, ('population_stationary', 9): -0.00013097201121636814, ('population_stationary', 10): -0.0005148046793008731, ('population_stationary', 11): -0.000404062099745639, ('population_stationary', 12): -0.00036478203673984133, ('population_stationary', 13): -0.00035278557061335647, ('population_stationary', 14): -0.00036439184144509973, ('population_stationary', 15): -0.0006616720437833123, ('gdp_per_capita_stationary', 1): -0.009954290437590663, ('gdp_per_capita_stationary', 2): 0.0036874822023453824, ('gdp_per_capita_stationary', 3): -0.005066481195900474, ('gdp_per_capita_stationary', 4): -5.605666624219907e-05, ('gdp_per_capita_stationary', 5): -0.03186431238028087, ('gdp_per_capita_stationary', 6): -0.03818162906199274, ('gdp_per_capita_stationary', 7): 0.06299920071361242, ('gdp_per_capita_stationary', 8): -0.004080783148634026, ('gdp_per_capita_stationary', 9): -0.0008406366818887179, ('gdp_per_capita_stationary', 10): 0.00638916999179151, ('gdp_per_capita_stationary', 11): 0.011546213931435512, ('gdp_per_capita_stationary', 12): -0.008017666747487051, ('gdp_per_capita_stationary', 13): -0.0031744135531707185, ('gdp_per_capita_stationary', 14): 0.0009472557045678842, ('gdp_per_capita_stationary', 15): -0.0047642267448946285, ('population_stationary', 0): 0.0004907084476544199, ('gdp_per_capita_stationary', 0): 0.009879763240872919} \n",
      "\n",
      "Actual seq:  [-0.0061747188601390945, 9.369734453024137e-05, -0.02107660852067994, -0.015273617987185517, 0.010563682803535812, -0.0343027226440249, 0.0728256968806793, -0.07883118918507037, 0.07376710909305118, -0.019289173884391886, -0.05366234416209714, 0.07279865460659707, -0.026338469266120157, 0.011010233743338205, -0.004520955785475067]\n",
      "Pred seq:  [-0.009073118586333147, -0.005543806950721817, -0.009073118586333157, -0.009073118586333154, -0.019319327252515447, -0.019319327252515443, -0.012500741163392344, -0.009073118586333157, -0.0008459148155679028, 0.007244747719693301, 0.007244747719693294, -0.0008459148155679028, -0.000845914815567908, 0.007244747719693292, -0.0008459148155679046]\n",
      "length:  15\n",
      "Evidence for Italy:  {('population_stationary', 1): 0.002008935953718094, ('population_stationary', 2): -0.0017095133286579856, ('population_stationary', 3): -0.0019008592698421811, ('population_stationary', 4): 0.002003398524823341, ('population_stationary', 5): 0.0016069254560791002, ('population_stationary', 6): -0.0018536714836634438, ('population_stationary', 7): -0.0013521567660710332, ('population_stationary', 8): -0.0009531251110868055, ('population_stationary', 9): -0.0006642111894645808, ('population_stationary', 10): -0.0006994626170757634, ('population_stationary', 11): -0.0018633142642479061, ('population_stationary', 12): -0.00166013359504813, ('population_stationary', 13): -0.00040794225430440534, ('population_stationary', 14): -9.013082246323023e-06, ('population_stationary', 15): -0.00020383681978164425, ('gdp_per_capita_stationary', 1): 0.012159501112654958, ('gdp_per_capita_stationary', 2): -0.004522824831006744, ('gdp_per_capita_stationary', 3): 0.012305264212106426, ('gdp_per_capita_stationary', 4): -0.007232965725597618, ('gdp_per_capita_stationary', 5): -0.026788449620677612, ('gdp_per_capita_stationary', 6): -0.043983338978662356, ('gdp_per_capita_stationary', 7): 0.07447576554036517, ('gdp_per_capita_stationary', 8): -0.01004266264290754, ('gdp_per_capita_stationary', 9): -0.04066965737614203, ('gdp_per_capita_stationary', 10): 0.011884513411743125, ('gdp_per_capita_stationary', 11): 0.020412673709062856, ('gdp_per_capita_stationary', 12): 0.008325773454220142, ('gdp_per_capita_stationary', 13): -4.416703269205513e-05, ('gdp_per_capita_stationary', 14): 0.009201208124011595, ('gdp_per_capita_stationary', 15): -0.008387692218579934, ('population_stationary', 0): 0.003572643022327293, ('gdp_per_capita_stationary', 0): -0.004531065448861948} \n",
      "\n",
      "Actual seq:  [-0.00942762794873886, -0.020720275969042135, -0.005880084894853255, -0.014617266145627639, 0.0021697284114239324, -0.051605472993937695, 0.10113968582827404, -0.05169215195316923, -0.008174246887861614, -0.017442651692428868, -0.008331461327108158, 0.08251755554999107, -0.02538435772414438, 0.007622118578685999, -0.005871686887953587]\n",
      "Pred seq:  [-0.005543806950721828, -0.000845914815567908, 0.007244747719693292, -0.009073118586333157, -0.019319327252515443, -0.022160404789650073, 0.03214476299158033, -0.0008459148155679046, -0.022160404789650073, 0.007244747719693294, 0.007244747719693294, 0.007244747719693301, -0.0008459148155679028, 0.007244747719693294, -0.0008459148155679046]\n",
      "length:  15\n",
      "Evidence for Poland:  {('population_stationary', 1): 1.105272857682138e-05, ('population_stationary', 2): 0.0001387275045094949, ('population_stationary', 3): -0.00022345433312187524, ('population_stationary', 4): 8.822910260142258e-05, ('population_stationary', 5): 0.0006832398216456426, ('population_stationary', 6): 0.0008144344989062802, ('population_stationary', 7): 0.0002497048294085591, ('population_stationary', 8): -0.0004820560312532862, ('population_stationary', 9): -0.00047838085826423793, ('population_stationary', 10): -0.0006096630798253511, ('population_stationary', 11): -0.00018040209419845077, ('population_stationary', 12): -8.499089185032283e-05, ('population_stationary', 13): 0.00019909024497155592, ('population_stationary', 14): 0.0005642632182161211, ('population_stationary', 15): -0.000313023554177283, ('gdp_per_capita_stationary', 1): 0.015065746247536538, ('gdp_per_capita_stationary', 2): -0.015885638766726995, ('gdp_per_capita_stationary', 3): 0.025797129164464305, ('gdp_per_capita_stationary', 4): 0.007973261865865, ('gdp_per_capita_stationary', 5): -0.027084806278832696, ('gdp_per_capita_stationary', 6): -0.01659491991374651, ('gdp_per_capita_stationary', 7): 0.007655118551781248, ('gdp_per_capita_stationary', 8): 0.015716085755952403, ('gdp_per_capita_stationary', 9): -0.04200870090289932, ('gdp_per_capita_stationary', 10): -0.0015292116747958051, ('gdp_per_capita_stationary', 11): 0.018660803502354772, ('gdp_per_capita_stationary', 12): 0.005542342427425018, ('gdp_per_capita_stationary', 13): -0.011398266957803882, ('gdp_per_capita_stationary', 14): 0.021088950198714818, ('gdp_per_capita_stationary', 15): 0.004225414201938227, ('population_stationary', 0): -0.0002734401170545464, ('gdp_per_capita_stationary', 0): 0.015130298815718035} \n",
      "\n",
      "Actual seq:  [-0.02729835623737209, 0.015211033370118088, 0.02630146505007147, -0.05110801432177503, 0.020191362954246728, -0.053007132446539984, 0.09989301031781217, -0.05846274030565013, -0.03491896040358888, 0.03151669007592339, -0.038942353268927477, 0.046843683665589, 0.03229435780001744, -0.004355387047306536, -0.026889518667569945]\n",
      "Pred seq:  [-0.005543806950721821, -0.00907311858633315, 0.007244747719693294, -0.0055438069507218295, -0.019319327252515443, -0.009073118586333154, -0.005543806950721828, 0.007244747719693294, -0.022160404789650073, -0.0008459148155679028, 0.007244747719693301, 0.007244747719693294, -0.009073118586333157, -0.005543806950721826, 0.007244747719693294]\n"
     ]
    }
   ],
   "source": [
    "# use custom inference for model test\n",
    "inference = CustomDBNInference(dbn, discretizer)\n",
    "\n",
    "results = {}\n",
    "\n",
    "for test_c in test_countries:\n",
    "    # create scenario\n",
    "    length = df_test[df_test.country==test_c].shape[0]\n",
    "    print('length: ', length)\n",
    "    col_evidence = [\"population_stationary\", \"gdp_per_capita_stationary\"]\n",
    "\n",
    "    scenario = {}\n",
    "    for col in col_evidence:\n",
    "        new_evidence = {(col, i): df_test[(df_test.country==test_c) & (df_test.year == split_year+i)].iloc[0][col]\n",
    "                        for i in range(1, length+1)}\n",
    "        scenario.update(new_evidence)\n",
    "\n",
    "    # provide evidence\n",
    "    evidence = {\n",
    "        (\"population_stationary\", 0): df_train[(df_train.country==test_c)\n",
    "                                            & (df_train.year == split_year)].iloc[0][\"population_stationary\"], \n",
    "        (\"gdp_per_capita_stationary\", 0): df_train[(df_train.country==test_c)\n",
    "                                        & (df_train.year == split_year)].iloc[0][\"gdp_per_capita_stationary\"], \n",
    "    }\n",
    "\n",
    "    scenario.update(evidence)\n",
    "\n",
    "    print(\"Evidence for {}: \".format(test_c), scenario, \"\\n\")\n",
    "\n",
    "    # now make a pred of Y at time t (now) till time t+horizon\n",
    "    pred_seq = inference.make_pred(\"energy_cons_stationary\",\n",
    "                                forecast_step=length+1, \n",
    "                                evidence=scenario, \n",
    "                                method=\"PM\", \n",
    "                                verbose=False)\n",
    "\n",
    "    # get actual values model should have predicted \n",
    "    actual_seq =  list(df_test[df_test.country==test_c].energy_cons_stationary)\n",
    "\n",
    "    print(\"Actual seq: \", actual_seq)\n",
    "    print(\"Pred seq: \", pred_seq[1:])\n",
    "\n",
    "    mae = np.mean(np.abs(np.array(actual_seq) - np.array(pred_seq[1:])))\n",
    "\n",
    "    results[test_c] = {'actual seq': actual_seq, 'pred seq': pred_seq[1:], 'MAE': mae}\n",
    "\n"
   ]
  },
  {
   "cell_type": "code",
   "execution_count": 24,
   "metadata": {},
   "outputs": [],
   "source": [
    "test_country = 'Poland'"
   ]
  },
  {
   "cell_type": "code",
   "execution_count": 25,
   "metadata": {},
   "outputs": [
    {
     "name": "stdout",
     "output_type": "stream",
     "text": [
      "54 54 39\n"
     ]
    },
    {
     "data": {
      "image/png": "[encoded data removed]",
      "text/plain": [
       "<Figure size 640x480 with 1 Axes>"
      ]
     },
     "metadata": {},
     "output_type": "display_data"
    }
   ],
   "source": [
    "# get sequences for comparison\n",
    "past_seq = df_stationary[(df_stationary.country == test_country)\n",
    "                         & (df_stationary.year <= split_year)].energy_cons_stationary.to_list()\n",
    "all_pred_seq = np.array(past_seq + results[test_country]['pred seq']) \n",
    "all_actual_seq = np.array(past_seq + results[test_country]['actual seq'])\n",
    "\n",
    "nb_points = all_actual_seq.shape[0]\n",
    "x_ = pd.unique(df_stationary.year)\n",
    "print(len(x_), all_pred_seq.shape[0], len(past_seq))\n",
    "\n",
    "# get curves on a sampe plot\n",
    "plt.plot(np.arange(nb_points), all_actual_seq, label=\"Actual values\")\n",
    "plt.plot(np.arange(nb_points), all_pred_seq, label=\"Prediction\")\n",
    "\n",
    "plt.title(\"Inference of scenario 1\")\n",
    "plt.xlabel(\"Time (t)\")\n",
    "plt.ylabel(\"Y(t)\")\n",
    "plt.legend()\n",
    "plt.show()"
   ]
  },
  {
   "cell_type": "code",
   "execution_count": 26,
   "metadata": {},
   "outputs": [],
   "source": [
    "def reconstruct_signal(pred, past):\n",
    "    \"\"\"\n",
    "    \"\"\"\n",
    "    true_pred = np.zeros_like(pred, dtype=np.float32)\n",
    "    for i, val in np.ndenumerate(pred):\n",
    "\n",
    "        x, y = past[-2:]\n",
    "\n",
    "        new_y = np.exp(val - np.log(x) + 2*np.log(y))\n",
    "        true_pred[i] = new_y\n",
    "        \n",
    "        past = np.hstack([past, new_y])\n",
    "\n",
    "    past_array = np.array(past)\n",
    "    return past_array"
   ]
  },
  {
   "cell_type": "markdown",
   "metadata": {},
   "source": [
    "# Comparison with ARIMA model"
   ]
  },
  {
   "cell_type": "code",
   "execution_count": 27,
   "metadata": {},
   "outputs": [
    {
     "data": {
      "image/png": "[encoded data removed]",
      "text/plain": [
       "<Figure size 640x480 with 1 Axes>"
      ]
     },
     "metadata": {},
     "output_type": "display_data"
    }
   ],
   "source": [
    "#\n",
    "ts_stationary = df_stationary[df_stationary.country == test_country]\n",
    "ts_stationary.set_index(\"year\", inplace=True, drop=True)\n",
    "ts_stationary = ts_stationary[[\"energy_cons_stationary\"]]\n",
    "ts_stationary.dropna(inplace=True)\n",
    "\n",
    "plot_acf(ts_stationary[ts_stationary.index <= split_year], lags=5)\n",
    "plt.title('Autocorrelation Function (ACF)')\n",
    "plt.show()"
   ]
  },
  {
   "cell_type": "code",
   "execution_count": 28,
   "metadata": {},
   "outputs": [
    {
     "data": {
      "image/png": "[encoded data removed]",
      "text/plain": [
       "<Figure size 640x480 with 1 Axes>"
      ]
     },
     "metadata": {},
     "output_type": "display_data"
    }
   ],
   "source": [
    "plot_pacf(ts_stationary[ts_stationary <= split_year], lags=20)\n",
    "plt.title('Partial Autocorrelation Function (PACF)')\n",
    "plt.show()"
   ]
  },
  {
   "cell_type": "code",
   "execution_count": 29,
   "metadata": {},
   "outputs": [
    {
     "name": "stderr",
     "output_type": "stream",
     "text": [
      "c:\\Users\\victo\\anaconda3\\envs\\TimeSeries\\Lib\\site-packages\\statsmodels\\tsa\\base\\tsa_model.py:473: ValueWarning: An unsupported index was provided and will be ignored when e.g. forecasting.\n",
      "  self._init_dates(dates, freq)\n",
      "c:\\Users\\victo\\anaconda3\\envs\\TimeSeries\\Lib\\site-packages\\statsmodels\\tsa\\base\\tsa_model.py:473: ValueWarning: An unsupported index was provided and will be ignored when e.g. forecasting.\n",
      "  self._init_dates(dates, freq)\n",
      "c:\\Users\\victo\\anaconda3\\envs\\TimeSeries\\Lib\\site-packages\\statsmodels\\tsa\\base\\tsa_model.py:473: ValueWarning: An unsupported index was provided and will be ignored when e.g. forecasting.\n",
      "  self._init_dates(dates, freq)\n"
     ]
    },
    {
     "name": "stdout",
     "output_type": "stream",
     "text": [
      "                                 SARIMAX Results                                  \n",
      "==================================================================================\n",
      "Dep. Variable:     energy_cons_stationary   No. Observations:                   52\n",
      "Model:                     ARIMA(1, 0, 2)   Log Likelihood                  87.778\n",
      "Date:                    Tue, 16 Apr 2024   AIC                           -165.557\n",
      "Time:                            22:46:35   BIC                           -155.801\n",
      "Sample:                                 0   HQIC                          -161.816\n",
      "                                     - 52                                         \n",
      "Covariance Type:                      opg                                         \n",
      "==============================================================================\n",
      "                 coef    std err          z      P>|z|      [0.025      0.975]\n",
      "------------------------------------------------------------------------------\n",
      "const         -0.0006      0.002     -0.349      0.727      -0.004       0.003\n",
      "ar.L1         -0.9336      0.281     -3.326      0.001      -1.484      -0.383\n",
      "ma.L1          0.2010     14.382      0.014      0.989     -27.988      28.390\n",
      "ma.L2         -0.7983     11.422     -0.070      0.944     -23.185      21.589\n",
      "sigma2         0.0019      0.027      0.070      0.944      -0.052       0.056\n",
      "===================================================================================\n",
      "Ljung-Box (L1) (Q):                   0.23   Jarque-Bera (JB):               103.04\n",
      "Prob(Q):                              0.63   Prob(JB):                         0.00\n",
      "Heteroskedasticity (H):               0.70   Skew:                            -1.90\n",
      "Prob(H) (two-sided):                  0.47   Kurtosis:                         8.76\n",
      "===================================================================================\n",
      "\n",
      "Warnings:\n",
      "[1] Covariance matrix calculated using the outer product of gradients (complex-step).\n"
     ]
    },
    {
     "name": "stderr",
     "output_type": "stream",
     "text": [
      "c:\\Users\\victo\\anaconda3\\envs\\TimeSeries\\Lib\\site-packages\\statsmodels\\tsa\\base\\tsa_model.py:836: ValueWarning: No supported index is available. Prediction results will be given with an integer index beginning at `start`.\n",
      "  return get_prediction_index(\n",
      "c:\\Users\\victo\\anaconda3\\envs\\TimeSeries\\Lib\\site-packages\\statsmodels\\tsa\\base\\tsa_model.py:836: FutureWarning: No supported index is available. In the next version, calling this method in a model without a supported index will result in an exception.\n",
      "  return get_prediction_index(\n"
     ]
    }
   ],
   "source": [
    "# Replace p, d, q values with the parameters determined from ACF and PACF plots\n",
    "p = 1  # AR order\n",
    "d = 0  # differencing order (set to 0 for stationary data)\n",
    "q = 2  # MA order\n",
    "model = ARIMA(ts_stationary[ts_stationary <= split_year], order=(p, d, q))\n",
    "results = model.fit()\n",
    "\n",
    "# Summary of the ARIMA model\n",
    "print(results.summary())\n",
    "\n",
    "# Forecast future values\n",
    "forecast_steps = length  # Number of steps ahead to forecast\n",
    "forecast = results.forecast(steps=forecast_steps)\n",
    "\n",
    "ts_stationary[\"pred_arima\"] = list(ts_stationary[ts_stationary.index <= split_year].values) + list(forecast)"
   ]
  },
  {
   "cell_type": "code",
   "execution_count": 30,
   "metadata": {},
   "outputs": [],
   "source": [
    "ts_stationary[\"pred_DBN\"] = list(ts_stationary[ts_stationary.index <= split_year].energy_cons_stationary) + list(pred_seq[1:])"
   ]
  },
  {
   "cell_type": "code",
   "execution_count": 40,
   "metadata": {},
   "outputs": [
    {
     "data": {
      "image/png": "[encoded data removed]",
      "text/plain": [
       "<Figure size 1000x600 with 1 Axes>"
      ]
     },
     "metadata": {},
     "output_type": "display_data"
    }
   ],
   "source": [
    "# Plot the original time series and the forecasted values\n",
    "plt.figure(figsize=(10, 6))\n",
    "plt.plot(ts_stationary.energy_cons_stationary, label='Original Data')\n",
    "plt.plot(ts_stationary[ts_stationary.index >= split_year].pred_arima, label='ARIMA', color='red')\n",
    "plt.plot(ts_stationary[ts_stationary.index >= split_year].pred_DBN, label='D-DBN', color='orange')\n",
    "plt.title('D-DBN and ARIMA Forecast')\n",
    "plt.xlabel('Date')\n",
    "plt.ylabel('Value')\n",
    "plt.legend()\n",
    "plt.show()"
   ]
  },
  {
   "cell_type": "code",
   "execution_count": 38,
   "metadata": {},
   "outputs": [
    {
     "data": {
      "text/plain": [
       "<matplotlib.legend.Legend at 0x1dd10b7b850>"
      ]
     },
     "execution_count": 38,
     "metadata": {},
     "output_type": "execute_result"
    },
    {
     "data": {
      "image/png": "[encoded data removed]",
      "text/plain": [
       "<Figure size 1000x600 with 1 Axes>"
      ]
     },
     "metadata": {},
     "output_type": "display_data"
    }
   ],
   "source": [
    "past_seq = list(data[(data.country == test_country)\n",
    "                     & (data.year <= split_year)].energy_cons)\n",
    "true_actual = data[(data.country == test_country)].energy_cons.to_numpy()\n",
    "\n",
    "rec_actual = reconstruct_signal(actual_seq, past_seq)\n",
    "true_pred_DBN = reconstruct_signal(pred_seq[1:], past_seq)\n",
    "true_pred_ARIMA = reconstruct_signal(forecast, past_seq)\n",
    "\n",
    "plt.figure(figsize=(10, 6))\n",
    "plt.plot(true_pred_ARIMA, label=\"ARIMA prediction\")\n",
    "plt.plot(true_pred_DBN, label=\"DBN Prediction\")\n",
    "plt.plot(true_actual, label=\"Actual sequence\")\n",
    "\n",
    "plt.legend()"
   ]
  },
  {
   "cell_type": "markdown",
   "metadata": {},
   "source": [
    "## Compute MAE"
   ]
  },
  {
   "cell_type": "code",
   "execution_count": 34,
   "metadata": {},
   "outputs": [
    {
     "data": {
      "text/plain": [
       "15.627385050075713"
      ]
     },
     "execution_count": 34,
     "metadata": {},
     "output_type": "execute_result"
    }
   ],
   "source": [
    "(np.sum(np.abs(rec_actual - true_pred_ARIMA))/length)/1163"
   ]
  }
 ],
 "metadata": {
  "kernelspec": {
   "display_name": "time_series",
   "language": "python",
   "name": "python3"
  },
  "language_info": {
   "codemirror_mode": {
    "name": "ipython",
    "version": 3
   },
   "file_extension": ".py",
   "mimetype": "text/x-python",
   "name": "python",
   "nbconvert_exporter": "python",
   "pygments_lexer": "ipython3",
   "version": "3.11.5"
  }
 },
 "nbformat": 4,
 "nbformat_minor": 2
}
