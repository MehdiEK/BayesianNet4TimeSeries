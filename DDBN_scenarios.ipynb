{
 "cells": [
  {
   "cell_type": "code",
   "execution_count": 1,
   "metadata": {},
   "outputs": [
    {
     "name": "stderr",
     "output_type": "stream",
     "text": [
      "c:\\Users\\victo\\anaconda3\\envs\\TimeSeries\\Lib\\site-packages\\tqdm\\auto.py:21: TqdmWarning: IProgress not found. Please update jupyter and ipywidgets. See https://ipywidgets.readthedocs.io/en/stable/user_install.html\n",
      "  from .autonotebook import tqdm as notebook_tqdm\n"
     ]
    }
   ],
   "source": [
    "import pandas as pd\n",
    "import numpy as np\n",
    "import matplotlib.pyplot as plt\n",
    "import seaborn as sns\n",
    "from statsmodels.tsa.stattools import adfuller \n",
    "from statsmodels.tsa.arima.model import ARIMA\n",
    "from statsmodels.graphics.tsaplots import plot_acf, plot_pacf\n",
    "\n",
    "from pgmpy.models import DynamicBayesianNetwork as DBN\n",
    "from pgmpy.inference import DBNInference\n",
    "\n",
    "from models.model_v0 import DumbDiscretizer, pgmpy_friendly_transformer, CustomDBNInference"
   ]
  },
  {
   "cell_type": "markdown",
   "metadata": {},
   "source": [
    "# I. General settings"
   ]
  },
  {
   "cell_type": "code",
   "execution_count": 28,
   "metadata": {},
   "outputs": [],
   "source": [
    "# load data parameters \n",
    "countries = ['France', 'Germany', 'United Kingdom', 'Italy', 'Spain', 'Japan', \n",
    "             'Sweden', 'Switzerland', 'Belgium', 'Australia', 'Austria', 'China', \n",
    "             'Croatia', 'Finland', 'Greece', 'India', 'New Zealand', \n",
    "             'Russia']\n",
    "columns = ['year', 'population', 'gdp', 'energy_per_capita', 'country']\n",
    "\n",
    "# preprocessing parameters\n",
    "split_year = 2009  # trainset until split_year\n",
    "test_country = \"United Kingdom\"\n",
    "sliding_window = 2\n",
    "# define discretization strategy\n",
    "nb_classes = {  # nb of classes for each variable\n",
    "    \"gdp_per_capita_stationary\": 10,  \n",
    "    \"population_stationary\": 10, \n",
    "    \"energy_cons_stationary\": 5\n",
    "}\n",
    "\n",
    "# model parameters\n"
   ]
  },
  {
   "cell_type": "markdown",
   "metadata": {},
   "source": [
    "# II. Load data"
   ]
  },
  {
   "cell_type": "markdown",
   "metadata": {},
   "source": [
    "### Load raw data "
   ]
  },
  {
   "cell_type": "code",
   "execution_count": 8,
   "metadata": {},
   "outputs": [
    {
     "name": "stdout",
     "output_type": "stream",
     "text": [
      "<class 'pandas.core.frame.DataFrame'>\n",
      "RangeIndex: 22012 entries, 0 to 22011\n",
      "Columns: 129 entries, country to wind_share_energy\n",
      "dtypes: float64(126), int64(1), object(2)\n",
      "memory usage: 21.7+ MB\n"
     ]
    }
   ],
   "source": [
    "all_data = pd.read_csv(\"data/WorldEnergyConsumption.csv\")\n",
    "all_data.info()"
   ]
  },
  {
   "cell_type": "markdown",
   "metadata": {},
   "source": [
    "### Select columns"
   ]
  },
  {
   "cell_type": "code",
   "execution_count": 9,
   "metadata": {},
   "outputs": [
    {
     "data": {
      "text/html": [
       "<div>\n",
       "<style scoped>\n",
       "    .dataframe tbody tr th:only-of-type {\n",
       "        vertical-align: middle;\n",
       "    }\n",
       "\n",
       "    .dataframe tbody tr th {\n",
       "        vertical-align: top;\n",
       "    }\n",
       "\n",
       "    .dataframe thead th {\n",
       "        text-align: right;\n",
       "    }\n",
       "</style>\n",
       "<table border=\"1\" class=\"dataframe\">\n",
       "  <thead>\n",
       "    <tr style=\"text-align: right;\">\n",
       "      <th></th>\n",
       "      <th>year</th>\n",
       "      <th>population</th>\n",
       "      <th>gdp</th>\n",
       "      <th>energy_per_capita</th>\n",
       "    </tr>\n",
       "  </thead>\n",
       "  <tbody>\n",
       "    <tr>\n",
       "      <th>count</th>\n",
       "      <td>22012.000000</td>\n",
       "      <td>1.812300e+04</td>\n",
       "      <td>1.111300e+04</td>\n",
       "      <td>10602.000000</td>\n",
       "    </tr>\n",
       "    <tr>\n",
       "      <th>mean</th>\n",
       "      <td>1974.213247</td>\n",
       "      <td>1.053096e+08</td>\n",
       "      <td>3.585114e+11</td>\n",
       "      <td>25742.760033</td>\n",
       "    </tr>\n",
       "    <tr>\n",
       "      <th>std</th>\n",
       "      <td>35.058653</td>\n",
       "      <td>4.640460e+08</td>\n",
       "      <td>2.411179e+12</td>\n",
       "      <td>36122.506628</td>\n",
       "    </tr>\n",
       "    <tr>\n",
       "      <th>min</th>\n",
       "      <td>1900.000000</td>\n",
       "      <td>1.833000e+03</td>\n",
       "      <td>1.642060e+08</td>\n",
       "      <td>0.000000</td>\n",
       "    </tr>\n",
       "    <tr>\n",
       "      <th>25%</th>\n",
       "      <td>1946.000000</td>\n",
       "      <td>1.712404e+06</td>\n",
       "      <td>1.365898e+10</td>\n",
       "      <td>3101.076250</td>\n",
       "    </tr>\n",
       "    <tr>\n",
       "      <th>50%</th>\n",
       "      <td>1984.000000</td>\n",
       "      <td>6.991543e+06</td>\n",
       "      <td>4.167411e+10</td>\n",
       "      <td>13597.986000</td>\n",
       "    </tr>\n",
       "    <tr>\n",
       "      <th>75%</th>\n",
       "      <td>2003.000000</td>\n",
       "      <td>2.557688e+07</td>\n",
       "      <td>1.744295e+11</td>\n",
       "      <td>36847.052500</td>\n",
       "    </tr>\n",
       "    <tr>\n",
       "      <th>max</th>\n",
       "      <td>2022.000000</td>\n",
       "      <td>7.975105e+09</td>\n",
       "      <td>1.136302e+14</td>\n",
       "      <td>657539.188000</td>\n",
       "    </tr>\n",
       "  </tbody>\n",
       "</table>\n",
       "</div>"
      ],
      "text/plain": [
       "               year    population           gdp  energy_per_capita\n",
       "count  22012.000000  1.812300e+04  1.111300e+04       10602.000000\n",
       "mean    1974.213247  1.053096e+08  3.585114e+11       25742.760033\n",
       "std       35.058653  4.640460e+08  2.411179e+12       36122.506628\n",
       "min     1900.000000  1.833000e+03  1.642060e+08           0.000000\n",
       "25%     1946.000000  1.712404e+06  1.365898e+10        3101.076250\n",
       "50%     1984.000000  6.991543e+06  4.167411e+10       13597.986000\n",
       "75%     2003.000000  2.557688e+07  1.744295e+11       36847.052500\n",
       "max     2022.000000  7.975105e+09  1.136302e+14      657539.188000"
      ]
     },
     "execution_count": 9,
     "metadata": {},
     "output_type": "execute_result"
    }
   ],
   "source": [
    "data = all_data[columns]\n",
    "data.describe()"
   ]
  },
  {
   "cell_type": "markdown",
   "metadata": {},
   "source": [
    "### Select countries"
   ]
  },
  {
   "cell_type": "code",
   "execution_count": 11,
   "metadata": {},
   "outputs": [
    {
     "data": {
      "text/html": [
       "<div>\n",
       "<style scoped>\n",
       "    .dataframe tbody tr th:only-of-type {\n",
       "        vertical-align: middle;\n",
       "    }\n",
       "\n",
       "    .dataframe tbody tr th {\n",
       "        vertical-align: top;\n",
       "    }\n",
       "\n",
       "    .dataframe thead th {\n",
       "        text-align: right;\n",
       "    }\n",
       "</style>\n",
       "<table border=\"1\" class=\"dataframe\">\n",
       "  <thead>\n",
       "    <tr style=\"text-align: right;\">\n",
       "      <th></th>\n",
       "      <th>year</th>\n",
       "      <th>population</th>\n",
       "      <th>gdp</th>\n",
       "      <th>energy_per_capita</th>\n",
       "      <th>country</th>\n",
       "    </tr>\n",
       "  </thead>\n",
       "  <tbody>\n",
       "    <tr>\n",
       "      <th>4901</th>\n",
       "      <td>1990</td>\n",
       "      <td>4873705.0</td>\n",
       "      <td>5.837408e+10</td>\n",
       "      <td>20686.525</td>\n",
       "      <td>Croatia</td>\n",
       "    </tr>\n",
       "    <tr>\n",
       "      <th>2398</th>\n",
       "      <td>2012</td>\n",
       "      <td>11031140.0</td>\n",
       "      <td>4.211009e+11</td>\n",
       "      <td>62090.016</td>\n",
       "      <td>Belgium</td>\n",
       "    </tr>\n",
       "    <tr>\n",
       "      <th>7758</th>\n",
       "      <td>1977</td>\n",
       "      <td>78221280.0</td>\n",
       "      <td>1.628636e+12</td>\n",
       "      <td>51228.902</td>\n",
       "      <td>Germany</td>\n",
       "    </tr>\n",
       "    <tr>\n",
       "      <th>16940</th>\n",
       "      <td>2017</td>\n",
       "      <td>145452544.0</td>\n",
       "      <td>3.524075e+12</td>\n",
       "      <td>55974.684</td>\n",
       "      <td>Russia</td>\n",
       "    </tr>\n",
       "    <tr>\n",
       "      <th>4927</th>\n",
       "      <td>2016</td>\n",
       "      <td>4223748.0</td>\n",
       "      <td>8.023019e+10</td>\n",
       "      <td>22428.080</td>\n",
       "      <td>Croatia</td>\n",
       "    </tr>\n",
       "  </tbody>\n",
       "</table>\n",
       "</div>"
      ],
      "text/plain": [
       "       year   population           gdp  energy_per_capita  country\n",
       "4901   1990    4873705.0  5.837408e+10          20686.525  Croatia\n",
       "2398   2012   11031140.0  4.211009e+11          62090.016  Belgium\n",
       "7758   1977   78221280.0  1.628636e+12          51228.902  Germany\n",
       "16940  2017  145452544.0  3.524075e+12          55974.684   Russia\n",
       "4927   2016    4223748.0  8.023019e+10          22428.080  Croatia"
      ]
     },
     "execution_count": 11,
     "metadata": {},
     "output_type": "execute_result"
    }
   ],
   "source": [
    "data = data.loc[data.country.isin(countries)]\n",
    "data.dropna(inplace=True)  # drop all nan values\n",
    "data.sample(5)"
   ]
  },
  {
   "cell_type": "code",
   "execution_count": 12,
   "metadata": {},
   "outputs": [],
   "source": [
    "# rescale data \n",
    "data['gdp'] /= 1e12\n",
    "data['population'] /= 1e7\n",
    "\n",
    "# create gdp_per_capita and energy_cons\n",
    "\n",
    "data['gdp_per_capita'] = data['gdp']/data['population']\n",
    "data['energy_cons'] = data['energy_per_capita']*data['population']"
   ]
  },
  {
   "cell_type": "markdown",
   "metadata": {},
   "source": [
    "# III. Preprocessing "
   ]
  },
  {
   "cell_type": "markdown",
   "metadata": {},
   "source": [
    "### Stationarization "
   ]
  },
  {
   "cell_type": "markdown",
   "metadata": {},
   "source": [
    "Fonction permettant de stationariser les time series:"
   ]
  },
  {
   "cell_type": "code",
   "execution_count": 17,
   "metadata": {},
   "outputs": [],
   "source": [
    "def stationarize(input_df: pd.DataFrame):\n",
    "    \"\"\"\n",
    "    Given data corresponding to only one country, \n",
    "    create new columns for time series stationarization.\n",
    "\n",
    "    :params input_df: pd.DataFrame\n",
    "        Dataframe of a ocuntry with at least gdp, energy_per_capita and \n",
    "        population columns \n",
    "\n",
    "    :return pd.DataFrame\n",
    "    \"\"\"\n",
    "    # copy input dataframe \n",
    "    df = input_df.copy()\n",
    "\n",
    "    # stationarisation of gdp \n",
    "    df['log_gdp'] = df['gdp_per_capita'].apply(lambda x: np.log(x))\n",
    "    df['gdp_order_1'] = df['log_gdp'] - df['log_gdp'].shift()\n",
    "    df['gdp_per_capita_stationary'] = df['gdp_order_1'] - df['gdp_order_1'].shift()\n",
    "\n",
    "    # stationarization of energy consumption per capita\n",
    "    df['log_energy'] = df['energy_cons'].apply(lambda x: np.log(x))\n",
    "    df['energy_cons_order_1'] = df['log_energy'] - df['log_energy'].shift()\n",
    "    df['energy_cons_stationary'] = df['energy_cons_order_1'] - df['energy_cons_order_1'].shift()\n",
    "    \n",
    "    # stationarization of population\n",
    "    df['log_pop'] = df['population'].apply(lambda x: np.log(x))\n",
    "    df['population_order_1'] = df['log_pop'] - df['log_pop'].shift()\n",
    "    df['population_stationary'] = df['population_order_1'] - df['population_order_1'].shift()\n",
    "\n",
    "    # new create columns \n",
    "    new_columns = [\n",
    "        \"gdp_per_capita_stationary\", \n",
    "        \"energy_cons_stationary\",\n",
    "        \"population_stationary\"\n",
    "    ]\n",
    "\n",
    "    # old columns to keep \n",
    "    old_cols = [\"country\", \"year\"]\n",
    "\n",
    "    return df[new_columns + old_cols]"
   ]
  },
  {
   "cell_type": "code",
   "execution_count": 18,
   "metadata": {},
   "outputs": [
    {
     "data": {
      "text/html": [
       "<div>\n",
       "<style scoped>\n",
       "    .dataframe tbody tr th:only-of-type {\n",
       "        vertical-align: middle;\n",
       "    }\n",
       "\n",
       "    .dataframe tbody tr th {\n",
       "        vertical-align: top;\n",
       "    }\n",
       "\n",
       "    .dataframe thead th {\n",
       "        text-align: right;\n",
       "    }\n",
       "</style>\n",
       "<table border=\"1\" class=\"dataframe\">\n",
       "  <thead>\n",
       "    <tr style=\"text-align: right;\">\n",
       "      <th></th>\n",
       "      <th>gdp_per_capita_stationary</th>\n",
       "      <th>energy_cons_stationary</th>\n",
       "      <th>population_stationary</th>\n",
       "      <th>country</th>\n",
       "      <th>year</th>\n",
       "    </tr>\n",
       "  </thead>\n",
       "  <tbody>\n",
       "    <tr>\n",
       "      <th>9281</th>\n",
       "      <td>0.006131</td>\n",
       "      <td>-0.031204</td>\n",
       "      <td>-0.000526</td>\n",
       "      <td>India</td>\n",
       "      <td>2015</td>\n",
       "    </tr>\n",
       "    <tr>\n",
       "      <th>18845</th>\n",
       "      <td>0.027315</td>\n",
       "      <td>0.097836</td>\n",
       "      <td>0.000813</td>\n",
       "      <td>Switzerland</td>\n",
       "      <td>1985</td>\n",
       "    </tr>\n",
       "    <tr>\n",
       "      <th>1620</th>\n",
       "      <td>-0.022315</td>\n",
       "      <td>-0.006896</td>\n",
       "      <td>0.002204</td>\n",
       "      <td>Australia</td>\n",
       "      <td>2008</td>\n",
       "    </tr>\n",
       "    <tr>\n",
       "      <th>7222</th>\n",
       "      <td>0.006900</td>\n",
       "      <td>0.031352</td>\n",
       "      <td>-0.000148</td>\n",
       "      <td>Finland</td>\n",
       "      <td>2013</td>\n",
       "    </tr>\n",
       "    <tr>\n",
       "      <th>20552</th>\n",
       "      <td>0.003038</td>\n",
       "      <td>-0.029044</td>\n",
       "      <td>0.000448</td>\n",
       "      <td>United Kingdom</td>\n",
       "      <td>1987</td>\n",
       "    </tr>\n",
       "    <tr>\n",
       "      <th>9977</th>\n",
       "      <td>0.034142</td>\n",
       "      <td>-0.004810</td>\n",
       "      <td>0.000412</td>\n",
       "      <td>Italy</td>\n",
       "      <td>1973</td>\n",
       "    </tr>\n",
       "    <tr>\n",
       "      <th>18404</th>\n",
       "      <td>0.015102</td>\n",
       "      <td>-0.045744</td>\n",
       "      <td>-0.003844</td>\n",
       "      <td>Spain</td>\n",
       "      <td>2013</td>\n",
       "    </tr>\n",
       "    <tr>\n",
       "      <th>7201</th>\n",
       "      <td>0.027002</td>\n",
       "      <td>-0.026243</td>\n",
       "      <td>0.000161</td>\n",
       "      <td>Finland</td>\n",
       "      <td>1992</td>\n",
       "    </tr>\n",
       "    <tr>\n",
       "      <th>10166</th>\n",
       "      <td>-0.019893</td>\n",
       "      <td>-0.000068</td>\n",
       "      <td>0.000070</td>\n",
       "      <td>Japan</td>\n",
       "      <td>1997</td>\n",
       "    </tr>\n",
       "    <tr>\n",
       "      <th>16938</th>\n",
       "      <td>-0.052603</td>\n",
       "      <td>-0.018987</td>\n",
       "      <td>0.000376</td>\n",
       "      <td>Russia</td>\n",
       "      <td>2015</td>\n",
       "    </tr>\n",
       "  </tbody>\n",
       "</table>\n",
       "</div>"
      ],
      "text/plain": [
       "       gdp_per_capita_stationary  energy_cons_stationary  \\\n",
       "9281                    0.006131               -0.031204   \n",
       "18845                   0.027315                0.097836   \n",
       "1620                   -0.022315               -0.006896   \n",
       "7222                    0.006900                0.031352   \n",
       "20552                   0.003038               -0.029044   \n",
       "9977                    0.034142               -0.004810   \n",
       "18404                   0.015102               -0.045744   \n",
       "7201                    0.027002               -0.026243   \n",
       "10166                  -0.019893               -0.000068   \n",
       "16938                  -0.052603               -0.018987   \n",
       "\n",
       "       population_stationary         country  year  \n",
       "9281               -0.000526           India  2015  \n",
       "18845               0.000813     Switzerland  1985  \n",
       "1620                0.002204       Australia  2008  \n",
       "7222               -0.000148         Finland  2013  \n",
       "20552               0.000448  United Kingdom  1987  \n",
       "9977                0.000412           Italy  1973  \n",
       "18404              -0.003844           Spain  2013  \n",
       "7201                0.000161         Finland  1992  \n",
       "10166               0.000070           Japan  1997  \n",
       "16938               0.000376          Russia  2015  "
      ]
     },
     "execution_count": 18,
     "metadata": {},
     "output_type": "execute_result"
    }
   ],
   "source": [
    "# stationarize data \n",
    "for i, country in enumerate(countries):\n",
    "    df_country = stationarize(data[data.country == country])\n",
    "\n",
    "    if i == 0:\n",
    "        df_stationary = df_country\n",
    "    else:\n",
    "        df_stationary = pd.concat([df_stationary, df_country])\n",
    "\n",
    "df_stationary.sample(10)"
   ]
  },
  {
   "cell_type": "markdown",
   "metadata": {},
   "source": [
    "Nous devons analyser pourquoi des NaN se glissent dans le dataframe à cette étape (j'y reviens plus tard)"
   ]
  },
  {
   "cell_type": "code",
   "execution_count": 19,
   "metadata": {},
   "outputs": [
    {
     "data": {
      "text/plain": [
       "927"
      ]
     },
     "execution_count": 19,
     "metadata": {},
     "output_type": "execute_result"
    }
   ],
   "source": [
    "df_stationary[df_stationary.isna()].shape[0]"
   ]
  },
  {
   "cell_type": "markdown",
   "metadata": {},
   "source": [
    "### Train-Test split "
   ]
  },
  {
   "cell_type": "code",
   "execution_count": 20,
   "metadata": {},
   "outputs": [
    {
     "name": "stdout",
     "output_type": "stream",
     "text": [
      "Train size: 918\n",
      "Test size: 9\n"
     ]
    }
   ],
   "source": [
    "df_test = df_stationary.loc[(df_stationary.country == test_country)\n",
    "                            & (df_stationary.year> split_year)]\n",
    "df_train = df_stationary[~df_stationary.index.isin(df_test.index)]\n",
    "\n",
    "print(f\"Train size: {df_train.shape[0]}\")\n",
    "print(f\"Test size: {df_test.shape[0]}\")"
   ]
  },
  {
   "cell_type": "code",
   "execution_count": 21,
   "metadata": {},
   "outputs": [
    {
     "name": "stderr",
     "output_type": "stream",
     "text": [
      "C:\\Users\\victo\\AppData\\Local\\Temp\\ipykernel_23860\\370300940.py:1: SettingWithCopyWarning: \n",
      "A value is trying to be set on a copy of a slice from a DataFrame\n",
      "\n",
      "See the caveats in the documentation: https://pandas.pydata.org/pandas-docs/stable/user_guide/indexing.html#returning-a-view-versus-a-copy\n",
      "  df_train.dropna(inplace=True)\n"
     ]
    }
   ],
   "source": [
    "df_train.dropna(inplace=True)"
   ]
  },
  {
   "cell_type": "markdown",
   "metadata": {},
   "source": [
    "### Discretization "
   ]
  },
  {
   "cell_type": "code",
   "execution_count": 22,
   "metadata": {},
   "outputs": [
    {
     "name": "stdout",
     "output_type": "stream",
     "text": [
      "882 rows without NaN\n"
     ]
    }
   ],
   "source": [
    "print(f\"{df_train[~df_train.isna()].shape[0]} rows without NaN\")"
   ]
  },
  {
   "cell_type": "code",
   "execution_count": 24,
   "metadata": {},
   "outputs": [
    {
     "data": {
      "text/html": [
       "<div>\n",
       "<style scoped>\n",
       "    .dataframe tbody tr th:only-of-type {\n",
       "        vertical-align: middle;\n",
       "    }\n",
       "\n",
       "    .dataframe tbody tr th {\n",
       "        vertical-align: top;\n",
       "    }\n",
       "\n",
       "    .dataframe thead th {\n",
       "        text-align: right;\n",
       "    }\n",
       "</style>\n",
       "<table border=\"1\" class=\"dataframe\">\n",
       "  <thead>\n",
       "    <tr style=\"text-align: right;\">\n",
       "      <th></th>\n",
       "      <th>gdp_per_capita_stationary</th>\n",
       "      <th>energy_cons_stationary</th>\n",
       "      <th>population_stationary</th>\n",
       "      <th>country</th>\n",
       "      <th>year</th>\n",
       "    </tr>\n",
       "  </thead>\n",
       "  <tbody>\n",
       "    <tr>\n",
       "      <th>7299</th>\n",
       "      <td>-0.003909</td>\n",
       "      <td>0.038158</td>\n",
       "      <td>-4.363084e-04</td>\n",
       "      <td>France</td>\n",
       "      <td>1967</td>\n",
       "    </tr>\n",
       "    <tr>\n",
       "      <th>7300</th>\n",
       "      <td>-0.001252</td>\n",
       "      <td>-0.007915</td>\n",
       "      <td>-7.560240e-04</td>\n",
       "      <td>France</td>\n",
       "      <td>1968</td>\n",
       "    </tr>\n",
       "    <tr>\n",
       "      <th>7301</th>\n",
       "      <td>0.024484</td>\n",
       "      <td>0.043035</td>\n",
       "      <td>-6.086927e-04</td>\n",
       "      <td>France</td>\n",
       "      <td>1969</td>\n",
       "    </tr>\n",
       "    <tr>\n",
       "      <th>7302</th>\n",
       "      <td>-0.011263</td>\n",
       "      <td>-0.014586</td>\n",
       "      <td>-1.414622e-04</td>\n",
       "      <td>France</td>\n",
       "      <td>1970</td>\n",
       "    </tr>\n",
       "    <tr>\n",
       "      <th>7303</th>\n",
       "      <td>-0.008498</td>\n",
       "      <td>-0.043654</td>\n",
       "      <td>1.328581e-04</td>\n",
       "      <td>France</td>\n",
       "      <td>1971</td>\n",
       "    </tr>\n",
       "    <tr>\n",
       "      <th>...</th>\n",
       "      <td>...</td>\n",
       "      <td>...</td>\n",
       "      <td>...</td>\n",
       "      <td>...</td>\n",
       "      <td>...</td>\n",
       "    </tr>\n",
       "    <tr>\n",
       "      <th>16937</th>\n",
       "      <td>0.009681</td>\n",
       "      <td>0.014959</td>\n",
       "      <td>-2.964643e-07</td>\n",
       "      <td>Russia</td>\n",
       "      <td>2014</td>\n",
       "    </tr>\n",
       "    <tr>\n",
       "      <th>16938</th>\n",
       "      <td>-0.052603</td>\n",
       "      <td>-0.018987</td>\n",
       "      <td>3.757969e-04</td>\n",
       "      <td>Russia</td>\n",
       "      <td>2015</td>\n",
       "    </tr>\n",
       "    <tr>\n",
       "      <th>16939</th>\n",
       "      <td>0.026879</td>\n",
       "      <td>0.036117</td>\n",
       "      <td>3.890083e-04</td>\n",
       "      <td>Russia</td>\n",
       "      <td>2016</td>\n",
       "    </tr>\n",
       "    <tr>\n",
       "      <th>16940</th>\n",
       "      <td>0.018780</td>\n",
       "      <td>-0.014190</td>\n",
       "      <td>-6.784716e-04</td>\n",
       "      <td>Russia</td>\n",
       "      <td>2017</td>\n",
       "    </tr>\n",
       "    <tr>\n",
       "      <th>16941</th>\n",
       "      <td>0.008244</td>\n",
       "      <td>0.030155</td>\n",
       "      <td>-9.913269e-04</td>\n",
       "      <td>Russia</td>\n",
       "      <td>2018</td>\n",
       "    </tr>\n",
       "  </tbody>\n",
       "</table>\n",
       "<p>882 rows × 5 columns</p>\n",
       "</div>"
      ],
      "text/plain": [
       "       gdp_per_capita_stationary  energy_cons_stationary  \\\n",
       "7299                   -0.003909                0.038158   \n",
       "7300                   -0.001252               -0.007915   \n",
       "7301                    0.024484                0.043035   \n",
       "7302                   -0.011263               -0.014586   \n",
       "7303                   -0.008498               -0.043654   \n",
       "...                          ...                     ...   \n",
       "16937                   0.009681                0.014959   \n",
       "16938                  -0.052603               -0.018987   \n",
       "16939                   0.026879                0.036117   \n",
       "16940                   0.018780               -0.014190   \n",
       "16941                   0.008244                0.030155   \n",
       "\n",
       "       population_stationary country  year  \n",
       "7299           -4.363084e-04  France  1967  \n",
       "7300           -7.560240e-04  France  1968  \n",
       "7301           -6.086927e-04  France  1969  \n",
       "7302           -1.414622e-04  France  1970  \n",
       "7303            1.328581e-04  France  1971  \n",
       "...                      ...     ...   ...  \n",
       "16937          -2.964643e-07  Russia  2014  \n",
       "16938           3.757969e-04  Russia  2015  \n",
       "16939           3.890083e-04  Russia  2016  \n",
       "16940          -6.784716e-04  Russia  2017  \n",
       "16941          -9.913269e-04  Russia  2018  \n",
       "\n",
       "[882 rows x 5 columns]"
      ]
     },
     "execution_count": 24,
     "metadata": {},
     "output_type": "execute_result"
    }
   ],
   "source": [
    "df_train"
   ]
  },
  {
   "cell_type": "code",
   "execution_count": 29,
   "metadata": {},
   "outputs": [
    {
     "name": "stdout",
     "output_type": "stream",
     "text": [
      "Nb of rows continaing NaN values: 5\n"
     ]
    },
    {
     "data": {
      "text/html": [
       "<div>\n",
       "<style scoped>\n",
       "    .dataframe tbody tr th:only-of-type {\n",
       "        vertical-align: middle;\n",
       "    }\n",
       "\n",
       "    .dataframe tbody tr th {\n",
       "        vertical-align: top;\n",
       "    }\n",
       "\n",
       "    .dataframe thead th {\n",
       "        text-align: right;\n",
       "    }\n",
       "</style>\n",
       "<table border=\"1\" class=\"dataframe\">\n",
       "  <thead>\n",
       "    <tr style=\"text-align: right;\">\n",
       "      <th></th>\n",
       "      <th>gdp_per_capita_stationary</th>\n",
       "      <th>energy_cons_stationary</th>\n",
       "      <th>population_stationary</th>\n",
       "      <th>country</th>\n",
       "      <th>year</th>\n",
       "    </tr>\n",
       "  </thead>\n",
       "  <tbody>\n",
       "    <tr>\n",
       "      <th>18402</th>\n",
       "      <td>5</td>\n",
       "      <td>2</td>\n",
       "      <td>4</td>\n",
       "      <td>Spain</td>\n",
       "      <td>2011</td>\n",
       "    </tr>\n",
       "    <tr>\n",
       "      <th>10174</th>\n",
       "      <td>5</td>\n",
       "      <td>2</td>\n",
       "      <td>4</td>\n",
       "      <td>Japan</td>\n",
       "      <td>2005</td>\n",
       "    </tr>\n",
       "    <tr>\n",
       "      <th>18753</th>\n",
       "      <td>5</td>\n",
       "      <td>2</td>\n",
       "      <td>5</td>\n",
       "      <td>Sweden</td>\n",
       "      <td>2016</td>\n",
       "    </tr>\n",
       "    <tr>\n",
       "      <th>1795</th>\n",
       "      <td>6</td>\n",
       "      <td>2</td>\n",
       "      <td>4</td>\n",
       "      <td>Austria</td>\n",
       "      <td>2018</td>\n",
       "    </tr>\n",
       "    <tr>\n",
       "      <th>1629</th>\n",
       "      <td>5</td>\n",
       "      <td>2</td>\n",
       "      <td>5</td>\n",
       "      <td>Australia</td>\n",
       "      <td>2017</td>\n",
       "    </tr>\n",
       "  </tbody>\n",
       "</table>\n",
       "</div>"
      ],
      "text/plain": [
       "       gdp_per_capita_stationary  energy_cons_stationary  \\\n",
       "18402                          5                       2   \n",
       "10174                          5                       2   \n",
       "18753                          5                       2   \n",
       "1795                           6                       2   \n",
       "1629                           5                       2   \n",
       "\n",
       "       population_stationary    country  year  \n",
       "18402                      4      Spain  2011  \n",
       "10174                      4      Japan  2005  \n",
       "18753                      5     Sweden  2016  \n",
       "1795                       4    Austria  2018  \n",
       "1629                       5  Australia  2017  "
      ]
     },
     "execution_count": 29,
     "metadata": {},
     "output_type": "execute_result"
    }
   ],
   "source": [
    "# define discretizer object \n",
    "discretizer = DumbDiscretizer(df_train, nb_classes=nb_classes)\n",
    "\n",
    "# indexed dataframe \n",
    "df_index = discretizer.df\n",
    "\n",
    "# print nb of NaN (must be investigated later) and dorp them\n",
    "print(f\"Nb of rows continaing NaN values: {df_index.isna().shape[1]}\")\n",
    "df_index.dropna(inplace=True)\n",
    "df_index.sample(5)"
   ]
  },
  {
   "cell_type": "markdown",
   "metadata": {},
   "source": [
    "### PGMPY friendly preprocessing"
   ]
  },
  {
   "cell_type": "code",
   "execution_count": 30,
   "metadata": {},
   "outputs": [
    {
     "name": "stdout",
     "output_type": "stream",
     "text": [
      "Country: France (52, 3)\n",
      "Country: Germany (52, 3)\n",
      "Country: United Kingdom (43, 3)\n",
      "Country: Italy (52, 3)\n",
      "Country: Spain (52, 3)\n",
      "Country: Japan (52, 3)\n",
      "Country: Sweden (52, 3)\n",
      "Country: Switzerland (52, 3)\n",
      "Country: Belgium (52, 3)\n",
      "Country: Australia (52, 3)\n",
      "Country: Austria (52, 3)\n",
      "Country: China (52, 3)\n",
      "Country: Croatia (27, 3)\n",
      "Country: Finland (52, 3)\n",
      "Country: Greece (52, 3)\n",
      "Country: India (52, 3)\n",
      "Country: New Zealand (52, 3)\n",
      "Country: Russia (32, 3)\n"
     ]
    },
    {
     "data": {
      "text/html": [
       "<div>\n",
       "<style scoped>\n",
       "    .dataframe tbody tr th:only-of-type {\n",
       "        vertical-align: middle;\n",
       "    }\n",
       "\n",
       "    .dataframe tbody tr th {\n",
       "        vertical-align: top;\n",
       "    }\n",
       "\n",
       "    .dataframe thead th {\n",
       "        text-align: right;\n",
       "    }\n",
       "</style>\n",
       "<table border=\"1\" class=\"dataframe\">\n",
       "  <thead>\n",
       "    <tr style=\"text-align: right;\">\n",
       "      <th></th>\n",
       "      <th>(gdp_per_capita_stationary, 0)</th>\n",
       "      <th>(energy_cons_stationary, 0)</th>\n",
       "      <th>(population_stationary, 0)</th>\n",
       "      <th>(gdp_per_capita_stationary, 1)</th>\n",
       "      <th>(energy_cons_stationary, 1)</th>\n",
       "      <th>(population_stationary, 1)</th>\n",
       "      <th>country</th>\n",
       "    </tr>\n",
       "  </thead>\n",
       "  <tbody>\n",
       "    <tr>\n",
       "      <th>448</th>\n",
       "      <td>6</td>\n",
       "      <td>2</td>\n",
       "      <td>4</td>\n",
       "      <td>8</td>\n",
       "      <td>3</td>\n",
       "      <td>4</td>\n",
       "      <td>Australia</td>\n",
       "    </tr>\n",
       "    <tr>\n",
       "      <th>131</th>\n",
       "      <td>6</td>\n",
       "      <td>3</td>\n",
       "      <td>5</td>\n",
       "      <td>5</td>\n",
       "      <td>3</td>\n",
       "      <td>5</td>\n",
       "      <td>United Kingdom</td>\n",
       "    </tr>\n",
       "    <tr>\n",
       "      <th>495</th>\n",
       "      <td>5</td>\n",
       "      <td>2</td>\n",
       "      <td>6</td>\n",
       "      <td>6</td>\n",
       "      <td>2</td>\n",
       "      <td>4</td>\n",
       "      <td>Austria</td>\n",
       "    </tr>\n",
       "    <tr>\n",
       "      <th>805</th>\n",
       "      <td>8</td>\n",
       "      <td>2</td>\n",
       "      <td>4</td>\n",
       "      <td>4</td>\n",
       "      <td>2</td>\n",
       "      <td>4</td>\n",
       "      <td>Russia</td>\n",
       "    </tr>\n",
       "    <tr>\n",
       "      <th>24</th>\n",
       "      <td>5</td>\n",
       "      <td>3</td>\n",
       "      <td>4</td>\n",
       "      <td>6</td>\n",
       "      <td>2</td>\n",
       "      <td>4</td>\n",
       "      <td>France</td>\n",
       "    </tr>\n",
       "    <tr>\n",
       "      <th>157</th>\n",
       "      <td>6</td>\n",
       "      <td>3</td>\n",
       "      <td>4</td>\n",
       "      <td>6</td>\n",
       "      <td>3</td>\n",
       "      <td>5</td>\n",
       "      <td>Italy</td>\n",
       "    </tr>\n",
       "    <tr>\n",
       "      <th>172</th>\n",
       "      <td>5</td>\n",
       "      <td>2</td>\n",
       "      <td>5</td>\n",
       "      <td>5</td>\n",
       "      <td>2</td>\n",
       "      <td>5</td>\n",
       "      <td>Italy</td>\n",
       "    </tr>\n",
       "    <tr>\n",
       "      <th>464</th>\n",
       "      <td>5</td>\n",
       "      <td>3</td>\n",
       "      <td>5</td>\n",
       "      <td>5</td>\n",
       "      <td>2</td>\n",
       "      <td>5</td>\n",
       "      <td>Australia</td>\n",
       "    </tr>\n",
       "    <tr>\n",
       "      <th>12</th>\n",
       "      <td>6</td>\n",
       "      <td>2</td>\n",
       "      <td>5</td>\n",
       "      <td>5</td>\n",
       "      <td>2</td>\n",
       "      <td>5</td>\n",
       "      <td>France</td>\n",
       "    </tr>\n",
       "    <tr>\n",
       "      <th>349</th>\n",
       "      <td>5</td>\n",
       "      <td>2</td>\n",
       "      <td>5</td>\n",
       "      <td>6</td>\n",
       "      <td>3</td>\n",
       "      <td>4</td>\n",
       "      <td>Switzerland</td>\n",
       "    </tr>\n",
       "  </tbody>\n",
       "</table>\n",
       "</div>"
      ],
      "text/plain": [
       "     (gdp_per_capita_stationary, 0)  (energy_cons_stationary, 0)  \\\n",
       "448                               6                            2   \n",
       "131                               6                            3   \n",
       "495                               5                            2   \n",
       "805                               8                            2   \n",
       "24                                5                            3   \n",
       "157                               6                            3   \n",
       "172                               5                            2   \n",
       "464                               5                            3   \n",
       "12                                6                            2   \n",
       "349                               5                            2   \n",
       "\n",
       "     (population_stationary, 0)  (gdp_per_capita_stationary, 1)  \\\n",
       "448                           4                               8   \n",
       "131                           5                               5   \n",
       "495                           6                               6   \n",
       "805                           4                               4   \n",
       "24                            4                               6   \n",
       "157                           4                               6   \n",
       "172                           5                               5   \n",
       "464                           5                               5   \n",
       "12                            5                               5   \n",
       "349                           5                               6   \n",
       "\n",
       "     (energy_cons_stationary, 1)  (population_stationary, 1)         country  \n",
       "448                            3                           4       Australia  \n",
       "131                            3                           5  United Kingdom  \n",
       "495                            2                           4         Austria  \n",
       "805                            2                           4          Russia  \n",
       "24                             2                           4          France  \n",
       "157                            3                           5           Italy  \n",
       "172                            2                           5           Italy  \n",
       "464                            2                           5       Australia  \n",
       "12                             2                           5          France  \n",
       "349                            3                           4     Switzerland  "
      ]
     },
     "execution_count": 30,
     "metadata": {},
     "output_type": "execute_result"
    }
   ],
   "source": [
    "for i, country in enumerate(countries):\n",
    "\n",
    "    # select country and relevant columns\n",
    "    df_country = df_index[df_index.country == country]\n",
    "    df_country = df_country.drop([\"country\", \"year\"], axis=1)\n",
    "    \n",
    "    print(f\"Country: {country}\", df_country.shape)\n",
    "\n",
    "    # transform in a pgmpy friendly dataframe\n",
    "    df_pgmpy_country = pgmpy_friendly_transformer(\n",
    "        df=df_country, \n",
    "        sliding_window=sliding_window\n",
    "    )\n",
    "    df_pgmpy_country[\"country\"] = country\n",
    "\n",
    "    if i == 0:\n",
    "        df_pgmpy = df_pgmpy_country\n",
    "    else:\n",
    "        df_pgmpy = pd.concat([df_pgmpy, df_pgmpy_country])\n",
    "\n",
    "df_pgmpy.reset_index(inplace=True, drop=True)\n",
    "df_pgmpy.sample(10)"
   ]
  },
  {
   "cell_type": "code",
   "execution_count": 31,
   "metadata": {},
   "outputs": [
    {
     "data": {
      "text/html": [
       "<div>\n",
       "<style scoped>\n",
       "    .dataframe tbody tr th:only-of-type {\n",
       "        vertical-align: middle;\n",
       "    }\n",
       "\n",
       "    .dataframe tbody tr th {\n",
       "        vertical-align: top;\n",
       "    }\n",
       "\n",
       "    .dataframe thead th {\n",
       "        text-align: right;\n",
       "    }\n",
       "</style>\n",
       "<table border=\"1\" class=\"dataframe\">\n",
       "  <thead>\n",
       "    <tr style=\"text-align: right;\">\n",
       "      <th></th>\n",
       "      <th>(gdp_per_capita_stationary, 0)</th>\n",
       "      <th>(energy_cons_stationary, 0)</th>\n",
       "      <th>(population_stationary, 0)</th>\n",
       "      <th>(gdp_per_capita_stationary, 1)</th>\n",
       "      <th>(energy_cons_stationary, 1)</th>\n",
       "      <th>(population_stationary, 1)</th>\n",
       "      <th>country</th>\n",
       "    </tr>\n",
       "  </thead>\n",
       "  <tbody>\n",
       "    <tr>\n",
       "      <th>44</th>\n",
       "      <td>6</td>\n",
       "      <td>2</td>\n",
       "      <td>4</td>\n",
       "      <td>5</td>\n",
       "      <td>3</td>\n",
       "      <td>4</td>\n",
       "      <td>France</td>\n",
       "    </tr>\n",
       "    <tr>\n",
       "      <th>45</th>\n",
       "      <td>5</td>\n",
       "      <td>3</td>\n",
       "      <td>4</td>\n",
       "      <td>6</td>\n",
       "      <td>3</td>\n",
       "      <td>4</td>\n",
       "      <td>France</td>\n",
       "    </tr>\n",
       "    <tr>\n",
       "      <th>46</th>\n",
       "      <td>6</td>\n",
       "      <td>3</td>\n",
       "      <td>4</td>\n",
       "      <td>5</td>\n",
       "      <td>2</td>\n",
       "      <td>4</td>\n",
       "      <td>France</td>\n",
       "    </tr>\n",
       "    <tr>\n",
       "      <th>47</th>\n",
       "      <td>5</td>\n",
       "      <td>2</td>\n",
       "      <td>4</td>\n",
       "      <td>6</td>\n",
       "      <td>3</td>\n",
       "      <td>4</td>\n",
       "      <td>France</td>\n",
       "    </tr>\n",
       "    <tr>\n",
       "      <th>48</th>\n",
       "      <td>6</td>\n",
       "      <td>3</td>\n",
       "      <td>4</td>\n",
       "      <td>5</td>\n",
       "      <td>2</td>\n",
       "      <td>4</td>\n",
       "      <td>France</td>\n",
       "    </tr>\n",
       "  </tbody>\n",
       "</table>\n",
       "</div>"
      ],
      "text/plain": [
       "    (gdp_per_capita_stationary, 0)  (energy_cons_stationary, 0)  \\\n",
       "44                               6                            2   \n",
       "45                               5                            3   \n",
       "46                               6                            3   \n",
       "47                               5                            2   \n",
       "48                               6                            3   \n",
       "\n",
       "    (population_stationary, 0)  (gdp_per_capita_stationary, 1)  \\\n",
       "44                           4                               5   \n",
       "45                           4                               6   \n",
       "46                           4                               5   \n",
       "47                           4                               6   \n",
       "48                           4                               5   \n",
       "\n",
       "    (energy_cons_stationary, 1)  (population_stationary, 1) country  \n",
       "44                            3                           4  France  \n",
       "45                            3                           4  France  \n",
       "46                            2                           4  France  \n",
       "47                            3                           4  France  \n",
       "48                            2                           4  France  "
      ]
     },
     "execution_count": 31,
     "metadata": {},
     "output_type": "execute_result"
    }
   ],
   "source": [
    "df_pgmpy[df_pgmpy.country == \"France\"].tail()"
   ]
  },
  {
   "cell_type": "markdown",
   "metadata": {},
   "source": [
    "# Model "
   ]
  },
  {
   "cell_type": "markdown",
   "metadata": {},
   "source": [
    "### Training "
   ]
  },
  {
   "cell_type": "code",
   "execution_count": 32,
   "metadata": {},
   "outputs": [],
   "source": [
    "# build model \n",
    "dbn = DBN([\n",
    "    ((\"gdp_per_capita_stationary\", 0), (\"energy_cons_stationary\", 0)), \n",
    "    ((\"population_stationary\", 0), (\"energy_cons_stationary\", 0)), \n",
    "    ((\"population_stationary\", 0), (\"population_stationary\", 1)), \n",
    "    ((\"gdp_per_capita_stationary\", 0), (\"gdp_per_capita_stationary\", 1))\n",
    "])"
   ]
  },
  {
   "cell_type": "code",
   "execution_count": 33,
   "metadata": {},
   "outputs": [],
   "source": [
    "dbn.fit(df_pgmpy.drop(\"country\", axis=1))"
   ]
  },
  {
   "cell_type": "markdown",
   "metadata": {},
   "source": [
    "# Inferences "
   ]
  },
  {
   "cell_type": "markdown",
   "metadata": {},
   "source": [
    "### Scenarios"
   ]
  },
  {
   "cell_type": "code",
   "execution_count": 34,
   "metadata": {},
   "outputs": [],
   "source": [
    "length = df_test.shape[0]\n",
    "col_evidence = [\"population_stationary\", \"gdp_per_capita_stationary\"]\n",
    "\n",
    "scenario = {}\n",
    "for col in col_evidence:\n",
    "    new_evidence = {(col, i): df_test[df_test.year == split_year+i].iloc[0][col]\n",
    "                    for i in range(1, length+1)}\n",
    "    scenario.update(new_evidence)"
   ]
  },
  {
   "cell_type": "code",
   "execution_count": 35,
   "metadata": {},
   "outputs": [
    {
     "data": {
      "text/html": [
       "<div>\n",
       "<style scoped>\n",
       "    .dataframe tbody tr th:only-of-type {\n",
       "        vertical-align: middle;\n",
       "    }\n",
       "\n",
       "    .dataframe tbody tr th {\n",
       "        vertical-align: top;\n",
       "    }\n",
       "\n",
       "    .dataframe thead th {\n",
       "        text-align: right;\n",
       "    }\n",
       "</style>\n",
       "<table border=\"1\" class=\"dataframe\">\n",
       "  <thead>\n",
       "    <tr style=\"text-align: right;\">\n",
       "      <th></th>\n",
       "      <th>gdp_per_capita_stationary</th>\n",
       "      <th>energy_cons_stationary</th>\n",
       "      <th>population_stationary</th>\n",
       "      <th>country</th>\n",
       "      <th>year</th>\n",
       "    </tr>\n",
       "  </thead>\n",
       "  <tbody>\n",
       "    <tr>\n",
       "      <th>20575</th>\n",
       "      <td>0.062999</td>\n",
       "      <td>0.072826</td>\n",
       "      <td>0.000181</td>\n",
       "      <td>United Kingdom</td>\n",
       "      <td>2010</td>\n",
       "    </tr>\n",
       "    <tr>\n",
       "      <th>20576</th>\n",
       "      <td>-0.004081</td>\n",
       "      <td>-0.078831</td>\n",
       "      <td>0.000085</td>\n",
       "      <td>United Kingdom</td>\n",
       "      <td>2011</td>\n",
       "    </tr>\n",
       "    <tr>\n",
       "      <th>20577</th>\n",
       "      <td>-0.000841</td>\n",
       "      <td>0.073767</td>\n",
       "      <td>-0.000131</td>\n",
       "      <td>United Kingdom</td>\n",
       "      <td>2012</td>\n",
       "    </tr>\n",
       "    <tr>\n",
       "      <th>20578</th>\n",
       "      <td>0.006389</td>\n",
       "      <td>-0.019289</td>\n",
       "      <td>-0.000515</td>\n",
       "      <td>United Kingdom</td>\n",
       "      <td>2013</td>\n",
       "    </tr>\n",
       "    <tr>\n",
       "      <th>20579</th>\n",
       "      <td>0.011546</td>\n",
       "      <td>-0.053662</td>\n",
       "      <td>-0.000404</td>\n",
       "      <td>United Kingdom</td>\n",
       "      <td>2014</td>\n",
       "    </tr>\n",
       "  </tbody>\n",
       "</table>\n",
       "</div>"
      ],
      "text/plain": [
       "       gdp_per_capita_stationary  energy_cons_stationary  \\\n",
       "20575                   0.062999                0.072826   \n",
       "20576                  -0.004081               -0.078831   \n",
       "20577                  -0.000841                0.073767   \n",
       "20578                   0.006389               -0.019289   \n",
       "20579                   0.011546               -0.053662   \n",
       "\n",
       "       population_stationary         country  year  \n",
       "20575               0.000181  United Kingdom  2010  \n",
       "20576               0.000085  United Kingdom  2011  \n",
       "20577              -0.000131  United Kingdom  2012  \n",
       "20578              -0.000515  United Kingdom  2013  \n",
       "20579              -0.000404  United Kingdom  2014  "
      ]
     },
     "execution_count": 35,
     "metadata": {},
     "output_type": "execute_result"
    }
   ],
   "source": [
    "df_test.head()"
   ]
  },
  {
   "cell_type": "code",
   "execution_count": 36,
   "metadata": {},
   "outputs": [
    {
     "data": {
      "text/plain": [
       "{('population_stationary', 1): 0.00018106985239807472,\n",
       " ('population_stationary', 2): 8.468730433119909e-05,\n",
       " ('population_stationary', 3): -0.00013097201121636814,\n",
       " ('population_stationary', 4): -0.0005148046793008731,\n",
       " ('population_stationary', 5): -0.000404062099745639,\n",
       " ('population_stationary', 6): -0.00036478203673984133,\n",
       " ('population_stationary', 7): -0.00035278557061335647,\n",
       " ('population_stationary', 8): -0.00036439184144509973,\n",
       " ('population_stationary', 9): -0.0006616720437833123,\n",
       " ('gdp_per_capita_stationary', 1): 0.06299920071361242,\n",
       " ('gdp_per_capita_stationary', 2): -0.004080783148634026,\n",
       " ('gdp_per_capita_stationary', 3): -0.0008406366818887179,\n",
       " ('gdp_per_capita_stationary', 4): 0.00638916999179151,\n",
       " ('gdp_per_capita_stationary', 5): 0.011546213931435512,\n",
       " ('gdp_per_capita_stationary', 6): -0.008017666747487051,\n",
       " ('gdp_per_capita_stationary', 7): -0.0031744135531707185,\n",
       " ('gdp_per_capita_stationary', 8): 0.0009472557045678842,\n",
       " ('gdp_per_capita_stationary', 9): -0.0047642267448946285}"
      ]
     },
     "execution_count": 36,
     "metadata": {},
     "output_type": "execute_result"
    }
   ],
   "source": [
    "scenario"
   ]
  },
  {
   "cell_type": "code",
   "execution_count": 37,
   "metadata": {},
   "outputs": [],
   "source": [
    "# [discretizer.reverse_indexer(column_name=\"energy_per_capita_stationary\", ind=i) \n",
    "#  for i in range(10)]"
   ]
  },
  {
   "cell_type": "code",
   "execution_count": 40,
   "metadata": {},
   "outputs": [
    {
     "name": "stderr",
     "output_type": "stream",
     "text": [
      "WARNING:pgmpy:Replacing existing CPD for (gdp_per_capita_stationary, 1)\n",
      "WARNING:pgmpy:Replacing existing CPD for (population_stationary, 1)\n"
     ]
    },
    {
     "name": "stdout",
     "output_type": "stream",
     "text": [
      "Evidence:  {('population_stationary', 1): 0.00018106985239807472, ('population_stationary', 2): 8.468730433119909e-05, ('population_stationary', 3): -0.00013097201121636814, ('population_stationary', 4): -0.0005148046793008731, ('population_stationary', 5): -0.000404062099745639, ('population_stationary', 6): -0.00036478203673984133, ('population_stationary', 7): -0.00035278557061335647, ('population_stationary', 8): -0.00036439184144509973, ('population_stationary', 9): -0.0006616720437833123, ('gdp_per_capita_stationary', 1): 0.06299920071361242, ('gdp_per_capita_stationary', 2): -0.004080783148634026, ('gdp_per_capita_stationary', 3): -0.0008406366818887179, ('gdp_per_capita_stationary', 4): 0.00638916999179151, ('gdp_per_capita_stationary', 5): 0.011546213931435512, ('gdp_per_capita_stationary', 6): -0.008017666747487051, ('gdp_per_capita_stationary', 7): -0.0031744135531707185, ('gdp_per_capita_stationary', 8): 0.0009472557045678842, ('gdp_per_capita_stationary', 9): -0.0047642267448946285, ('population_stationary', 0): 0.00025670151631040916, ('gdp_per_capita_stationary', 0): -0.03818162906199274} \n",
      "\n",
      "Actual seq:  [0.0728256968806793, -0.07883118918507037, 0.07376710909305118, -0.019289173884391886, -0.05366234416209714, 0.07279865460659707, -0.026338469266120157, 0.011010233743338205, -0.004520955785475067]\n",
      "Pred seq:  [0.0, -0.01231416293707306, -0.0013490008449703935, 0.006643251018259931, 0.006643251018259936, -0.001349000844970397, -0.001349000844970397, 0.0066432510182599346, -0.001349000844970397]\n"
     ]
    }
   ],
   "source": [
    "# use custom inference for model test\n",
    "inference = CustomDBNInference(dbn, discretizer)\n",
    "\n",
    "# provide evidence\n",
    "evidence = {\n",
    "    (\"population_stationary\", 0): df_train[(df_train.country==test_country)\n",
    "                                           & (df_train.year == split_year)].iloc[0][\"population_stationary\"], \n",
    "    (\"gdp_per_capita_stationary\", 0): df_train[(df_train.country==test_country)\n",
    "                                    & (df_train.year == split_year)].iloc[0][\"gdp_per_capita_stationary\"], \n",
    "}\n",
    "\n",
    "scenario.update(evidence)\n",
    "\n",
    "print(\"Evidence: \", scenario, \"\\n\")\n",
    "\n",
    "# now make a pred of Y at time t (now) till time t+horizon\n",
    "pred_seq = inference.make_pred(\"energy_cons_stationary\",\n",
    "                               forecast_step=length+1, \n",
    "                               evidence=scenario, \n",
    "                               method=\"PM\", \n",
    "                               verbose=False)\n",
    "\n",
    "# get actual values model should have predicted \n",
    "actual_seq =  list(df_test.energy_cons_stationary)\n",
    "\n",
    "print(\"Actual seq: \", actual_seq)\n",
    "print(\"Pred seq: \", pred_seq[1:])"
   ]
  },
  {
   "cell_type": "code",
   "execution_count": 42,
   "metadata": {},
   "outputs": [
    {
     "name": "stdout",
     "output_type": "stream",
     "text": [
      "54 54 45\n"
     ]
    },
    {
     "data": {
      "image/png": "[encoded data removed]",
      "text/plain": [
       "<Figure size 640x480 with 1 Axes>"
      ]
     },
     "metadata": {},
     "output_type": "display_data"
    }
   ],
   "source": [
    "# get sequences for comparison\n",
    "past_seq = df_stationary[(df_stationary.country == test_country)\n",
    "                         & (df_stationary.year <= split_year)].energy_cons_stationary.to_list()\n",
    "all_pred_seq = np.array(past_seq + pred_seq[1:]) \n",
    "all_actual_seq = np.array(past_seq + actual_seq)\n",
    "\n",
    "nb_points = all_actual_seq.shape[0]\n",
    "x_ = pd.unique(df_stationary.year)\n",
    "print(len(x_), all_pred_seq.shape[0], len(past_seq))\n",
    "\n",
    "# get curves on a sampe plot\n",
    "plt.plot(np.arange(nb_points), all_actual_seq, label=\"Actual values\")\n",
    "plt.plot(np.arange(nb_points), all_pred_seq, label=\"Prediction\")\n",
    "\n",
    "plt.title(\"Inference of scenario 1\")\n",
    "plt.xlabel(\"Time (t)\")\n",
    "plt.ylabel(\"Y(t)\")\n",
    "plt.legend()\n",
    "plt.show()"
   ]
  },
  {
   "cell_type": "code",
   "execution_count": 43,
   "metadata": {},
   "outputs": [],
   "source": [
    "def reconstruct_signal(pred, past):\n",
    "    \"\"\"\n",
    "    \"\"\"\n",
    "    true_pred = np.zeros_like(pred, dtype=np.float32)\n",
    "    for i, val in np.ndenumerate(pred):\n",
    "\n",
    "        x, y = past[-2:]\n",
    "\n",
    "        new_y = np.exp(val - np.log(x) + 2*np.log(y))\n",
    "        true_pred[i] = new_y\n",
    "        \n",
    "        past = np.hstack([past, new_y])\n",
    "\n",
    "    past_array = np.array(past)\n",
    "    return past_array"
   ]
  },
  {
   "cell_type": "markdown",
   "metadata": {},
   "source": [
    "# Comparison with ARIMA model"
   ]
  },
  {
   "cell_type": "code",
   "execution_count": 44,
   "metadata": {},
   "outputs": [
    {
     "data": {
      "image/png": "[encoded data removed]",
      "text/plain": [
       "<Figure size 640x480 with 1 Axes>"
      ]
     },
     "metadata": {},
     "output_type": "display_data"
    }
   ],
   "source": [
    "#\n",
    "ts_stationary = df_stationary[df_stationary.country == test_country]\n",
    "ts_stationary.set_index(\"year\", inplace=True, drop=True)\n",
    "ts_stationary = ts_stationary[[\"energy_cons_stationary\"]]\n",
    "ts_stationary.dropna(inplace=True)\n",
    "\n",
    "plot_acf(ts_stationary[ts_stationary.index <= split_year], lags=5)\n",
    "plt.title('Autocorrelation Function (ACF)')\n",
    "plt.show()"
   ]
  },
  {
   "cell_type": "code",
   "execution_count": 45,
   "metadata": {},
   "outputs": [
    {
     "data": {
      "image/png": "[encoded data removed]",
      "text/plain": [
       "<Figure size 640x480 with 1 Axes>"
      ]
     },
     "metadata": {},
     "output_type": "display_data"
    }
   ],
   "source": [
    "plot_pacf(ts_stationary[ts_stationary <= split_year], lags=20)\n",
    "plt.title('Partial Autocorrelation Function (PACF)')\n",
    "plt.show()"
   ]
  },
  {
   "cell_type": "code",
   "execution_count": 46,
   "metadata": {},
   "outputs": [
    {
     "name": "stderr",
     "output_type": "stream",
     "text": [
      "c:\\Users\\victo\\anaconda3\\envs\\TimeSeries\\Lib\\site-packages\\statsmodels\\tsa\\base\\tsa_model.py:473: ValueWarning: An unsupported index was provided and will be ignored when e.g. forecasting.\n",
      "  self._init_dates(dates, freq)\n",
      "c:\\Users\\victo\\anaconda3\\envs\\TimeSeries\\Lib\\site-packages\\statsmodels\\tsa\\base\\tsa_model.py:473: ValueWarning: An unsupported index was provided and will be ignored when e.g. forecasting.\n",
      "  self._init_dates(dates, freq)\n",
      "c:\\Users\\victo\\anaconda3\\envs\\TimeSeries\\Lib\\site-packages\\statsmodels\\tsa\\base\\tsa_model.py:473: ValueWarning: An unsupported index was provided and will be ignored when e.g. forecasting.\n",
      "  self._init_dates(dates, freq)\n",
      "c:\\Users\\victo\\anaconda3\\envs\\TimeSeries\\Lib\\site-packages\\statsmodels\\base\\model.py:607: ConvergenceWarning: Maximum Likelihood optimization failed to converge. Check mle_retvals\n",
      "  warnings.warn(\"Maximum Likelihood optimization failed to \"\n",
      "c:\\Users\\victo\\anaconda3\\envs\\TimeSeries\\Lib\\site-packages\\statsmodels\\tsa\\base\\tsa_model.py:836: ValueWarning: No supported index is available. Prediction results will be given with an integer index beginning at `start`.\n",
      "  return get_prediction_index(\n",
      "c:\\Users\\victo\\anaconda3\\envs\\TimeSeries\\Lib\\site-packages\\statsmodels\\tsa\\base\\tsa_model.py:836: FutureWarning: No supported index is available. In the next version, calling this method in a model without a supported index will result in an exception.\n",
      "  return get_prediction_index(\n"
     ]
    },
    {
     "name": "stdout",
     "output_type": "stream",
     "text": [
      "                                 SARIMAX Results                                  \n",
      "==================================================================================\n",
      "Dep. Variable:     energy_cons_stationary   No. Observations:                   52\n",
      "Model:                     ARIMA(1, 0, 2)   Log Likelihood                 110.189\n",
      "Date:                    Sun, 14 Apr 2024   AIC                           -210.378\n",
      "Time:                            18:10:53   BIC                           -200.622\n",
      "Sample:                                 0   HQIC                          -206.638\n",
      "                                     - 52                                         \n",
      "Covariance Type:                      opg                                         \n",
      "==============================================================================\n",
      "                 coef    std err          z      P>|z|      [0.025      0.975]\n",
      "------------------------------------------------------------------------------\n",
      "const         -0.0004      0.000     -1.082      0.279      -0.001       0.000\n",
      "ar.L1         -0.9165      0.141     -6.520      0.000      -1.192      -0.641\n",
      "ma.L1         -0.0083     73.636     -0.000      1.000    -144.332     144.315\n",
      "ma.L2         -0.9915     72.910     -0.014      0.989    -143.892     141.909\n",
      "sigma2         0.0008      0.056      0.014      0.989      -0.110       0.111\n",
      "===================================================================================\n",
      "Ljung-Box (L1) (Q):                   0.73   Jarque-Bera (JB):                17.84\n",
      "Prob(Q):                              0.39   Prob(JB):                         0.00\n",
      "Heteroskedasticity (H):               0.45   Skew:                            -1.15\n",
      "Prob(H) (two-sided):                  0.11   Kurtosis:                         4.72\n",
      "===================================================================================\n",
      "\n",
      "Warnings:\n",
      "[1] Covariance matrix calculated using the outer product of gradients (complex-step).\n"
     ]
    }
   ],
   "source": [
    "# Replace p, d, q values with the parameters determined from ACF and PACF plots\n",
    "p = 1  # AR order\n",
    "d = 0  # differencing order (set to 0 for stationary data)\n",
    "q = 2  # MA order\n",
    "model = ARIMA(ts_stationary[ts_stationary <= split_year], order=(p, d, q))\n",
    "results = model.fit()\n",
    "\n",
    "# Summary of the ARIMA model\n",
    "print(results.summary())\n",
    "\n",
    "# Forecast future values\n",
    "forecast_steps = length  # Number of steps ahead to forecast\n",
    "forecast = results.forecast(steps=forecast_steps)\n",
    "\n",
    "ts_stationary[\"pred_arima\"] = list(ts_stationary[ts_stationary.index <= split_year].values) + list(forecast)"
   ]
  },
  {
   "cell_type": "code",
   "execution_count": 48,
   "metadata": {},
   "outputs": [],
   "source": [
    "ts_stationary[\"pred_DBN\"] = list(ts_stationary[ts_stationary.index <= split_year].energy_cons_stationary) + list(pred_seq[1:])"
   ]
  },
  {
   "cell_type": "code",
   "execution_count": 50,
   "metadata": {},
   "outputs": [
    {
     "data": {
      "image/png": "[encoded data removed]",
      "text/plain": [
       "<Figure size 1000x600 with 1 Axes>"
      ]
     },
     "metadata": {},
     "output_type": "display_data"
    }
   ],
   "source": [
    "# Plot the original time series and the forecasted values\n",
    "plt.figure(figsize=(10, 6))\n",
    "plt.plot(ts_stationary.energy_cons_stationary, label='Original Data')\n",
    "plt.plot(ts_stationary[ts_stationary.index >= split_year].pred_arima, label='ARIMA', color='red')\n",
    "plt.plot(ts_stationary[ts_stationary.index >= split_year].pred_DBN, label='D-DBN', color='orange')\n",
    "plt.title('ARIMA Forecast')\n",
    "plt.xlabel('Date')\n",
    "plt.ylabel('Value')\n",
    "plt.legend()\n",
    "plt.show()"
   ]
  },
  {
   "cell_type": "code",
   "execution_count": 51,
   "metadata": {},
   "outputs": [
    {
     "data": {
      "text/plain": [
       "<matplotlib.legend.Legend at 0x158c255e250>"
      ]
     },
     "execution_count": 51,
     "metadata": {},
     "output_type": "execute_result"
    },
    {
     "data": {
      "image/png": "[encoded data removed]",
      "text/plain": [
       "<Figure size 640x480 with 1 Axes>"
      ]
     },
     "metadata": {},
     "output_type": "display_data"
    }
   ],
   "source": [
    "past_seq = list(data[(data.country == test_country)\n",
    "                     & (data.year <= split_year)].energy_per_capita)\n",
    "true_actual = data[(data.country == test_country)].energy_per_capita.to_numpy()\n",
    "\n",
    "rec_actual = reconstruct_signal(actual_seq, past_seq)\n",
    "true_pred_DBN = reconstruct_signal(pred_seq[1:], past_seq)\n",
    "true_pred_ARIMA = reconstruct_signal(forecast, past_seq)\n",
    "\n",
    "plt.plot(true_pred_ARIMA, label=\"ARIMA prediction\")\n",
    "plt.plot(true_pred_DBN, label=\"DBN Prediction\")\n",
    "plt.plot(true_actual, label=\"Actual sequence\")\n",
    "\n",
    "plt.legend()"
   ]
  }
 ],
 "metadata": {
  "kernelspec": {
   "display_name": "time_series",
   "language": "python",
   "name": "python3"
  },
  "language_info": {
   "codemirror_mode": {
    "name": "ipython",
    "version": 3
   },
   "file_extension": ".py",
   "mimetype": "text/x-python",
   "name": "python",
   "nbconvert_exporter": "python",
   "pygments_lexer": "ipython3",
   "version": "3.11.5"
  }
 },
 "nbformat": 4,
 "nbformat_minor": 2
}
