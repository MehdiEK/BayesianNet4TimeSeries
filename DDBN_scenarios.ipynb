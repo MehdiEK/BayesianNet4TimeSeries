{
 "cells": [
  {
   "cell_type": "code",
   "execution_count": 329,
   "metadata": {},
   "outputs": [],
   "source": [
    "import pandas as pd\n",
    "import numpy as np\n",
    "import matplotlib.pyplot as plt\n",
    "import seaborn as sns\n",
    "from statsmodels.tsa.stattools import adfuller \n",
    "from statsmodels.tsa.arima.model import ARIMA\n",
    "from statsmodels.graphics.tsaplots import plot_acf, plot_pacf\n",
    "\n",
    "from pgmpy.models import DynamicBayesianNetwork as DBN\n",
    "from pgmpy.inference import DBNInference\n",
    "\n",
    "from models.model_v0 import DumbDiscretizer, pgmpy_friendly_transformer, CustomDBNInference"
   ]
  },
  {
   "cell_type": "markdown",
   "metadata": {},
   "source": [
    "# I. General settings"
   ]
  },
  {
   "cell_type": "code",
   "execution_count": 572,
   "metadata": {},
   "outputs": [],
   "source": [
    "# load data parameters \n",
    "countries = ['France', 'Germany', 'United Kingdom', 'Italy', 'Spain', 'Japan', \n",
    "             'Sweden', 'Switzerland', 'Belgium', 'Australia', 'Austria', 'China', \n",
    "             'Croatia', 'Finland', 'Greece', 'India', 'New Zealand', \n",
    "             'Russia']\n",
    "columns = ['year', 'population', 'gdp', 'energy_per_capita', 'country']\n",
    "\n",
    "# preprocessing parameters\n",
    "split_year = 2009  # trainset until split_year\n",
    "test_country = \"United Kingdom\"\n",
    "sliding_window = 2\n",
    "# define discretization strategy\n",
    "nb_classes = {  # nb of classes for each variable\n",
    "    \"gdp_stationary\": 10,  \n",
    "    \"population_stationary\": 10, \n",
    "    \"energy_per_capita_stationary\": 5\n",
    "}\n",
    "\n",
    "# model parameters\n"
   ]
  },
  {
   "cell_type": "markdown",
   "metadata": {},
   "source": [
    "# II. Load data"
   ]
  },
  {
   "cell_type": "markdown",
   "metadata": {},
   "source": [
    "### Load raw data "
   ]
  },
  {
   "cell_type": "code",
   "execution_count": 573,
   "metadata": {},
   "outputs": [
    {
     "name": "stdout",
     "output_type": "stream",
     "text": [
      "<class 'pandas.core.frame.DataFrame'>\n",
      "RangeIndex: 22012 entries, 0 to 22011\n",
      "Columns: 129 entries, country to wind_share_energy\n",
      "dtypes: float64(126), int64(1), object(2)\n",
      "memory usage: 21.7+ MB\n"
     ]
    }
   ],
   "source": [
    "all_data = pd.read_csv(\"./data/World Energy Consumption.csv\")\n",
    "all_data.info()"
   ]
  },
  {
   "cell_type": "markdown",
   "metadata": {},
   "source": [
    "### Select columns"
   ]
  },
  {
   "cell_type": "code",
   "execution_count": 574,
   "metadata": {},
   "outputs": [
    {
     "data": {
      "text/html": [
       "<div>\n",
       "<style scoped>\n",
       "    .dataframe tbody tr th:only-of-type {\n",
       "        vertical-align: middle;\n",
       "    }\n",
       "\n",
       "    .dataframe tbody tr th {\n",
       "        vertical-align: top;\n",
       "    }\n",
       "\n",
       "    .dataframe thead th {\n",
       "        text-align: right;\n",
       "    }\n",
       "</style>\n",
       "<table border=\"1\" class=\"dataframe\">\n",
       "  <thead>\n",
       "    <tr style=\"text-align: right;\">\n",
       "      <th></th>\n",
       "      <th>year</th>\n",
       "      <th>population</th>\n",
       "      <th>gdp</th>\n",
       "      <th>energy_per_capita</th>\n",
       "    </tr>\n",
       "  </thead>\n",
       "  <tbody>\n",
       "    <tr>\n",
       "      <th>count</th>\n",
       "      <td>22012.000000</td>\n",
       "      <td>1.812300e+04</td>\n",
       "      <td>1.111300e+04</td>\n",
       "      <td>10602.000000</td>\n",
       "    </tr>\n",
       "    <tr>\n",
       "      <th>mean</th>\n",
       "      <td>1974.213247</td>\n",
       "      <td>1.053096e+08</td>\n",
       "      <td>3.585114e+11</td>\n",
       "      <td>25742.760033</td>\n",
       "    </tr>\n",
       "    <tr>\n",
       "      <th>std</th>\n",
       "      <td>35.058653</td>\n",
       "      <td>4.640460e+08</td>\n",
       "      <td>2.411179e+12</td>\n",
       "      <td>36122.506628</td>\n",
       "    </tr>\n",
       "    <tr>\n",
       "      <th>min</th>\n",
       "      <td>1900.000000</td>\n",
       "      <td>1.833000e+03</td>\n",
       "      <td>1.642060e+08</td>\n",
       "      <td>0.000000</td>\n",
       "    </tr>\n",
       "    <tr>\n",
       "      <th>25%</th>\n",
       "      <td>1946.000000</td>\n",
       "      <td>1.712404e+06</td>\n",
       "      <td>1.365898e+10</td>\n",
       "      <td>3101.076250</td>\n",
       "    </tr>\n",
       "    <tr>\n",
       "      <th>50%</th>\n",
       "      <td>1984.000000</td>\n",
       "      <td>6.991543e+06</td>\n",
       "      <td>4.167411e+10</td>\n",
       "      <td>13597.986000</td>\n",
       "    </tr>\n",
       "    <tr>\n",
       "      <th>75%</th>\n",
       "      <td>2003.000000</td>\n",
       "      <td>2.557688e+07</td>\n",
       "      <td>1.744295e+11</td>\n",
       "      <td>36847.052500</td>\n",
       "    </tr>\n",
       "    <tr>\n",
       "      <th>max</th>\n",
       "      <td>2022.000000</td>\n",
       "      <td>7.975105e+09</td>\n",
       "      <td>1.136302e+14</td>\n",
       "      <td>657539.188000</td>\n",
       "    </tr>\n",
       "  </tbody>\n",
       "</table>\n",
       "</div>"
      ],
      "text/plain": [
       "               year    population           gdp  energy_per_capita\n",
       "count  22012.000000  1.812300e+04  1.111300e+04       10602.000000\n",
       "mean    1974.213247  1.053096e+08  3.585114e+11       25742.760033\n",
       "std       35.058653  4.640460e+08  2.411179e+12       36122.506628\n",
       "min     1900.000000  1.833000e+03  1.642060e+08           0.000000\n",
       "25%     1946.000000  1.712404e+06  1.365898e+10        3101.076250\n",
       "50%     1984.000000  6.991543e+06  4.167411e+10       13597.986000\n",
       "75%     2003.000000  2.557688e+07  1.744295e+11       36847.052500\n",
       "max     2022.000000  7.975105e+09  1.136302e+14      657539.188000"
      ]
     },
     "execution_count": 574,
     "metadata": {},
     "output_type": "execute_result"
    }
   ],
   "source": [
    "data = all_data[columns]\n",
    "data.describe()"
   ]
  },
  {
   "cell_type": "markdown",
   "metadata": {},
   "source": [
    "### Select countries"
   ]
  },
  {
   "cell_type": "code",
   "execution_count": 575,
   "metadata": {},
   "outputs": [
    {
     "data": {
      "text/html": [
       "<div>\n",
       "<style scoped>\n",
       "    .dataframe tbody tr th:only-of-type {\n",
       "        vertical-align: middle;\n",
       "    }\n",
       "\n",
       "    .dataframe tbody tr th {\n",
       "        vertical-align: top;\n",
       "    }\n",
       "\n",
       "    .dataframe thead th {\n",
       "        text-align: right;\n",
       "    }\n",
       "</style>\n",
       "<table border=\"1\" class=\"dataframe\">\n",
       "  <thead>\n",
       "    <tr style=\"text-align: right;\">\n",
       "      <th></th>\n",
       "      <th>year</th>\n",
       "      <th>population</th>\n",
       "      <th>gdp</th>\n",
       "      <th>energy_per_capita</th>\n",
       "      <th>country</th>\n",
       "    </tr>\n",
       "  </thead>\n",
       "  <tbody>\n",
       "    <tr>\n",
       "      <th>4386</th>\n",
       "      <td>2003</td>\n",
       "      <td>1.288873e+09</td>\n",
       "      <td>7.248622e+12</td>\n",
       "      <td>12273.320</td>\n",
       "      <td>China</td>\n",
       "    </tr>\n",
       "    <tr>\n",
       "      <th>8086</th>\n",
       "      <td>2018</td>\n",
       "      <td>1.063328e+07</td>\n",
       "      <td>2.500358e+11</td>\n",
       "      <td>30475.123</td>\n",
       "      <td>Greece</td>\n",
       "    </tr>\n",
       "    <tr>\n",
       "      <th>7174</th>\n",
       "      <td>1965</td>\n",
       "      <td>4.564582e+06</td>\n",
       "      <td>5.579619e+10</td>\n",
       "      <td>25282.402</td>\n",
       "      <td>Finland</td>\n",
       "    </tr>\n",
       "    <tr>\n",
       "      <th>16940</th>\n",
       "      <td>2017</td>\n",
       "      <td>1.454525e+08</td>\n",
       "      <td>3.524075e+12</td>\n",
       "      <td>55974.684</td>\n",
       "      <td>Russia</td>\n",
       "    </tr>\n",
       "    <tr>\n",
       "      <th>18738</th>\n",
       "      <td>2001</td>\n",
       "      <td>8.896748e+06</td>\n",
       "      <td>3.083992e+11</td>\n",
       "      <td>77094.320</td>\n",
       "      <td>Sweden</td>\n",
       "    </tr>\n",
       "  </tbody>\n",
       "</table>\n",
       "</div>"
      ],
      "text/plain": [
       "       year    population           gdp  energy_per_capita  country\n",
       "4386   2003  1.288873e+09  7.248622e+12          12273.320    China\n",
       "8086   2018  1.063328e+07  2.500358e+11          30475.123   Greece\n",
       "7174   1965  4.564582e+06  5.579619e+10          25282.402  Finland\n",
       "16940  2017  1.454525e+08  3.524075e+12          55974.684   Russia\n",
       "18738  2001  8.896748e+06  3.083992e+11          77094.320   Sweden"
      ]
     },
     "execution_count": 575,
     "metadata": {},
     "output_type": "execute_result"
    }
   ],
   "source": [
    "data = data.loc[data.country.isin(countries)]\n",
    "data.dropna(inplace=True)  # drop all nan values\n",
    "data.sample(5)"
   ]
  },
  {
   "cell_type": "markdown",
   "metadata": {},
   "source": [
    "# III. Preprocessing "
   ]
  },
  {
   "cell_type": "markdown",
   "metadata": {},
   "source": [
    "### Stationarization "
   ]
  },
  {
   "cell_type": "markdown",
   "metadata": {},
   "source": [
    "Fonction permettant de stationariser les time series:"
   ]
  },
  {
   "cell_type": "code",
   "execution_count": 576,
   "metadata": {},
   "outputs": [],
   "source": [
    "def stationarize(input_df: pd.DataFrame):\n",
    "    \"\"\"\n",
    "    Given data corresponding to only one country, \n",
    "    create new columns for time series stationarization.\n",
    "\n",
    "    :params input_df: pd.DataFrame\n",
    "        Dataframe of a ocuntry with at least gdp, energy_per_capita and \n",
    "        population columns \n",
    "\n",
    "    :return pd.DataFrame\n",
    "    \"\"\"\n",
    "    # copy input dataframe \n",
    "    df = input_df.copy()\n",
    "\n",
    "    # stationarisation of gdp \n",
    "    df['log_gdp'] = df['gdp'].apply(lambda x: np.log(x))\n",
    "    df['gdp_order_1'] = df['log_gdp'] - df['log_gdp'].shift()\n",
    "    df['gdp_stationary'] = df['gdp_order_1'] - df['gdp_order_1'].shift()\n",
    "\n",
    "    # stationarization of energy consumption per capita\n",
    "    df['log_energy'] = df['energy_per_capita'].apply(lambda x: np.log(x))\n",
    "    df['energy_per_capita_order_1'] = df['log_energy'] - df['log_energy'].shift()\n",
    "    df['energy_per_capita_stationary'] = df['energy_per_capita_order_1'] - df['energy_per_capita_order_1'].shift()\n",
    "    \n",
    "    # stationarization of population\n",
    "    df['log_pop'] = df['population'].apply(lambda x: np.log(x))\n",
    "    df['population_order_1'] = df['log_pop'] - df['log_pop'].shift()\n",
    "    df['population_stationary'] = df['population_order_1'] - df['population_order_1'].shift()\n",
    "\n",
    "    # new create columns \n",
    "    new_columns = [\n",
    "        \"gdp_stationary\", \n",
    "        \"energy_per_capita_stationary\",\n",
    "        \"population_stationary\"\n",
    "    ]\n",
    "\n",
    "    # old columns to keep \n",
    "    old_cols = [\"country\", \"year\"]\n",
    "\n",
    "    return df[new_columns + old_cols]"
   ]
  },
  {
   "cell_type": "code",
   "execution_count": 577,
   "metadata": {},
   "outputs": [
    {
     "data": {
      "text/html": [
       "<div>\n",
       "<style scoped>\n",
       "    .dataframe tbody tr th:only-of-type {\n",
       "        vertical-align: middle;\n",
       "    }\n",
       "\n",
       "    .dataframe tbody tr th {\n",
       "        vertical-align: top;\n",
       "    }\n",
       "\n",
       "    .dataframe thead th {\n",
       "        text-align: right;\n",
       "    }\n",
       "</style>\n",
       "<table border=\"1\" class=\"dataframe\">\n",
       "  <thead>\n",
       "    <tr style=\"text-align: right;\">\n",
       "      <th></th>\n",
       "      <th>gdp_stationary</th>\n",
       "      <th>energy_per_capita_stationary</th>\n",
       "      <th>population_stationary</th>\n",
       "      <th>country</th>\n",
       "      <th>year</th>\n",
       "    </tr>\n",
       "  </thead>\n",
       "  <tbody>\n",
       "    <tr>\n",
       "      <th>13391</th>\n",
       "      <td>0.039999</td>\n",
       "      <td>0.031004</td>\n",
       "      <td>-0.002944</td>\n",
       "      <td>New Zealand</td>\n",
       "      <td>1993</td>\n",
       "    </tr>\n",
       "    <tr>\n",
       "      <th>9256</th>\n",
       "      <td>-0.013195</td>\n",
       "      <td>-0.017187</td>\n",
       "      <td>-0.000281</td>\n",
       "      <td>India</td>\n",
       "      <td>1990</td>\n",
       "    </tr>\n",
       "    <tr>\n",
       "      <th>2368</th>\n",
       "      <td>0.026494</td>\n",
       "      <td>0.005984</td>\n",
       "      <td>-0.000090</td>\n",
       "      <td>Belgium</td>\n",
       "      <td>1982</td>\n",
       "    </tr>\n",
       "    <tr>\n",
       "      <th>9267</th>\n",
       "      <td>0.013377</td>\n",
       "      <td>-0.044963</td>\n",
       "      <td>-0.000137</td>\n",
       "      <td>India</td>\n",
       "      <td>2001</td>\n",
       "    </tr>\n",
       "    <tr>\n",
       "      <th>18733</th>\n",
       "      <td>-0.022712</td>\n",
       "      <td>-0.039149</td>\n",
       "      <td>-0.000930</td>\n",
       "      <td>Sweden</td>\n",
       "      <td>1996</td>\n",
       "    </tr>\n",
       "    <tr>\n",
       "      <th>16909</th>\n",
       "      <td>NaN</td>\n",
       "      <td>NaN</td>\n",
       "      <td>NaN</td>\n",
       "      <td>Russia</td>\n",
       "      <td>1986</td>\n",
       "    </tr>\n",
       "    <tr>\n",
       "      <th>16939</th>\n",
       "      <td>0.027268</td>\n",
       "      <td>0.035728</td>\n",
       "      <td>0.000389</td>\n",
       "      <td>Russia</td>\n",
       "      <td>2016</td>\n",
       "    </tr>\n",
       "    <tr>\n",
       "      <th>7224</th>\n",
       "      <td>0.009033</td>\n",
       "      <td>0.033695</td>\n",
       "      <td>-0.000846</td>\n",
       "      <td>Finland</td>\n",
       "      <td>2015</td>\n",
       "    </tr>\n",
       "    <tr>\n",
       "      <th>20578</th>\n",
       "      <td>0.005874</td>\n",
       "      <td>-0.018774</td>\n",
       "      <td>-0.000515</td>\n",
       "      <td>United Kingdom</td>\n",
       "      <td>2013</td>\n",
       "    </tr>\n",
       "    <tr>\n",
       "      <th>18866</th>\n",
       "      <td>0.009426</td>\n",
       "      <td>0.081488</td>\n",
       "      <td>-0.000135</td>\n",
       "      <td>Switzerland</td>\n",
       "      <td>2006</td>\n",
       "    </tr>\n",
       "  </tbody>\n",
       "</table>\n",
       "</div>"
      ],
      "text/plain": [
       "       gdp_stationary  energy_per_capita_stationary  population_stationary  \\\n",
       "13391        0.039999                      0.031004              -0.002944   \n",
       "9256        -0.013195                     -0.017187              -0.000281   \n",
       "2368         0.026494                      0.005984              -0.000090   \n",
       "9267         0.013377                     -0.044963              -0.000137   \n",
       "18733       -0.022712                     -0.039149              -0.000930   \n",
       "16909             NaN                           NaN                    NaN   \n",
       "16939        0.027268                      0.035728               0.000389   \n",
       "7224         0.009033                      0.033695              -0.000846   \n",
       "20578        0.005874                     -0.018774              -0.000515   \n",
       "18866        0.009426                      0.081488              -0.000135   \n",
       "\n",
       "              country  year  \n",
       "13391     New Zealand  1993  \n",
       "9256            India  1990  \n",
       "2368          Belgium  1982  \n",
       "9267            India  2001  \n",
       "18733          Sweden  1996  \n",
       "16909          Russia  1986  \n",
       "16939          Russia  2016  \n",
       "7224          Finland  2015  \n",
       "20578  United Kingdom  2013  \n",
       "18866     Switzerland  2006  "
      ]
     },
     "execution_count": 577,
     "metadata": {},
     "output_type": "execute_result"
    }
   ],
   "source": [
    "# stationarize data \n",
    "for i, country in enumerate(countries):\n",
    "    df_country = stationarize(data[data.country == country])\n",
    "\n",
    "    if i == 0:\n",
    "        df_stationary = df_country\n",
    "    else:\n",
    "        df_stationary = pd.concat([df_stationary, df_country])\n",
    "\n",
    "df_stationary.sample(10)"
   ]
  },
  {
   "cell_type": "markdown",
   "metadata": {},
   "source": [
    "Nous devons analyser pourquoi des NaN se glissent dans le dataframe à cette étape (j'y reviens plus tard)"
   ]
  },
  {
   "cell_type": "code",
   "execution_count": 578,
   "metadata": {},
   "outputs": [
    {
     "data": {
      "text/plain": [
       "927"
      ]
     },
     "execution_count": 578,
     "metadata": {},
     "output_type": "execute_result"
    }
   ],
   "source": [
    "df_stationary[df_stationary.isna()].shape[0]"
   ]
  },
  {
   "cell_type": "markdown",
   "metadata": {},
   "source": [
    "### Train-Test split "
   ]
  },
  {
   "cell_type": "code",
   "execution_count": 579,
   "metadata": {},
   "outputs": [
    {
     "name": "stdout",
     "output_type": "stream",
     "text": [
      "Train size: 918\n",
      "Test size: 9\n"
     ]
    }
   ],
   "source": [
    "df_test = df_stationary.loc[(df_stationary.country == test_country)\n",
    "                            & (df_stationary.year> split_year)]\n",
    "df_train = df_stationary[~df_stationary.index.isin(df_test.index)]\n",
    "\n",
    "print(f\"Train size: {df_train.shape[0]}\")\n",
    "print(f\"Test size: {df_test.shape[0]}\")"
   ]
  },
  {
   "cell_type": "code",
   "execution_count": 580,
   "metadata": {},
   "outputs": [
    {
     "name": "stderr",
     "output_type": "stream",
     "text": [
      "C:\\Users\\elkan\\AppData\\Local\\Temp\\ipykernel_11428\\370300940.py:1: SettingWithCopyWarning: \n",
      "A value is trying to be set on a copy of a slice from a DataFrame\n",
      "\n",
      "See the caveats in the documentation: https://pandas.pydata.org/pandas-docs/stable/user_guide/indexing.html#returning-a-view-versus-a-copy\n",
      "  df_train.dropna(inplace=True)\n"
     ]
    }
   ],
   "source": [
    "df_train.dropna(inplace=True)"
   ]
  },
  {
   "cell_type": "markdown",
   "metadata": {},
   "source": [
    "### Discretization "
   ]
  },
  {
   "cell_type": "code",
   "execution_count": 581,
   "metadata": {},
   "outputs": [
    {
     "name": "stdout",
     "output_type": "stream",
     "text": [
      "882 rows without NaN\n"
     ]
    }
   ],
   "source": [
    "print(f\"{df_train[~df_train.isna()].shape[0]} rows without NaN\")"
   ]
  },
  {
   "cell_type": "code",
   "execution_count": 582,
   "metadata": {},
   "outputs": [
    {
     "name": "stdout",
     "output_type": "stream",
     "text": [
      "Nb of rows continaing NaN values: 5\n"
     ]
    },
    {
     "data": {
      "text/html": [
       "<div>\n",
       "<style scoped>\n",
       "    .dataframe tbody tr th:only-of-type {\n",
       "        vertical-align: middle;\n",
       "    }\n",
       "\n",
       "    .dataframe tbody tr th {\n",
       "        vertical-align: top;\n",
       "    }\n",
       "\n",
       "    .dataframe thead th {\n",
       "        text-align: right;\n",
       "    }\n",
       "</style>\n",
       "<table border=\"1\" class=\"dataframe\">\n",
       "  <thead>\n",
       "    <tr style=\"text-align: right;\">\n",
       "      <th></th>\n",
       "      <th>gdp_stationary</th>\n",
       "      <th>energy_per_capita_stationary</th>\n",
       "      <th>population_stationary</th>\n",
       "      <th>country</th>\n",
       "      <th>year</th>\n",
       "    </tr>\n",
       "  </thead>\n",
       "  <tbody>\n",
       "    <tr>\n",
       "      <th>7302</th>\n",
       "      <td>4</td>\n",
       "      <td>2</td>\n",
       "      <td>4</td>\n",
       "      <td>France</td>\n",
       "      <td>1970</td>\n",
       "    </tr>\n",
       "    <tr>\n",
       "      <th>18373</th>\n",
       "      <td>5</td>\n",
       "      <td>2</td>\n",
       "      <td>4</td>\n",
       "      <td>Spain</td>\n",
       "      <td>1982</td>\n",
       "    </tr>\n",
       "    <tr>\n",
       "      <th>8042</th>\n",
       "      <td>2</td>\n",
       "      <td>0</td>\n",
       "      <td>5</td>\n",
       "      <td>Greece</td>\n",
       "      <td>1974</td>\n",
       "    </tr>\n",
       "    <tr>\n",
       "      <th>7205</th>\n",
       "      <td>4</td>\n",
       "      <td>4</td>\n",
       "      <td>4</td>\n",
       "      <td>Finland</td>\n",
       "      <td>1996</td>\n",
       "    </tr>\n",
       "    <tr>\n",
       "      <th>9976</th>\n",
       "      <td>5</td>\n",
       "      <td>2</td>\n",
       "      <td>5</td>\n",
       "      <td>Italy</td>\n",
       "      <td>1972</td>\n",
       "    </tr>\n",
       "  </tbody>\n",
       "</table>\n",
       "</div>"
      ],
      "text/plain": [
       "       gdp_stationary  energy_per_capita_stationary  population_stationary  \\\n",
       "7302                4                             2                      4   \n",
       "18373               5                             2                      4   \n",
       "8042                2                             0                      5   \n",
       "7205                4                             4                      4   \n",
       "9976                5                             2                      5   \n",
       "\n",
       "       country  year  \n",
       "7302    France  1970  \n",
       "18373    Spain  1982  \n",
       "8042    Greece  1974  \n",
       "7205   Finland  1996  \n",
       "9976     Italy  1972  "
      ]
     },
     "execution_count": 582,
     "metadata": {},
     "output_type": "execute_result"
    }
   ],
   "source": [
    "# define discretizer object \n",
    "discretizer = DumbDiscretizer(df_train, nb_classes=nb_classes)\n",
    "\n",
    "# indexed dataframe \n",
    "df_index = discretizer.df\n",
    "\n",
    "# print nb of NaN (must be investigated later) and dorp them\n",
    "print(f\"Nb of rows continaing NaN values: {df_index.isna().shape[1]}\")\n",
    "df_index.dropna(inplace=True)\n",
    "df_index.sample(5)"
   ]
  },
  {
   "cell_type": "markdown",
   "metadata": {},
   "source": [
    "### PGMPY friendly preprocessing"
   ]
  },
  {
   "cell_type": "code",
   "execution_count": 583,
   "metadata": {},
   "outputs": [
    {
     "name": "stdout",
     "output_type": "stream",
     "text": [
      "Country: France (52, 3)\n",
      "Country: Germany (52, 3)\n",
      "Country: United Kingdom (43, 3)\n",
      "Country: Italy (52, 3)\n",
      "Country: Spain (52, 3)\n",
      "Country: Japan (52, 3)\n",
      "Country: Sweden (52, 3)\n",
      "Country: Switzerland (52, 3)\n",
      "Country: Belgium (52, 3)\n",
      "Country: Australia (52, 3)\n",
      "Country: Austria (52, 3)\n",
      "Country: China (52, 3)\n",
      "Country: Croatia (27, 3)\n",
      "Country: Finland (52, 3)\n",
      "Country: Greece (52, 3)\n",
      "Country: India (52, 3)\n",
      "Country: New Zealand (52, 3)\n",
      "Country: Russia (32, 3)\n"
     ]
    },
    {
     "data": {
      "text/html": [
       "<div>\n",
       "<style scoped>\n",
       "    .dataframe tbody tr th:only-of-type {\n",
       "        vertical-align: middle;\n",
       "    }\n",
       "\n",
       "    .dataframe tbody tr th {\n",
       "        vertical-align: top;\n",
       "    }\n",
       "\n",
       "    .dataframe thead th {\n",
       "        text-align: right;\n",
       "    }\n",
       "</style>\n",
       "<table border=\"1\" class=\"dataframe\">\n",
       "  <thead>\n",
       "    <tr style=\"text-align: right;\">\n",
       "      <th></th>\n",
       "      <th>(gdp_stationary, 0)</th>\n",
       "      <th>(energy_per_capita_stationary, 0)</th>\n",
       "      <th>(population_stationary, 0)</th>\n",
       "      <th>(gdp_stationary, 1)</th>\n",
       "      <th>(energy_per_capita_stationary, 1)</th>\n",
       "      <th>(population_stationary, 1)</th>\n",
       "      <th>country</th>\n",
       "    </tr>\n",
       "  </thead>\n",
       "  <tbody>\n",
       "    <tr>\n",
       "      <th>29</th>\n",
       "      <td>4</td>\n",
       "      <td>3</td>\n",
       "      <td>5</td>\n",
       "      <td>5</td>\n",
       "      <td>2</td>\n",
       "      <td>5</td>\n",
       "      <td>France</td>\n",
       "    </tr>\n",
       "    <tr>\n",
       "      <th>493</th>\n",
       "      <td>7</td>\n",
       "      <td>3</td>\n",
       "      <td>4</td>\n",
       "      <td>3</td>\n",
       "      <td>2</td>\n",
       "      <td>5</td>\n",
       "      <td>Austria</td>\n",
       "    </tr>\n",
       "    <tr>\n",
       "      <th>128</th>\n",
       "      <td>5</td>\n",
       "      <td>2</td>\n",
       "      <td>5</td>\n",
       "      <td>5</td>\n",
       "      <td>3</td>\n",
       "      <td>5</td>\n",
       "      <td>United Kingdom</td>\n",
       "    </tr>\n",
       "    <tr>\n",
       "      <th>16</th>\n",
       "      <td>4</td>\n",
       "      <td>3</td>\n",
       "      <td>4</td>\n",
       "      <td>5</td>\n",
       "      <td>3</td>\n",
       "      <td>4</td>\n",
       "      <td>France</td>\n",
       "    </tr>\n",
       "    <tr>\n",
       "      <th>813</th>\n",
       "      <td>3</td>\n",
       "      <td>2</td>\n",
       "      <td>4</td>\n",
       "      <td>5</td>\n",
       "      <td>2</td>\n",
       "      <td>4</td>\n",
       "      <td>Russia</td>\n",
       "    </tr>\n",
       "    <tr>\n",
       "      <th>743</th>\n",
       "      <td>5</td>\n",
       "      <td>3</td>\n",
       "      <td>4</td>\n",
       "      <td>4</td>\n",
       "      <td>2</td>\n",
       "      <td>4</td>\n",
       "      <td>India</td>\n",
       "    </tr>\n",
       "    <tr>\n",
       "      <th>519</th>\n",
       "      <td>4</td>\n",
       "      <td>2</td>\n",
       "      <td>5</td>\n",
       "      <td>5</td>\n",
       "      <td>2</td>\n",
       "      <td>4</td>\n",
       "      <td>Austria</td>\n",
       "    </tr>\n",
       "    <tr>\n",
       "      <th>800</th>\n",
       "      <td>5</td>\n",
       "      <td>2</td>\n",
       "      <td>4</td>\n",
       "      <td>4</td>\n",
       "      <td>2</td>\n",
       "      <td>4</td>\n",
       "      <td>Russia</td>\n",
       "    </tr>\n",
       "    <tr>\n",
       "      <th>621</th>\n",
       "      <td>5</td>\n",
       "      <td>3</td>\n",
       "      <td>4</td>\n",
       "      <td>4</td>\n",
       "      <td>2</td>\n",
       "      <td>4</td>\n",
       "      <td>Finland</td>\n",
       "    </tr>\n",
       "    <tr>\n",
       "      <th>350</th>\n",
       "      <td>5</td>\n",
       "      <td>3</td>\n",
       "      <td>4</td>\n",
       "      <td>4</td>\n",
       "      <td>2</td>\n",
       "      <td>4</td>\n",
       "      <td>Switzerland</td>\n",
       "    </tr>\n",
       "  </tbody>\n",
       "</table>\n",
       "</div>"
      ],
      "text/plain": [
       "     (gdp_stationary, 0)  (energy_per_capita_stationary, 0)  \\\n",
       "29                     4                                  3   \n",
       "493                    7                                  3   \n",
       "128                    5                                  2   \n",
       "16                     4                                  3   \n",
       "813                    3                                  2   \n",
       "743                    5                                  3   \n",
       "519                    4                                  2   \n",
       "800                    5                                  2   \n",
       "621                    5                                  3   \n",
       "350                    5                                  3   \n",
       "\n",
       "     (population_stationary, 0)  (gdp_stationary, 1)  \\\n",
       "29                            5                    5   \n",
       "493                           4                    3   \n",
       "128                           5                    5   \n",
       "16                            4                    5   \n",
       "813                           4                    5   \n",
       "743                           4                    4   \n",
       "519                           5                    5   \n",
       "800                           4                    4   \n",
       "621                           4                    4   \n",
       "350                           4                    4   \n",
       "\n",
       "     (energy_per_capita_stationary, 1)  (population_stationary, 1)  \\\n",
       "29                                   2                           5   \n",
       "493                                  2                           5   \n",
       "128                                  3                           5   \n",
       "16                                   3                           4   \n",
       "813                                  2                           4   \n",
       "743                                  2                           4   \n",
       "519                                  2                           4   \n",
       "800                                  2                           4   \n",
       "621                                  2                           4   \n",
       "350                                  2                           4   \n",
       "\n",
       "            country  \n",
       "29           France  \n",
       "493         Austria  \n",
       "128  United Kingdom  \n",
       "16           France  \n",
       "813          Russia  \n",
       "743           India  \n",
       "519         Austria  \n",
       "800          Russia  \n",
       "621         Finland  \n",
       "350     Switzerland  "
      ]
     },
     "execution_count": 583,
     "metadata": {},
     "output_type": "execute_result"
    }
   ],
   "source": [
    "for i, country in enumerate(countries):\n",
    "\n",
    "    # select country and relevant columns\n",
    "    df_country = df_index[df_index.country == country]\n",
    "    df_country = df_country.drop([\"country\", \"year\"], axis=1)\n",
    "    \n",
    "    print(f\"Country: {country}\", df_country.shape)\n",
    "\n",
    "    # transform in a pgmpy friendly dataframe\n",
    "    df_pgmpy_country = pgmpy_friendly_transformer(\n",
    "        df=df_country, \n",
    "        sliding_window=sliding_window\n",
    "    )\n",
    "    df_pgmpy_country[\"country\"] = country\n",
    "\n",
    "    if i == 0:\n",
    "        df_pgmpy = df_pgmpy_country\n",
    "    else:\n",
    "        df_pgmpy = pd.concat([df_pgmpy, df_pgmpy_country])\n",
    "\n",
    "df_pgmpy.reset_index(inplace=True, drop=True)\n",
    "df_pgmpy.sample(10)"
   ]
  },
  {
   "cell_type": "code",
   "execution_count": 584,
   "metadata": {},
   "outputs": [
    {
     "data": {
      "text/html": [
       "<div>\n",
       "<style scoped>\n",
       "    .dataframe tbody tr th:only-of-type {\n",
       "        vertical-align: middle;\n",
       "    }\n",
       "\n",
       "    .dataframe tbody tr th {\n",
       "        vertical-align: top;\n",
       "    }\n",
       "\n",
       "    .dataframe thead th {\n",
       "        text-align: right;\n",
       "    }\n",
       "</style>\n",
       "<table border=\"1\" class=\"dataframe\">\n",
       "  <thead>\n",
       "    <tr style=\"text-align: right;\">\n",
       "      <th></th>\n",
       "      <th>(gdp_stationary, 0)</th>\n",
       "      <th>(energy_per_capita_stationary, 0)</th>\n",
       "      <th>(population_stationary, 0)</th>\n",
       "      <th>(gdp_stationary, 1)</th>\n",
       "      <th>(energy_per_capita_stationary, 1)</th>\n",
       "      <th>(population_stationary, 1)</th>\n",
       "      <th>country</th>\n",
       "    </tr>\n",
       "  </thead>\n",
       "  <tbody>\n",
       "    <tr>\n",
       "      <th>44</th>\n",
       "      <td>5</td>\n",
       "      <td>2</td>\n",
       "      <td>4</td>\n",
       "      <td>4</td>\n",
       "      <td>3</td>\n",
       "      <td>4</td>\n",
       "      <td>France</td>\n",
       "    </tr>\n",
       "    <tr>\n",
       "      <th>45</th>\n",
       "      <td>4</td>\n",
       "      <td>3</td>\n",
       "      <td>4</td>\n",
       "      <td>5</td>\n",
       "      <td>3</td>\n",
       "      <td>4</td>\n",
       "      <td>France</td>\n",
       "    </tr>\n",
       "    <tr>\n",
       "      <th>46</th>\n",
       "      <td>5</td>\n",
       "      <td>3</td>\n",
       "      <td>4</td>\n",
       "      <td>4</td>\n",
       "      <td>2</td>\n",
       "      <td>4</td>\n",
       "      <td>France</td>\n",
       "    </tr>\n",
       "    <tr>\n",
       "      <th>47</th>\n",
       "      <td>4</td>\n",
       "      <td>2</td>\n",
       "      <td>4</td>\n",
       "      <td>5</td>\n",
       "      <td>3</td>\n",
       "      <td>4</td>\n",
       "      <td>France</td>\n",
       "    </tr>\n",
       "    <tr>\n",
       "      <th>48</th>\n",
       "      <td>5</td>\n",
       "      <td>3</td>\n",
       "      <td>4</td>\n",
       "      <td>4</td>\n",
       "      <td>2</td>\n",
       "      <td>4</td>\n",
       "      <td>France</td>\n",
       "    </tr>\n",
       "  </tbody>\n",
       "</table>\n",
       "</div>"
      ],
      "text/plain": [
       "    (gdp_stationary, 0)  (energy_per_capita_stationary, 0)  \\\n",
       "44                    5                                  2   \n",
       "45                    4                                  3   \n",
       "46                    5                                  3   \n",
       "47                    4                                  2   \n",
       "48                    5                                  3   \n",
       "\n",
       "    (population_stationary, 0)  (gdp_stationary, 1)  \\\n",
       "44                           4                    4   \n",
       "45                           4                    5   \n",
       "46                           4                    4   \n",
       "47                           4                    5   \n",
       "48                           4                    4   \n",
       "\n",
       "    (energy_per_capita_stationary, 1)  (population_stationary, 1) country  \n",
       "44                                  3                           4  France  \n",
       "45                                  3                           4  France  \n",
       "46                                  2                           4  France  \n",
       "47                                  3                           4  France  \n",
       "48                                  2                           4  France  "
      ]
     },
     "execution_count": 584,
     "metadata": {},
     "output_type": "execute_result"
    }
   ],
   "source": [
    "df_pgmpy[df_pgmpy.country == \"France\"].tail()"
   ]
  },
  {
   "cell_type": "markdown",
   "metadata": {},
   "source": [
    "# Model "
   ]
  },
  {
   "cell_type": "markdown",
   "metadata": {},
   "source": [
    "### Training "
   ]
  },
  {
   "cell_type": "code",
   "execution_count": 585,
   "metadata": {},
   "outputs": [],
   "source": [
    "# build model \n",
    "dbn = DBN([\n",
    "    ((\"gdp_stationary\", 0), (\"energy_per_capita_stationary\", 0)), \n",
    "    ((\"population_stationary\", 0), (\"energy_per_capita_stationary\", 0)), \n",
    "    ((\"population_stationary\", 0), (\"population_stationary\", 1)), \n",
    "    ((\"gdp_stationary\", 0), (\"gdp_stationary\", 1))\n",
    "])"
   ]
  },
  {
   "cell_type": "code",
   "execution_count": 586,
   "metadata": {},
   "outputs": [],
   "source": [
    "dbn.fit(df_pgmpy.drop(\"country\", axis=1))"
   ]
  },
  {
   "cell_type": "markdown",
   "metadata": {},
   "source": [
    "# Inferences "
   ]
  },
  {
   "cell_type": "markdown",
   "metadata": {},
   "source": [
    "### Scenarios"
   ]
  },
  {
   "cell_type": "code",
   "execution_count": 587,
   "metadata": {},
   "outputs": [],
   "source": [
    "length = df_test.shape[0]\n",
    "col_evidence = [\"population_stationary\", \"gdp_stationary\"]\n",
    "\n",
    "scenario = {}\n",
    "for col in col_evidence:\n",
    "    new_evidence = {(col, i): df_test[df_test.year == split_year+i].iloc[0][col]\n",
    "                    for i in range(1, length+1)}\n",
    "    scenario.update(new_evidence)"
   ]
  },
  {
   "cell_type": "code",
   "execution_count": 588,
   "metadata": {},
   "outputs": [
    {
     "data": {
      "text/html": [
       "<div>\n",
       "<style scoped>\n",
       "    .dataframe tbody tr th:only-of-type {\n",
       "        vertical-align: middle;\n",
       "    }\n",
       "\n",
       "    .dataframe tbody tr th {\n",
       "        vertical-align: top;\n",
       "    }\n",
       "\n",
       "    .dataframe thead th {\n",
       "        text-align: right;\n",
       "    }\n",
       "</style>\n",
       "<table border=\"1\" class=\"dataframe\">\n",
       "  <thead>\n",
       "    <tr style=\"text-align: right;\">\n",
       "      <th></th>\n",
       "      <th>gdp_stationary</th>\n",
       "      <th>energy_per_capita_stationary</th>\n",
       "      <th>population_stationary</th>\n",
       "      <th>country</th>\n",
       "      <th>year</th>\n",
       "    </tr>\n",
       "  </thead>\n",
       "  <tbody>\n",
       "    <tr>\n",
       "      <th>20575</th>\n",
       "      <td>0.063180</td>\n",
       "      <td>0.072645</td>\n",
       "      <td>0.000181</td>\n",
       "      <td>United Kingdom</td>\n",
       "      <td>2010</td>\n",
       "    </tr>\n",
       "    <tr>\n",
       "      <th>20576</th>\n",
       "      <td>-0.003996</td>\n",
       "      <td>-0.078916</td>\n",
       "      <td>0.000085</td>\n",
       "      <td>United Kingdom</td>\n",
       "      <td>2011</td>\n",
       "    </tr>\n",
       "    <tr>\n",
       "      <th>20577</th>\n",
       "      <td>-0.000972</td>\n",
       "      <td>0.073898</td>\n",
       "      <td>-0.000131</td>\n",
       "      <td>United Kingdom</td>\n",
       "      <td>2012</td>\n",
       "    </tr>\n",
       "    <tr>\n",
       "      <th>20578</th>\n",
       "      <td>0.005874</td>\n",
       "      <td>-0.018774</td>\n",
       "      <td>-0.000515</td>\n",
       "      <td>United Kingdom</td>\n",
       "      <td>2013</td>\n",
       "    </tr>\n",
       "    <tr>\n",
       "      <th>20579</th>\n",
       "      <td>0.011142</td>\n",
       "      <td>-0.053258</td>\n",
       "      <td>-0.000404</td>\n",
       "      <td>United Kingdom</td>\n",
       "      <td>2014</td>\n",
       "    </tr>\n",
       "  </tbody>\n",
       "</table>\n",
       "</div>"
      ],
      "text/plain": [
       "       gdp_stationary  energy_per_capita_stationary  population_stationary  \\\n",
       "20575        0.063180                      0.072645               0.000181   \n",
       "20576       -0.003996                     -0.078916               0.000085   \n",
       "20577       -0.000972                      0.073898              -0.000131   \n",
       "20578        0.005874                     -0.018774              -0.000515   \n",
       "20579        0.011142                     -0.053258              -0.000404   \n",
       "\n",
       "              country  year  \n",
       "20575  United Kingdom  2010  \n",
       "20576  United Kingdom  2011  \n",
       "20577  United Kingdom  2012  \n",
       "20578  United Kingdom  2013  \n",
       "20579  United Kingdom  2014  "
      ]
     },
     "execution_count": 588,
     "metadata": {},
     "output_type": "execute_result"
    }
   ],
   "source": [
    "df_test.head()"
   ]
  },
  {
   "cell_type": "code",
   "execution_count": 589,
   "metadata": {},
   "outputs": [
    {
     "data": {
      "text/plain": [
       "{('population_stationary', 1): 0.0001810698524025156,\n",
       " ('population_stationary', 2): 8.468730433008886e-05,\n",
       " ('population_stationary', 3): -0.00013097201121681223,\n",
       " ('population_stationary', 4): -0.0005148046793017613,\n",
       " ('population_stationary', 5): -0.0004040620997436406,\n",
       " ('population_stationary', 6): -0.00036478203674050746,\n",
       " ('population_stationary', 7): -0.0003527855706124683,\n",
       " ('population_stationary', 8): -0.0003643918414475422,\n",
       " ('population_stationary', 9): -0.0006616720437797596,\n",
       " ('gdp_stationary', 1): 0.06318027056601139,\n",
       " ('gdp_stationary', 2): -0.003996095844303937,\n",
       " ('gdp_stationary', 3): -0.0009716086931064183,\n",
       " ('gdp_stationary', 4): 0.0058743653124935236,\n",
       " ('gdp_stationary', 5): 0.011142151831688096,\n",
       " ('gdp_stationary', 6): -0.008382448784225005,\n",
       " ('gdp_stationary', 7): -0.0035271991237877387,\n",
       " ('gdp_stationary', 8): 0.0005828638631264482,\n",
       " ('gdp_stationary', 9): -0.005425898788679717}"
      ]
     },
     "execution_count": 589,
     "metadata": {},
     "output_type": "execute_result"
    }
   ],
   "source": [
    "scenario"
   ]
  },
  {
   "cell_type": "code",
   "execution_count": 590,
   "metadata": {},
   "outputs": [],
   "source": [
    "# [discretizer.reverse_indexer(column_name=\"energy_per_capita_stationary\", ind=i) \n",
    "#  for i in range(10)]"
   ]
  },
  {
   "cell_type": "code",
   "execution_count": 600,
   "metadata": {},
   "outputs": [
    {
     "name": "stderr",
     "output_type": "stream",
     "text": [
      "WARNING:pgmpy:Replacing existing CPD for (gdp_stationary, 1)\n",
      "WARNING:pgmpy:Replacing existing CPD for (population_stationary, 1)\n"
     ]
    },
    {
     "name": "stdout",
     "output_type": "stream",
     "text": [
      "Evidence:  {('population_stationary', 1): 0.0001810698524025156, ('population_stationary', 2): 8.468730433008886e-05, ('population_stationary', 3): -0.00013097201121681223, ('population_stationary', 4): -0.0005148046793017613, ('population_stationary', 5): -0.0004040620997436406, ('population_stationary', 6): -0.00036478203674050746, ('population_stationary', 7): -0.0003527855706124683, ('population_stationary', 8): -0.0003643918414475422, ('population_stationary', 9): -0.0006616720437797596, ('gdp_stationary', 1): 0.06318027056601139, ('gdp_stationary', 2): -0.003996095844303937, ('gdp_stationary', 3): -0.0009716086931064183, ('gdp_stationary', 4): 0.0058743653124935236, ('gdp_stationary', 5): 0.011142151831688096, ('gdp_stationary', 6): -0.008382448784225005, ('gdp_stationary', 7): -0.0035271991237877387, ('gdp_stationary', 8): 0.0005828638631264482, ('gdp_stationary', 9): -0.005425898788679717, ('population_stationary', 0): 0.0002567015163066344, ('gdp_stationary', 0): -0.03792492754568144} \n",
      "\n",
      "Actual seq:  [0.07264462702828567, -0.07891587648940579, 0.07389808110427154, -0.018774369205093677, -0.053258282062351725, 0.07316343664333935, -0.025985683695509465, 0.01137462558478397, -0.0038592837416917547]\n",
      "Pred seq:  [-0.03714903120881878, -0.03714903120881878, -0.03714903120881878, 0.03714903120881878, 0.03714903120881878, -0.03714903120881878, -0.03714903120881878, 0.03714903120881878, -0.03714903120881878]\n"
     ]
    },
    {
     "name": "stderr",
     "output_type": "stream",
     "text": [
      "c:\\Users\\elkan\\anaconda3\\envs\\time_series\\lib\\site-packages\\pgmpy\\factors\\discrete\\DiscreteFactor.py:799: RuntimeWarning: invalid value encountered in true_divide\n",
      "  phi.values = phi.values / phi1.values\n"
     ]
    }
   ],
   "source": [
    "# use custom inference for model test\n",
    "inference = CustomDBNInference(dbn, discretizer)\n",
    "\n",
    "# provide evidence\n",
    "evidence = {\n",
    "    (\"population_stationary\", 0): df_train[(df_train.country==test_country)\n",
    "                                           & (df_train.year == split_year)].iloc[0][\"population_stationary\"], \n",
    "    (\"gdp_stationary\", 0): df_train[(df_train.country==test_country)\n",
    "                                    & (df_train.year == split_year)].iloc[0][\"gdp_stationary\"], \n",
    "}\n",
    "\n",
    "scenario.update(evidence)\n",
    "\n",
    "print(\"Evidence: \", scenario, \"\\n\")\n",
    "\n",
    "# now make a pred of Y at time t (now) till time t+horizon\n",
    "pred_seq = inference.make_pred(\"energy_per_capita_stationary\",\n",
    "                               forecast_step=length+1, \n",
    "                               evidence=scenario, \n",
    "                               method=\"PM\", \n",
    "                               verbose=False)\n",
    "\n",
    "# get actual values model should have predicted \n",
    "actual_seq =  list(df_test.energy_per_capita_stationary)\n",
    "\n",
    "print(\"Actual seq: \", actual_seq)\n",
    "print(\"Pred seq: \", pred_seq[1:])"
   ]
  },
  {
   "cell_type": "code",
   "execution_count": 601,
   "metadata": {},
   "outputs": [
    {
     "name": "stdout",
     "output_type": "stream",
     "text": [
      "54 54 45\n"
     ]
    },
    {
     "data": {
      "image/png": "[encoded data removed]",
      "text/plain": [
       "<Figure size 640x480 with 1 Axes>"
      ]
     },
     "metadata": {},
     "output_type": "display_data"
    }
   ],
   "source": [
    "# get sequences for comparison\n",
    "past_seq = df_stationary[(df_stationary.country == test_country)\n",
    "                         & (df_stationary.year <= split_year)].energy_per_capita_stationary.to_list()\n",
    "all_pred_seq = np.array(past_seq + pred_seq[1:]) \n",
    "all_actual_seq = np.array(past_seq + actual_seq)\n",
    "\n",
    "nb_points = all_actual_seq.shape[0]\n",
    "x_ = pd.unique(df_stationary.year)\n",
    "print(len(x_), all_pred_seq.shape[0], len(past_seq))\n",
    "\n",
    "# get curves on a sampe plot\n",
    "plt.plot(np.arange(nb_points), all_actual_seq, label=\"Actual values\")\n",
    "plt.plot(np.arange(nb_points), all_pred_seq, label=\"Prediction\")\n",
    "\n",
    "plt.title(\"Inference of scenario 1\")\n",
    "plt.xlabel(\"Time (t)\")\n",
    "plt.ylabel(\"Y(t)\")\n",
    "plt.legend()\n",
    "plt.show()"
   ]
  },
  {
   "cell_type": "code",
   "execution_count": 602,
   "metadata": {},
   "outputs": [],
   "source": [
    "def reconstruct_signal(pred, past):\n",
    "    \"\"\"\n",
    "    \"\"\"\n",
    "    true_pred = np.zeros_like(pred, dtype=np.float32)\n",
    "    for i, val in np.ndenumerate(pred):\n",
    "\n",
    "        x, y = past[-2:]\n",
    "\n",
    "        new_y = np.exp(val - np.log(x) + 2*np.log(y))\n",
    "        true_pred[i] = new_y\n",
    "        \n",
    "        past = np.hstack([past, new_y])\n",
    "\n",
    "    past_array = np.array(past)\n",
    "    return past_array"
   ]
  },
  {
   "cell_type": "markdown",
   "metadata": {},
   "source": [
    "# Comparison with ARIMA model"
   ]
  },
  {
   "cell_type": "code",
   "execution_count": 603,
   "metadata": {},
   "outputs": [
    {
     "data": {
      "image/png": "[encoded data removed]",
      "text/plain": [
       "<Figure size 640x480 with 1 Axes>"
      ]
     },
     "metadata": {},
     "output_type": "display_data"
    }
   ],
   "source": [
    "#\n",
    "ts_stationary = df_stationary[df_stationary.country == test_country]\n",
    "ts_stationary.set_index(\"year\", inplace=True, drop=True)\n",
    "ts_stationary = ts_stationary[[\"energy_per_capita_stationary\"]]\n",
    "ts_stationary.dropna(inplace=True)\n",
    "\n",
    "plot_acf(ts_stationary[ts_stationary.index <= split_year], lags=5)\n",
    "plt.title('Autocorrelation Function (ACF)')\n",
    "plt.show()"
   ]
  },
  {
   "cell_type": "code",
   "execution_count": 604,
   "metadata": {},
   "outputs": [
    {
     "data": {
      "image/png": "[encoded data removed]",
      "text/plain": [
       "<Figure size 640x480 with 1 Axes>"
      ]
     },
     "metadata": {},
     "output_type": "display_data"
    }
   ],
   "source": [
    "plot_pacf(ts_stationary[ts_stationary <= split_year], lags=20)\n",
    "plt.title('Partial Autocorrelation Function (PACF)')\n",
    "plt.show()"
   ]
  },
  {
   "cell_type": "code",
   "execution_count": 605,
   "metadata": {},
   "outputs": [
    {
     "name": "stderr",
     "output_type": "stream",
     "text": [
      "c:\\Users\\elkan\\anaconda3\\envs\\time_series\\lib\\site-packages\\statsmodels\\tsa\\base\\tsa_model.py:473: ValueWarning: An unsupported index was provided and will be ignored when e.g. forecasting.\n",
      "  self._init_dates(dates, freq)\n",
      "c:\\Users\\elkan\\anaconda3\\envs\\time_series\\lib\\site-packages\\statsmodels\\tsa\\base\\tsa_model.py:473: ValueWarning: An unsupported index was provided and will be ignored when e.g. forecasting.\n",
      "  self._init_dates(dates, freq)\n",
      "c:\\Users\\elkan\\anaconda3\\envs\\time_series\\lib\\site-packages\\statsmodels\\tsa\\base\\tsa_model.py:473: ValueWarning: An unsupported index was provided and will be ignored when e.g. forecasting.\n",
      "  self._init_dates(dates, freq)\n"
     ]
    },
    {
     "name": "stdout",
     "output_type": "stream",
     "text": [
      "                                    SARIMAX Results                                     \n",
      "========================================================================================\n",
      "Dep. Variable:     energy_per_capita_stationary   No. Observations:                   52\n",
      "Model:                           ARIMA(1, 0, 2)   Log Likelihood                 109.895\n",
      "Date:                          Wed, 10 Apr 2024   AIC                           -209.790\n",
      "Time:                                  15:21:27   BIC                           -200.034\n",
      "Sample:                                       0   HQIC                          -206.050\n",
      "                                           - 52                                         \n",
      "Covariance Type:                            opg                                         \n",
      "==============================================================================\n",
      "                 coef    std err          z      P>|z|      [0.025      0.975]\n",
      "------------------------------------------------------------------------------\n",
      "const         -0.0005      0.000     -1.375      0.169      -0.001       0.000\n",
      "ar.L1         -0.9137      0.136     -6.716      0.000      -1.180      -0.647\n",
      "ma.L1         -0.0056    123.156  -4.59e-05      1.000    -241.386     241.375\n",
      "ma.L2         -0.9943    122.346     -0.008      0.994    -240.788     238.800\n",
      "sigma2         0.0008      0.096      0.008      0.994      -0.187       0.189\n",
      "===================================================================================\n",
      "Ljung-Box (L1) (Q):                   0.67   Jarque-Bera (JB):                14.68\n",
      "Prob(Q):                              0.41   Prob(JB):                         0.00\n",
      "Heteroskedasticity (H):               0.48   Skew:                            -1.07\n",
      "Prob(H) (two-sided):                  0.14   Kurtosis:                         4.47\n",
      "===================================================================================\n",
      "\n",
      "Warnings:\n",
      "[1] Covariance matrix calculated using the outer product of gradients (complex-step).\n"
     ]
    },
    {
     "name": "stderr",
     "output_type": "stream",
     "text": [
      "c:\\Users\\elkan\\anaconda3\\envs\\time_series\\lib\\site-packages\\statsmodels\\base\\model.py:607: ConvergenceWarning: Maximum Likelihood optimization failed to converge. Check mle_retvals\n",
      "  warnings.warn(\"Maximum Likelihood optimization failed to \"\n",
      "c:\\Users\\elkan\\anaconda3\\envs\\time_series\\lib\\site-packages\\statsmodels\\tsa\\base\\tsa_model.py:836: ValueWarning: No supported index is available. Prediction results will be given with an integer index beginning at `start`.\n",
      "  return get_prediction_index(\n",
      "c:\\Users\\elkan\\anaconda3\\envs\\time_series\\lib\\site-packages\\statsmodels\\tsa\\base\\tsa_model.py:836: FutureWarning: No supported index is available. In the next version, calling this method in a model without a supported index will result in an exception.\n",
      "  return get_prediction_index(\n"
     ]
    }
   ],
   "source": [
    "# Replace p, d, q values with the parameters determined from ACF and PACF plots\n",
    "p = 1  # AR order\n",
    "d = 0  # differencing order (set to 0 for stationary data)\n",
    "q = 2  # MA order\n",
    "model = ARIMA(ts_stationary[ts_stationary <= split_year], order=(p, d, q))\n",
    "results = model.fit()\n",
    "\n",
    "# Summary of the ARIMA model\n",
    "print(results.summary())\n",
    "\n",
    "# Forecast future values\n",
    "forecast_steps = length  # Number of steps ahead to forecast\n",
    "forecast = results.forecast(steps=forecast_steps)\n",
    "\n",
    "ts_stationary[\"pred_arima\"] = list(ts_stationary[ts_stationary.index <= split_year].values) + list(forecast)"
   ]
  },
  {
   "cell_type": "code",
   "execution_count": 606,
   "metadata": {},
   "outputs": [],
   "source": [
    "ts_stationary[\"pred_DBN\"] = list(ts_stationary[ts_stationary.index <= split_year].energy_per_capita_stationary) + list(pred_seq[1:])"
   ]
  },
  {
   "cell_type": "code",
   "execution_count": 607,
   "metadata": {},
   "outputs": [
    {
     "data": {
      "image/png": "[encoded data removed]",
      "text/plain": [
       "<Figure size 1000x600 with 1 Axes>"
      ]
     },
     "metadata": {},
     "output_type": "display_data"
    }
   ],
   "source": [
    "# Plot the original time series and the forecasted values\n",
    "plt.figure(figsize=(10, 6))\n",
    "plt.plot(ts_stationary.energy_per_capita_stationary, label='Original Data')\n",
    "plt.plot(ts_stationary[ts_stationary.index >= split_year].pred_arima, label='ARIMA', color='red')\n",
    "plt.plot(ts_stationary[ts_stationary.index >= split_year].pred_DBN, label='D-DBN', color='orange')\n",
    "plt.title('ARIMA Forecast')\n",
    "plt.xlabel('Date')\n",
    "plt.ylabel('Value')\n",
    "plt.legend()\n",
    "plt.show()"
   ]
  },
  {
   "cell_type": "code",
   "execution_count": 608,
   "metadata": {},
   "outputs": [
    {
     "data": {
      "text/plain": [
       "<matplotlib.legend.Legend at 0x1de5a6aafa0>"
      ]
     },
     "execution_count": 608,
     "metadata": {},
     "output_type": "execute_result"
    },
    {
     "data": {
      "image/png": "[encoded data removed]",
      "text/plain": [
       "<Figure size 640x480 with 1 Axes>"
      ]
     },
     "metadata": {},
     "output_type": "display_data"
    }
   ],
   "source": [
    "past_seq = list(data[(data.country == test_country)\n",
    "                     & (data.year <= split_year)].energy_per_capita)\n",
    "true_actual = data[(data.country == test_country)].energy_per_capita.to_numpy()\n",
    "\n",
    "rec_actual = reconstruct_signal(actual_seq, past_seq)\n",
    "true_pred_DBN = reconstruct_signal(pred_seq[1:], past_seq)\n",
    "true_pred_ARIMA = reconstruct_signal(forecast, past_seq)\n",
    "\n",
    "plt.plot(true_pred_ARIMA, label=\"ARIMA prediction\")\n",
    "plt.plot(true_pred_DBN, label=\"DBN Prediction\")\n",
    "plt.plot(true_actual, label=\"Actual sequence\")\n",
    "\n",
    "plt.legend()"
   ]
  }
 ],
 "metadata": {
  "kernelspec": {
   "display_name": "time_series",
   "language": "python",
   "name": "python3"
  },
  "language_info": {
   "codemirror_mode": {
    "name": "ipython",
    "version": 3
   },
   "file_extension": ".py",
   "mimetype": "text/x-python",
   "name": "python",
   "nbconvert_exporter": "python",
   "pygments_lexer": "ipython3",
   "version": "3.9.18"
  }
 },
 "nbformat": 4,
 "nbformat_minor": 2
}
